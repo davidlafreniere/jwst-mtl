{
 "cells": [
  {
   "cell_type": "code",
   "execution_count": 1,
   "metadata": {},
   "outputs": [],
   "source": [
    "import sys\n",
    "sys.path.insert(0, \"trace/\")\n",
    "sys.path.insert(0, \"specgen/\")\n",
    "sys.path.insert(0, \"specgen/fortranlib/\")\n",
    "\n",
    "import os #checking status of requested files\n",
    "#os.environ[\"OMP_NUM_THREADS\"] = \"24\"\n",
    "\n",
    "import numpy as np #numpy gives us better array management \n",
    "\n",
    "#Will be used to create FITS writer \n",
    "from astropy.io import fits #astropy modules for FITS IO\n",
    "\n",
    "import matplotlib  #ploting\n",
    "import matplotlib.pyplot as plt\n",
    "%matplotlib inline\n",
    "\n",
    "from skimage.transform import downscale_local_mean, resize\n",
    "\n",
    "from tqdm.notebook import trange\n",
    "from tqdm.notebook import tqdm as tqdm_notebook\n",
    "\n",
    "import pyfftw\n",
    "import multiprocessing as mp\n",
    "#import scipy.signal\n",
    "import scipy.fft\n",
    "from matplotlib.colors import LogNorm\n",
    "ncpu=mp.cpu_count()\n",
    "pyfftw.config.NUM_THREADS = ncpu\n",
    "\n",
    "#Trace Library\n",
    "import tracepol as tp\n",
    "\n",
    "#Used to monitor progress for multiprocessing pools\n",
    "def barupdate(result):\n",
    "    pbar.update()"
   ]
  },
  {
   "cell_type": "markdown",
   "metadata": {},
   "source": [
    "## How to Compile Fortran libraries\n",
    "in the utils folder run:  \n",
    "  \n",
    "`f2py3 -c tfit5.pyf transitmodel.f keplerian.f ttcor.f occultquad.f mandelagol.f rqsort.f transitdur.f -lpthread -liomp5 --fcompiler=intelem --f90flags='-parallel -mkl -qopenmp' --f77flags='-parallel -mkl -qopenmp'`  \n",
    "  \n",
    "`f2py3 -c binmodels_py.pyf binmodels_py.f90 precision.f90 --fcompiler=intelem`  \n",
    "  \n",
    "move the .so files to your library import location (or current directory for your Jupyter notebook)\n",
    "\n",
    "## Maestria Specific notes:\n",
    "\n",
    "### Note: On maestria the intel compiler is not supported.  Please use gfortran instead:  \n",
    "  \n",
    "`f2py3 -c tfit5.pyf transitmodel.f keplerian.f ttcor.f occultquad.f mandelagol.f rqsort.f transitdur.f -lgomp --f90flags='-fopenmp' --f77flags='-fopenmp'`\n",
    "    \n",
    "`f2py3 -c binmodels_py.pyf binmodels_py.f90 precision.f90`   \n",
    "  \n",
    "### skimage-\n",
    "\n",
    "skimage package is not installed.  Local install needed:  \n",
    "  \n",
    "`pip3 install --user scikit-image`  \n",
    "\n"
   ]
  },
  {
   "cell_type": "code",
   "execution_count": 2,
   "metadata": {},
   "outputs": [],
   "source": [
    "import spgen as spgen #Python Routines for SpecGen Routines and wrappers for fast-Transit-model."
   ]
  },
  {
   "cell_type": "code",
   "execution_count": 3,
   "metadata": {},
   "outputs": [],
   "source": [
    "## Debugging cells\n",
    "\n",
    "#if not sys.warnoptions:\n",
    "#    import warnings\n",
    "#    warnings.simplefilter(\"ignore\")\n",
    "\n",
    "## For Debuging\n",
    "#import importlib\n",
    "\n",
    "#importlib.reload(spgen) "
   ]
  },
  {
   "cell_type": "markdown",
   "metadata": {},
   "source": [
    "## Notebook Parameters  \n",
    "These parameters set up the work environment and readin model parameters\n",
    "\n",
    "todo:  \n",
    "- add rprstype to get planetmodel type"
   ]
  },
  {
   "cell_type": "code",
   "execution_count": 4,
   "metadata": {},
   "outputs": [],
   "source": [
    "workdir='/home/loicalbert/Documents/python/gitdir/jwst-mtl/SOSS/' #root folder for local files\n",
    "response_file=workdir+'tables/NIRISS_Throughput_STScI.fits'\n",
    "pmodeltype=2  ## Needs to be added as model parameter.  \n",
    "trace_file=workdir+'./trace/NIRISS_GR700_trace_extended.csv'\n",
    "model_dir = '/data/JWST/'\n",
    "kernel_dir = '/data/JWST/' #'/data/JWST/Kernel/Kernels1/' currently hard coded in /Kernel/Kernels1/ need changing\n",
    "\n",
    "pars=spgen.ModelPars()              #Set up default parameters\n",
    "filename=workdir+'simpars_wide.txt'      #location of file for parameter import \n",
    "pars=spgen.read_pars(filename,pars) #read in parameter file\n",
    "\n",
    "pars.noversample=1 #example of changing a model parameter\n",
    "pars.xout=3000\n",
    "pars.yout=300\n",
    "\n",
    "# List the orders to be simulated\n",
    "# Current capability is 0 to 3 (June 26 2020)\n",
    "#order_list = np.array([1,2])\n",
    "order_list = np.array([0,1])"
   ]
  },
  {
   "cell_type": "code",
   "execution_count": 5,
   "metadata": {},
   "outputs": [
    {
     "name": "stdout",
     "output_type": "stream",
     "text": [
      "/data/JWST/pmodels/hd209458.csv\n",
      "500.0\n",
      "0.0\n",
      "10.0\n"
     ]
    }
   ],
   "source": [
    "print(model_dir+pars.pmodelfile[0])\n",
    "print(pars.xcoo)\n",
    "print(pars.ycoo)\n",
    "print(pars.roll)"
   ]
  },
  {
   "cell_type": "markdown",
   "metadata": {},
   "source": [
    "## Full Run to get 1-frame  \n",
    "  \n",
    "1) Get Instrument Response  \n",
    "  \n",
    "todo:  \n",
    "- responce file should be a parameter\n",
    "\n",
    "2) Read in Stellar Atmosphere  \n",
    "  \n",
    "todo: \n",
    "- ~~read in limb-darkening coefficients~~\n",
    "- read in new Pheonix stellar models \n",
    "\n",
    "3) Read in Planet atmosphere \n",
    "  \n",
    "todo:  \n",
    "- add pmodeltype as model parameter  \n",
    "\n",
    "4) Set up Trace \n",
    "  \n",
    "todo:  \n",
    "- set up as a default model parameter\n",
    "\n",
    "5) Resample Spectra onto a common grid  \n",
    "\n",
    "todo:  \n",
    "- ~~common wavelength grid~~\n",
    "- ~~bin starflux~~\n",
    "- ~~bin planet r/R*~~\n",
    "- ~~bin limb-darkening~~\n",
    "- add interpolation when resolution is insufficient  \n",
    "  \n",
    "6) Transit Model  \n",
    "  \n",
    "todo:  \n",
    "- ~~create solin array from pars.sol for each wavelength.~~\n",
    "- ~~calculate transit-depth at each wavelength~~\n",
    "- requires integration time\n",
    "- time should be an array.\n",
    "- add multiplanet capabilities  \n",
    "  \n",
    "7) Reading Kernels\n",
    "  \n",
    "todo:  \n",
    "- resampling of Kernels is not ideal.  Needs thought.\n",
    "  \n",
    "8) Generate image with n=1,2,3 orders  \n",
    "  \n",
    "todo:\n",
    "- ~~use resampled star,planet models~~\n",
    "- ~~use transit model~~  \n",
    "- scale total flux on detector using ETC output\n",
    "- add orders -2,-1,0"
   ]
  },
  {
   "cell_type": "code",
   "execution_count": 6,
   "metadata": {},
   "outputs": [
    {
     "name": "stdout",
     "output_type": "stream",
     "text": [
      "Reading in Planet model\n"
     ]
    }
   ],
   "source": [
    "print('Reading in Planet model')\n",
    "planetmodel_wv,planetmodel_rprs=spgen.readplanetmodel(model_dir+pars.pmodelfile[0],pmodeltype)"
   ]
  },
  {
   "cell_type": "code",
   "execution_count": 7,
   "metadata": {},
   "outputs": [],
   "source": [
    "# In the following bloc, the planet spectrum gj1214.txt can not be read. Have to handle that. Only hd209 works."
   ]
  },
  {
   "cell_type": "code",
   "execution_count": 8,
   "metadata": {
    "scrolled": false
   },
   "outputs": [
    {
     "name": "stdout",
     "output_type": "stream",
     "text": [
      "Reading in Response\n",
      "Reading Stellar model\n",
      "Reading in Planet model\n"
     ]
    },
    {
     "data": {
      "image/png": "[encoded data removed]",
      "text/plain": [
       "<Figure size 432x288 with 1 Axes>"
      ]
     },
     "metadata": {
      "needs_background": "light"
     },
     "output_type": "display_data"
    },
    {
     "name": "stdout",
     "output_type": "stream",
     "text": [
      "Setting up Trace\n",
      "m, order max =  -1.0 31\n"
     ]
    },
    {
     "name": "stderr",
     "output_type": "stream",
     "text": [
      "trace/tracepol.py:101: RankWarning: Polyfit may be poorly conditioned\n",
      "  pars = trace_polynomial(trace, m=m)\n",
      "trace/tracepol.py:101: RankWarning: Polyfit may be poorly conditioned\n",
      "  pars = trace_polynomial(trace, m=m)\n",
      "trace/tracepol.py:101: RankWarning: Polyfit may be poorly conditioned\n",
      "  pars = trace_polynomial(trace, m=m)\n",
      "trace/tracepol.py:101: RankWarning: Polyfit may be poorly conditioned\n",
      "  pars = trace_polynomial(trace, m=m)\n",
      "trace/tracepol.py:101: RankWarning: Polyfit may be poorly conditioned\n",
      "  pars = trace_polynomial(trace, m=m)\n",
      "trace/tracepol.py:101: RankWarning: Polyfit may be poorly conditioned\n",
      "  pars = trace_polynomial(trace, m=m)\n",
      "trace/tracepol.py:101: RankWarning: Polyfit may be poorly conditioned\n",
      "  pars = trace_polynomial(trace, m=m)\n",
      "trace/tracepol.py:101: RankWarning: Polyfit may be poorly conditioned\n",
      "  pars = trace_polynomial(trace, m=m)\n",
      "trace/tracepol.py:101: RankWarning: Polyfit may be poorly conditioned\n",
      "  pars = trace_polynomial(trace, m=m)\n",
      "trace/tracepol.py:101: RankWarning: Polyfit may be poorly conditioned\n",
      "  pars = trace_polynomial(trace, m=m)\n",
      "trace/tracepol.py:101: RankWarning: Polyfit may be poorly conditioned\n",
      "  pars = trace_polynomial(trace, m=m)\n",
      "trace/tracepol.py:101: RankWarning: Polyfit may be poorly conditioned\n",
      "  pars = trace_polynomial(trace, m=m)\n",
      "trace/tracepol.py:101: RankWarning: Polyfit may be poorly conditioned\n",
      "  pars = trace_polynomial(trace, m=m)\n",
      "trace/tracepol.py:101: RankWarning: Polyfit may be poorly conditioned\n",
      "  pars = trace_polynomial(trace, m=m)\n",
      "trace/tracepol.py:101: RankWarning: Polyfit may be poorly conditioned\n",
      "  pars = trace_polynomial(trace, m=m)\n",
      "trace/tracepol.py:101: RankWarning: Polyfit may be poorly conditioned\n",
      "  pars = trace_polynomial(trace, m=m)\n",
      "trace/tracepol.py:101: RankWarning: Polyfit may be poorly conditioned\n",
      "  pars = trace_polynomial(trace, m=m)\n",
      "trace/tracepol.py:101: RankWarning: Polyfit may be poorly conditioned\n",
      "  pars = trace_polynomial(trace, m=m)\n",
      "trace/tracepol.py:101: RankWarning: Polyfit may be poorly conditioned\n",
      "  pars = trace_polynomial(trace, m=m)\n",
      "trace/tracepol.py:101: RankWarning: Polyfit may be poorly conditioned\n",
      "  pars = trace_polynomial(trace, m=m)\n",
      "trace/tracepol.py:101: RankWarning: Polyfit may be poorly conditioned\n",
      "  pars = trace_polynomial(trace, m=m)\n",
      "trace/tracepol.py:101: RankWarning: Polyfit may be poorly conditioned\n",
      "  pars = trace_polynomial(trace, m=m)\n",
      "trace/tracepol.py:101: RankWarning: Polyfit may be poorly conditioned\n",
      "  pars = trace_polynomial(trace, m=m)\n",
      "trace/tracepol.py:101: RankWarning: Polyfit may be poorly conditioned\n",
      "  pars = trace_polynomial(trace, m=m)\n",
      "trace/tracepol.py:101: RankWarning: Polyfit may be poorly conditioned\n",
      "  pars = trace_polynomial(trace, m=m)\n",
      "trace/tracepol.py:101: RankWarning: Polyfit may be poorly conditioned\n",
      "  pars = trace_polynomial(trace, m=m)\n"
     ]
    },
    {
     "data": {
      "image/png": "[encoded data removed]",
      "text/plain": [
       "<Figure size 432x288 with 1 Axes>"
      ]
     },
     "metadata": {
      "needs_background": "light"
     },
     "output_type": "display_data"
    },
    {
     "name": "stderr",
     "output_type": "stream",
     "text": [
      "trace/tracepol.py:101: RankWarning: Polyfit may be poorly conditioned\n",
      "  pars = trace_polynomial(trace, m=m)\n"
     ]
    },
    {
     "name": "stdout",
     "output_type": "stream",
     "text": [
      "m, order max =  0.0 11\n"
     ]
    },
    {
     "data": {
      "image/png": "[encoded data removed]",
      "text/plain": [
       "<Figure size 432x288 with 1 Axes>"
      ]
     },
     "metadata": {
      "needs_background": "light"
     },
     "output_type": "display_data"
    },
    {
     "name": "stderr",
     "output_type": "stream",
     "text": [
      "trace/tracepol.py:101: RankWarning: Polyfit may be poorly conditioned\n",
      "  pars = trace_polynomial(trace, m=m)\n",
      "trace/tracepol.py:101: RankWarning: Polyfit may be poorly conditioned\n",
      "  pars = trace_polynomial(trace, m=m)\n",
      "trace/tracepol.py:101: RankWarning: Polyfit may be poorly conditioned\n",
      "  pars = trace_polynomial(trace, m=m)\n",
      "trace/tracepol.py:101: RankWarning: Polyfit may be poorly conditioned\n",
      "  pars = trace_polynomial(trace, m=m)\n",
      "trace/tracepol.py:101: RankWarning: Polyfit may be poorly conditioned\n",
      "  pars = trace_polynomial(trace, m=m)\n",
      "trace/tracepol.py:101: RankWarning: Polyfit may be poorly conditioned\n",
      "  pars = trace_polynomial(trace, m=m)\n",
      "trace/tracepol.py:101: RankWarning: Polyfit may be poorly conditioned\n",
      "  pars = trace_polynomial(trace, m=m)\n",
      "trace/tracepol.py:101: RankWarning: Polyfit may be poorly conditioned\n",
      "  pars = trace_polynomial(trace, m=m)\n",
      "trace/tracepol.py:101: RankWarning: Polyfit may be poorly conditioned\n",
      "  pars = trace_polynomial(trace, m=m)\n",
      "trace/tracepol.py:101: RankWarning: Polyfit may be poorly conditioned\n",
      "  pars = trace_polynomial(trace, m=m)\n",
      "trace/tracepol.py:101: RankWarning: Polyfit may be poorly conditioned\n",
      "  pars = trace_polynomial(trace, m=m)\n",
      "trace/tracepol.py:101: RankWarning: Polyfit may be poorly conditioned\n",
      "  pars = trace_polynomial(trace, m=m)\n",
      "trace/tracepol.py:101: RankWarning: Polyfit may be poorly conditioned\n",
      "  pars = trace_polynomial(trace, m=m)\n",
      "trace/tracepol.py:101: RankWarning: Polyfit may be poorly conditioned\n",
      "  pars = trace_polynomial(trace, m=m)\n",
      "trace/tracepol.py:101: RankWarning: Polyfit may be poorly conditioned\n",
      "  pars = trace_polynomial(trace, m=m)\n",
      "trace/tracepol.py:101: RankWarning: Polyfit may be poorly conditioned\n",
      "  pars = trace_polynomial(trace, m=m)\n",
      "trace/tracepol.py:101: RankWarning: Polyfit may be poorly conditioned\n",
      "  pars = trace_polynomial(trace, m=m)\n"
     ]
    },
    {
     "name": "stdout",
     "output_type": "stream",
     "text": [
      "m, order max =  1.0 30\n"
     ]
    },
    {
     "name": "stderr",
     "output_type": "stream",
     "text": [
      "trace/tracepol.py:101: RankWarning: Polyfit may be poorly conditioned\n",
      "  pars = trace_polynomial(trace, m=m)\n",
      "trace/tracepol.py:101: RankWarning: Polyfit may be poorly conditioned\n",
      "  pars = trace_polynomial(trace, m=m)\n",
      "trace/tracepol.py:101: RankWarning: Polyfit may be poorly conditioned\n",
      "  pars = trace_polynomial(trace, m=m)\n",
      "trace/tracepol.py:101: RankWarning: Polyfit may be poorly conditioned\n",
      "  pars = trace_polynomial(trace, m=m)\n",
      "trace/tracepol.py:101: RankWarning: Polyfit may be poorly conditioned\n",
      "  pars = trace_polynomial(trace, m=m)\n",
      "trace/tracepol.py:101: RankWarning: Polyfit may be poorly conditioned\n",
      "  pars = trace_polynomial(trace, m=m)\n",
      "trace/tracepol.py:101: RankWarning: Polyfit may be poorly conditioned\n",
      "  pars = trace_polynomial(trace, m=m)\n",
      "trace/tracepol.py:101: RankWarning: Polyfit may be poorly conditioned\n",
      "  pars = trace_polynomial(trace, m=m)\n",
      "trace/tracepol.py:101: RankWarning: Polyfit may be poorly conditioned\n",
      "  pars = trace_polynomial(trace, m=m)\n",
      "trace/tracepol.py:101: RankWarning: Polyfit may be poorly conditioned\n",
      "  pars = trace_polynomial(trace, m=m)\n"
     ]
    },
    {
     "data": {
      "image/png": "[encoded data removed]",
      "text/plain": [
       "<Figure size 432x288 with 1 Axes>"
      ]
     },
     "metadata": {
      "needs_background": "light"
     },
     "output_type": "display_data"
    },
    {
     "name": "stderr",
     "output_type": "stream",
     "text": [
      "trace/tracepol.py:101: RankWarning: Polyfit may be poorly conditioned\n",
      "  pars = trace_polynomial(trace, m=m)\n",
      "trace/tracepol.py:101: RankWarning: Polyfit may be poorly conditioned\n",
      "  pars = trace_polynomial(trace, m=m)\n",
      "trace/tracepol.py:101: RankWarning: Polyfit may be poorly conditioned\n",
      "  pars = trace_polynomial(trace, m=m)\n",
      "trace/tracepol.py:101: RankWarning: Polyfit may be poorly conditioned\n",
      "  pars = trace_polynomial(trace, m=m)\n",
      "trace/tracepol.py:101: RankWarning: Polyfit may be poorly conditioned\n",
      "  pars = trace_polynomial(trace, m=m)\n",
      "trace/tracepol.py:101: RankWarning: Polyfit may be poorly conditioned\n",
      "  pars = trace_polynomial(trace, m=m)\n",
      "trace/tracepol.py:101: RankWarning: Polyfit may be poorly conditioned\n",
      "  pars = trace_polynomial(trace, m=m)\n",
      "trace/tracepol.py:101: RankWarning: Polyfit may be poorly conditioned\n",
      "  pars = trace_polynomial(trace, m=m)\n",
      "trace/tracepol.py:101: RankWarning: Polyfit may be poorly conditioned\n",
      "  pars = trace_polynomial(trace, m=m)\n",
      "trace/tracepol.py:101: RankWarning: Polyfit may be poorly conditioned\n",
      "  pars = trace_polynomial(trace, m=m)\n",
      "trace/tracepol.py:101: RankWarning: Polyfit may be poorly conditioned\n",
      "  pars = trace_polynomial(trace, m=m)\n",
      "trace/tracepol.py:101: RankWarning: Polyfit may be poorly conditioned\n",
      "  pars = trace_polynomial(trace, m=m)\n",
      "trace/tracepol.py:101: RankWarning: Polyfit may be poorly conditioned\n",
      "  pars = trace_polynomial(trace, m=m)\n",
      "trace/tracepol.py:101: RankWarning: Polyfit may be poorly conditioned\n",
      "  pars = trace_polynomial(trace, m=m)\n",
      "trace/tracepol.py:101: RankWarning: Polyfit may be poorly conditioned\n",
      "  pars = trace_polynomial(trace, m=m)\n",
      "trace/tracepol.py:101: RankWarning: Polyfit may be poorly conditioned\n",
      "  pars = trace_polynomial(trace, m=m)\n",
      "trace/tracepol.py:101: RankWarning: Polyfit may be poorly conditioned\n",
      "  pars = trace_polynomial(trace, m=m)\n",
      "trace/tracepol.py:101: RankWarning: Polyfit may be poorly conditioned\n",
      "  pars = trace_polynomial(trace, m=m)\n",
      "trace/tracepol.py:101: RankWarning: Polyfit may be poorly conditioned\n",
      "  pars = trace_polynomial(trace, m=m)\n",
      "trace/tracepol.py:101: RankWarning: Polyfit may be poorly conditioned\n",
      "  pars = trace_polynomial(trace, m=m)\n",
      "trace/tracepol.py:101: RankWarning: Polyfit may be poorly conditioned\n",
      "  pars = trace_polynomial(trace, m=m)\n",
      "trace/tracepol.py:101: RankWarning: Polyfit may be poorly conditioned\n",
      "  pars = trace_polynomial(trace, m=m)\n",
      "trace/tracepol.py:101: RankWarning: Polyfit may be poorly conditioned\n",
      "  pars = trace_polynomial(trace, m=m)\n",
      "trace/tracepol.py:101: RankWarning: Polyfit may be poorly conditioned\n",
      "  pars = trace_polynomial(trace, m=m)\n",
      "trace/tracepol.py:101: RankWarning: Polyfit may be poorly conditioned\n",
      "  pars = trace_polynomial(trace, m=m)\n",
      "trace/tracepol.py:101: RankWarning: Polyfit may be poorly conditioned\n",
      "  pars = trace_polynomial(trace, m=m)\n",
      "trace/tracepol.py:101: RankWarning: Polyfit may be poorly conditioned\n",
      "  pars = trace_polynomial(trace, m=m)\n"
     ]
    },
    {
     "name": "stdout",
     "output_type": "stream",
     "text": [
      "m, order max =  2.0 31\n"
     ]
    },
    {
     "data": {
      "image/png": "[encoded data removed]",
      "text/plain": [
       "<Figure size 432x288 with 1 Axes>"
      ]
     },
     "metadata": {
      "needs_background": "light"
     },
     "output_type": "display_data"
    },
    {
     "name": "stderr",
     "output_type": "stream",
     "text": [
      "trace/tracepol.py:101: RankWarning: Polyfit may be poorly conditioned\n",
      "  pars = trace_polynomial(trace, m=m)\n",
      "trace/tracepol.py:101: RankWarning: Polyfit may be poorly conditioned\n",
      "  pars = trace_polynomial(trace, m=m)\n",
      "trace/tracepol.py:101: RankWarning: Polyfit may be poorly conditioned\n",
      "  pars = trace_polynomial(trace, m=m)\n",
      "trace/tracepol.py:101: RankWarning: Polyfit may be poorly conditioned\n",
      "  pars = trace_polynomial(trace, m=m)\n",
      "trace/tracepol.py:101: RankWarning: Polyfit may be poorly conditioned\n",
      "  pars = trace_polynomial(trace, m=m)\n",
      "trace/tracepol.py:101: RankWarning: Polyfit may be poorly conditioned\n",
      "  pars = trace_polynomial(trace, m=m)\n",
      "trace/tracepol.py:101: RankWarning: Polyfit may be poorly conditioned\n",
      "  pars = trace_polynomial(trace, m=m)\n",
      "trace/tracepol.py:101: RankWarning: Polyfit may be poorly conditioned\n",
      "  pars = trace_polynomial(trace, m=m)\n",
      "trace/tracepol.py:101: RankWarning: Polyfit may be poorly conditioned\n",
      "  pars = trace_polynomial(trace, m=m)\n",
      "trace/tracepol.py:101: RankWarning: Polyfit may be poorly conditioned\n",
      "  pars = trace_polynomial(trace, m=m)\n",
      "trace/tracepol.py:101: RankWarning: Polyfit may be poorly conditioned\n",
      "  pars = trace_polynomial(trace, m=m)\n",
      "trace/tracepol.py:101: RankWarning: Polyfit may be poorly conditioned\n",
      "  pars = trace_polynomial(trace, m=m)\n",
      "trace/tracepol.py:101: RankWarning: Polyfit may be poorly conditioned\n",
      "  pars = trace_polynomial(trace, m=m)\n",
      "trace/tracepol.py:101: RankWarning: Polyfit may be poorly conditioned\n",
      "  pars = trace_polynomial(trace, m=m)\n",
      "trace/tracepol.py:101: RankWarning: Polyfit may be poorly conditioned\n",
      "  pars = trace_polynomial(trace, m=m)\n",
      "trace/tracepol.py:101: RankWarning: Polyfit may be poorly conditioned\n",
      "  pars = trace_polynomial(trace, m=m)\n",
      "trace/tracepol.py:101: RankWarning: Polyfit may be poorly conditioned\n",
      "  pars = trace_polynomial(trace, m=m)\n",
      "trace/tracepol.py:101: RankWarning: Polyfit may be poorly conditioned\n",
      "  pars = trace_polynomial(trace, m=m)\n",
      "trace/tracepol.py:101: RankWarning: Polyfit may be poorly conditioned\n",
      "  pars = trace_polynomial(trace, m=m)\n",
      "trace/tracepol.py:101: RankWarning: Polyfit may be poorly conditioned\n",
      "  pars = trace_polynomial(trace, m=m)\n",
      "trace/tracepol.py:101: RankWarning: Polyfit may be poorly conditioned\n",
      "  pars = trace_polynomial(trace, m=m)\n",
      "trace/tracepol.py:101: RankWarning: Polyfit may be poorly conditioned\n",
      "  pars = trace_polynomial(trace, m=m)\n",
      "trace/tracepol.py:101: RankWarning: Polyfit may be poorly conditioned\n",
      "  pars = trace_polynomial(trace, m=m)\n",
      "trace/tracepol.py:101: RankWarning: Polyfit may be poorly conditioned\n",
      "  pars = trace_polynomial(trace, m=m)\n",
      "trace/tracepol.py:101: RankWarning: Polyfit may be poorly conditioned\n",
      "  pars = trace_polynomial(trace, m=m)\n",
      "trace/tracepol.py:101: RankWarning: Polyfit may be poorly conditioned\n",
      "  pars = trace_polynomial(trace, m=m)\n",
      "trace/tracepol.py:101: RankWarning: Polyfit may be poorly conditioned\n",
      "  pars = trace_polynomial(trace, m=m)\n"
     ]
    },
    {
     "name": "stdout",
     "output_type": "stream",
     "text": [
      "m, order max =  3.0 31\n"
     ]
    },
    {
     "data": {
      "image/png": "[encoded data removed]",
      "text/plain": [
       "<Figure size 432x288 with 1 Axes>"
      ]
     },
     "metadata": {
      "needs_background": "light"
     },
     "output_type": "display_data"
    },
    {
     "name": "stderr",
     "output_type": "stream",
     "text": [
      "trace/tracepol.py:101: RankWarning: Polyfit may be poorly conditioned\n",
      "  pars = trace_polynomial(trace, m=m)\n"
     ]
    }
   ],
   "source": [
    "#1 Instrument response\n",
    "\n",
    "print('Reading in Response')\n",
    "response=spgen.readresponse(response_file)\n",
    "\n",
    "#2 Stellar Atmosphere Model\n",
    "\n",
    "print('Reading Stellar model')\n",
    "starmodel_wv,starmodel_flux,ld_coeff=spgen.readstarmodel(model_dir+pars.modelfile,pars.nmodeltype)\n",
    "\n",
    "#3 Read in Planet atmosphere  \n",
    "\n",
    "print('Reading in Planet model')\n",
    "planetmodel_wv,planetmodel_rprs=spgen.readplanetmodel(model_dir+pars.pmodelfile[0],pmodeltype)\n",
    "# test removing the planet signature\n",
    "planetmodel_rprs *= 0.0\n",
    "plt.plot(planetmodel_wv,planetmodel_rprs)\n",
    "plt.show()\n",
    "\n",
    "#4 Set up Trace \n",
    "\n",
    "print('Setting up Trace')\n",
    "tracePars = tp.get_tracepars(trace_file)\n"
   ]
  },
  {
   "cell_type": "code",
   "execution_count": 9,
   "metadata": {},
   "outputs": [],
   "source": [
    "# in the following bloc, the kernel_dir is hard coded, need to be coded out.\n",
    "# in fact, one should have to run (upstream) the WebbPSF code that will generate these kernels rather than rely on \n",
    "# a library of fits files."
   ]
  },
  {
   "cell_type": "code",
   "execution_count": 10,
   "metadata": {},
   "outputs": [
    {
     "name": "stdout",
     "output_type": "stream",
     "text": [
      "Resampling star and planet model\n",
      "Wavelength spacing (A):  0.9599941999986186 0\n",
      "Setting up Transit Model Parameters\n",
      "Reading in and resampling PSF Kernel\n"
     ]
    }
   ],
   "source": [
    "#5 Resample star and planet models to common uniform in wavelength grid.\n",
    "\n",
    "print('Resampling star and planet model')\n",
    "#Get wavelength spacing to use for resampling\n",
    "dw,dwflag=spgen.get_dw(starmodel_wv,planetmodel_wv,pars,tracePars)\n",
    "\n",
    "#dw = dw/100\n",
    "\n",
    "print(\"Wavelength spacing (A): \", dw,dwflag)\n",
    "#Resample onto common grid.\n",
    "bin_starmodel_wv,bin_starmodel_flux,bin_ld_coeff,bin_planetmodel_wv,bin_planetmodel_rprs=\\\n",
    "        spgen.resample_models(dw,starmodel_wv,starmodel_flux,ld_coeff,\\\n",
    "        planetmodel_wv,planetmodel_rprs,pars,tracePars)\n",
    "\n",
    "# Make sure the array is sorted in increasing wavelengths\n",
    "ind = np.argsort(bin_starmodel_wv)\n",
    "bin_starmodel_wv = bin_starmodel_wv[ind]\n",
    "bin_starmodel_flux = bin_starmodel_flux[ind]\n",
    "bin_planetmodel_rprs = bin_planetmodel_rprs[ind]\n",
    "\n",
    "#6 Transit model\n",
    "\n",
    "print('Setting up Transit Model Parameters')\n",
    "#This will become a routine\n",
    "#Setup static Solution parameters (LD,r/R* and TED are wavelength dependent)\n",
    "#This is a single planet example\n",
    "solin=np.zeros(8+10*pars.nplanet) #TF5 style transit solution array\n",
    "time=0.0    #time\n",
    "itime=0.0001 #integration time (days)\n",
    "solin[0]=np.copy(pars.sol[0]) #Mean stellar density\n",
    "solin[8]=np.copy(pars.sol[1]) #EPO\n",
    "solin[9]=np.copy(pars.sol[2]) #Period\n",
    "solin[10]=np.copy(pars.sol[3]) #Impact parameter\n",
    "solin[12]=np.copy(pars.sol[4]) #ECW\n",
    "solin[13]=np.copy(pars.sol[5]) #ESW\n",
    "solin[14]=np.copy(pars.sol[6]) #KRV\n",
    "solin[16]=np.copy(pars.sol[7]) #ELL\n",
    "solin[17]=np.copy(pars.sol[8]) #ALB \n",
    "\n",
    "#7 #Read in Kernels\n",
    "\n",
    "print('Reading in and resampling PSF Kernel')\n",
    "kernels,kernels_wv=spgen.readkernels(kernel_dir)\n",
    "#resize Kernels \n",
    "#limit oversampling to be: 1<10\n",
    "kernel_resize=[]\n",
    "for k in kernels:\n",
    "    kernel_resize.append(resize(k,(128*pars.noversample,128*pars.noversample)))"
   ]
  },
  {
   "cell_type": "markdown",
   "metadata": {},
   "source": [
    "## Create Convolved Image"
   ]
  },
  {
   "cell_type": "code",
   "execution_count": 11,
   "metadata": {},
   "outputs": [
    {
     "name": "stdout",
     "output_type": "stream",
     "text": [
      "Generating Order 0\n"
     ]
    },
    {
     "name": "stderr",
     "output_type": "stream",
     "text": [
      "/usr/local/lib64/python3.7/site-packages/numpy/lib/polynomial.py:736: RuntimeWarning: overflow encountered in double_scalars\n",
      "  y = y * x + p[i]\n"
     ]
    },
    {
     "data": {
      "application/vnd.jupyter.widget-view+json": {
       "model_id": "3b3aaf24820941a0a7979fe932cf57d5",
       "version_major": 2,
       "version_minor": 0
      },
      "text/plain": [
       "HBox(children=(FloatProgress(value=0.0, max=95.0), HTML(value='')))"
      ]
     },
     "metadata": {},
     "output_type": "display_data"
    },
    {
     "name": "stdout",
     "output_type": "stream",
     "text": [
      "Actual counts measured on the simulation = 24796068.908543523 e-/sec\n",
      "\n",
      "Generating Order 1\n"
     ]
    },
    {
     "data": {
      "application/vnd.jupyter.widget-view+json": {
       "model_id": "76545cecc85a43b4b429b5d0818ee5ff",
       "version_major": 2,
       "version_minor": 0
      },
      "text/plain": [
       "HBox(children=(FloatProgress(value=0.0, max=95.0), HTML(value='')))"
      ]
     },
     "metadata": {},
     "output_type": "display_data"
    },
    {
     "name": "stdout",
     "output_type": "stream",
     "text": [
      "Actual counts measured on the simulation = 230058492.5180416 e-/sec\n",
      "\n"
     ]
    }
   ],
   "source": [
    "if True:\n",
    "\n",
    "\n",
    "    # The number of images (slices) that will be simulated is equal the number of orders\n",
    "    # Don't worry, that 'cube' will be merged down later after flux normalization.\n",
    "    nslice = np.size(order_list)\n",
    "\n",
    "    # Defines the dimensions of the arrays, depends on the oversanmpling\n",
    "    xmax=pars.xout*pars.noversample\n",
    "    ymax=pars.yout*pars.noversample\n",
    "    # Note that we will generate a cube of those images, nslice is the number of orders\n",
    "    convolved_image=np.zeros((nslice,ymax,xmax))\n",
    "\n",
    "\n",
    "    for m in range(np.size(order_list)): \n",
    "\n",
    "        nth_order = order_list[m]\n",
    "        print('Generating Order {:}'.format(nth_order))\n",
    "\n",
    "        pixels=spgen.gen_unconv_image(pars,response,bin_starmodel_wv,bin_starmodel_flux,\\\n",
    "                    bin_ld_coeff,bin_planetmodel_rprs,time,itime,solin,nth_order,tracePars)\n",
    "\n",
    "        pixels_t=np.copy(pixels.T)\n",
    "\n",
    "        #Enable threads (not working?!?!)\n",
    "        #pyfftw.config.NUM_THREADS = 1 #do not need multi-cpu for pools\n",
    "        #with scipy.fft.set_backend(pyfftw.interfaces.scipy_fft):\n",
    "        # Turn on the cache for optimum performance\n",
    "        #pyfftw.interfaces.cache.enable()\n",
    "\n",
    "        #do the convolution\n",
    "        x=pixels_t*0+1.0e-10\n",
    "\n",
    "        nwv=len(kernels_wv) #number of wavelengths to process\n",
    "        pbar = tqdm_notebook(total=nwv)  #Will make a progressbar to monitor processing.  \n",
    "        pool = mp.Pool(processes=ncpu)  #Use lots of threads - because we can! \n",
    "\n",
    "        results = [pool.apply_async(spgen.convolve_1wv,\\\n",
    "                                args=(pixels_t,kernel_resize,kernels_wv,wv_idx,pars,nth_order,tracePars,),\\\n",
    "                                callback=barupdate) for wv_idx in range(nwv)]\n",
    "\n",
    "        pixels_c = [p.get() for p in results]\n",
    "\n",
    "        pool.close()\n",
    "        pool.join()\n",
    "\n",
    "        #bring together the results\n",
    "        x=pixels_t*0+1.0e-10\n",
    "        for p in pixels_c:\n",
    "            x+=p\n",
    "\n",
    "        pixels_c=None #release Memory\n",
    "\n",
    "        convolved_image[m,:,:] += x\n",
    "\n",
    "        # Sum in the flux for that order\n",
    "        actual_counts = np.sum(convolved_image[m,:,:])\n",
    "        print('Actual counts measured on the simulation = {:} e-/sec'.format(actual_counts))\n",
    "        print()\n"
   ]
  },
  {
   "cell_type": "code",
   "execution_count": 12,
   "metadata": {},
   "outputs": [],
   "source": [
    "# Save the fits image on disk\n",
    "hdu = fits.PrimaryHDU()\n",
    "hdu.data = np.sum(convolved_image,axis=0)\n",
    "hdu.writeto('toto.fits', overwrite=True)"
   ]
  },
  {
   "cell_type": "markdown",
   "metadata": {},
   "source": [
    "# Flux Normalization Piece of Code"
   ]
  },
  {
   "cell_type": "code",
   "execution_count": 13,
   "metadata": {
    "scrolled": false
   },
   "outputs": [
    {
     "name": "stdout",
     "output_type": "stream",
     "text": [
      "Counts below are in ADU/second.\n",
      "m, order max =  -1.0 31\n"
     ]
    },
    {
     "name": "stderr",
     "output_type": "stream",
     "text": [
      "trace/tracepol.py:101: RankWarning: Polyfit may be poorly conditioned\n",
      "  pars = trace_polynomial(trace, m=m)\n",
      "trace/tracepol.py:101: RankWarning: Polyfit may be poorly conditioned\n",
      "  pars = trace_polynomial(trace, m=m)\n",
      "trace/tracepol.py:101: RankWarning: Polyfit may be poorly conditioned\n",
      "  pars = trace_polynomial(trace, m=m)\n",
      "trace/tracepol.py:101: RankWarning: Polyfit may be poorly conditioned\n",
      "  pars = trace_polynomial(trace, m=m)\n",
      "trace/tracepol.py:101: RankWarning: Polyfit may be poorly conditioned\n",
      "  pars = trace_polynomial(trace, m=m)\n",
      "trace/tracepol.py:101: RankWarning: Polyfit may be poorly conditioned\n",
      "  pars = trace_polynomial(trace, m=m)\n",
      "trace/tracepol.py:101: RankWarning: Polyfit may be poorly conditioned\n",
      "  pars = trace_polynomial(trace, m=m)\n",
      "trace/tracepol.py:101: RankWarning: Polyfit may be poorly conditioned\n",
      "  pars = trace_polynomial(trace, m=m)\n",
      "trace/tracepol.py:101: RankWarning: Polyfit may be poorly conditioned\n",
      "  pars = trace_polynomial(trace, m=m)\n",
      "trace/tracepol.py:101: RankWarning: Polyfit may be poorly conditioned\n",
      "  pars = trace_polynomial(trace, m=m)\n",
      "trace/tracepol.py:101: RankWarning: Polyfit may be poorly conditioned\n",
      "  pars = trace_polynomial(trace, m=m)\n",
      "trace/tracepol.py:101: RankWarning: Polyfit may be poorly conditioned\n",
      "  pars = trace_polynomial(trace, m=m)\n",
      "trace/tracepol.py:101: RankWarning: Polyfit may be poorly conditioned\n",
      "  pars = trace_polynomial(trace, m=m)\n",
      "trace/tracepol.py:101: RankWarning: Polyfit may be poorly conditioned\n",
      "  pars = trace_polynomial(trace, m=m)\n",
      "trace/tracepol.py:101: RankWarning: Polyfit may be poorly conditioned\n",
      "  pars = trace_polynomial(trace, m=m)\n",
      "trace/tracepol.py:101: RankWarning: Polyfit may be poorly conditioned\n",
      "  pars = trace_polynomial(trace, m=m)\n",
      "trace/tracepol.py:101: RankWarning: Polyfit may be poorly conditioned\n",
      "  pars = trace_polynomial(trace, m=m)\n",
      "trace/tracepol.py:101: RankWarning: Polyfit may be poorly conditioned\n",
      "  pars = trace_polynomial(trace, m=m)\n",
      "trace/tracepol.py:101: RankWarning: Polyfit may be poorly conditioned\n",
      "  pars = trace_polynomial(trace, m=m)\n",
      "trace/tracepol.py:101: RankWarning: Polyfit may be poorly conditioned\n",
      "  pars = trace_polynomial(trace, m=m)\n",
      "trace/tracepol.py:101: RankWarning: Polyfit may be poorly conditioned\n",
      "  pars = trace_polynomial(trace, m=m)\n",
      "trace/tracepol.py:101: RankWarning: Polyfit may be poorly conditioned\n",
      "  pars = trace_polynomial(trace, m=m)\n",
      "trace/tracepol.py:101: RankWarning: Polyfit may be poorly conditioned\n",
      "  pars = trace_polynomial(trace, m=m)\n",
      "trace/tracepol.py:101: RankWarning: Polyfit may be poorly conditioned\n",
      "  pars = trace_polynomial(trace, m=m)\n",
      "trace/tracepol.py:101: RankWarning: Polyfit may be poorly conditioned\n",
      "  pars = trace_polynomial(trace, m=m)\n",
      "trace/tracepol.py:101: RankWarning: Polyfit may be poorly conditioned\n",
      "  pars = trace_polynomial(trace, m=m)\n"
     ]
    },
    {
     "data": {
      "image/png": "[encoded data removed]",
      "text/plain": [
       "<Figure size 432x288 with 1 Axes>"
      ]
     },
     "metadata": {
      "needs_background": "light"
     },
     "output_type": "display_data"
    },
    {
     "name": "stdout",
     "output_type": "stream",
     "text": [
      "m, order max =  0.0 11\n"
     ]
    },
    {
     "name": "stderr",
     "output_type": "stream",
     "text": [
      "trace/tracepol.py:101: RankWarning: Polyfit may be poorly conditioned\n",
      "  pars = trace_polynomial(trace, m=m)\n"
     ]
    },
    {
     "data": {
      "image/png": "[encoded data removed]",
      "text/plain": [
       "<Figure size 432x288 with 1 Axes>"
      ]
     },
     "metadata": {
      "needs_background": "light"
     },
     "output_type": "display_data"
    },
    {
     "name": "stderr",
     "output_type": "stream",
     "text": [
      "trace/tracepol.py:101: RankWarning: Polyfit may be poorly conditioned\n",
      "  pars = trace_polynomial(trace, m=m)\n"
     ]
    },
    {
     "name": "stdout",
     "output_type": "stream",
     "text": [
      "m, order max =  1.0 30\n"
     ]
    },
    {
     "name": "stderr",
     "output_type": "stream",
     "text": [
      "trace/tracepol.py:101: RankWarning: Polyfit may be poorly conditioned\n",
      "  pars = trace_polynomial(trace, m=m)\n",
      "trace/tracepol.py:101: RankWarning: Polyfit may be poorly conditioned\n",
      "  pars = trace_polynomial(trace, m=m)\n",
      "trace/tracepol.py:101: RankWarning: Polyfit may be poorly conditioned\n",
      "  pars = trace_polynomial(trace, m=m)\n",
      "trace/tracepol.py:101: RankWarning: Polyfit may be poorly conditioned\n",
      "  pars = trace_polynomial(trace, m=m)\n",
      "trace/tracepol.py:101: RankWarning: Polyfit may be poorly conditioned\n",
      "  pars = trace_polynomial(trace, m=m)\n",
      "trace/tracepol.py:101: RankWarning: Polyfit may be poorly conditioned\n",
      "  pars = trace_polynomial(trace, m=m)\n",
      "trace/tracepol.py:101: RankWarning: Polyfit may be poorly conditioned\n",
      "  pars = trace_polynomial(trace, m=m)\n",
      "trace/tracepol.py:101: RankWarning: Polyfit may be poorly conditioned\n",
      "  pars = trace_polynomial(trace, m=m)\n",
      "trace/tracepol.py:101: RankWarning: Polyfit may be poorly conditioned\n",
      "  pars = trace_polynomial(trace, m=m)\n",
      "trace/tracepol.py:101: RankWarning: Polyfit may be poorly conditioned\n",
      "  pars = trace_polynomial(trace, m=m)\n",
      "trace/tracepol.py:101: RankWarning: Polyfit may be poorly conditioned\n",
      "  pars = trace_polynomial(trace, m=m)\n",
      "trace/tracepol.py:101: RankWarning: Polyfit may be poorly conditioned\n",
      "  pars = trace_polynomial(trace, m=m)\n",
      "trace/tracepol.py:101: RankWarning: Polyfit may be poorly conditioned\n",
      "  pars = trace_polynomial(trace, m=m)\n",
      "trace/tracepol.py:101: RankWarning: Polyfit may be poorly conditioned\n",
      "  pars = trace_polynomial(trace, m=m)\n",
      "trace/tracepol.py:101: RankWarning: Polyfit may be poorly conditioned\n",
      "  pars = trace_polynomial(trace, m=m)\n",
      "trace/tracepol.py:101: RankWarning: Polyfit may be poorly conditioned\n",
      "  pars = trace_polynomial(trace, m=m)\n",
      "trace/tracepol.py:101: RankWarning: Polyfit may be poorly conditioned\n",
      "  pars = trace_polynomial(trace, m=m)\n",
      "trace/tracepol.py:101: RankWarning: Polyfit may be poorly conditioned\n",
      "  pars = trace_polynomial(trace, m=m)\n",
      "trace/tracepol.py:101: RankWarning: Polyfit may be poorly conditioned\n",
      "  pars = trace_polynomial(trace, m=m)\n",
      "trace/tracepol.py:101: RankWarning: Polyfit may be poorly conditioned\n",
      "  pars = trace_polynomial(trace, m=m)\n",
      "trace/tracepol.py:101: RankWarning: Polyfit may be poorly conditioned\n",
      "  pars = trace_polynomial(trace, m=m)\n",
      "trace/tracepol.py:101: RankWarning: Polyfit may be poorly conditioned\n",
      "  pars = trace_polynomial(trace, m=m)\n",
      "trace/tracepol.py:101: RankWarning: Polyfit may be poorly conditioned\n",
      "  pars = trace_polynomial(trace, m=m)\n",
      "trace/tracepol.py:101: RankWarning: Polyfit may be poorly conditioned\n",
      "  pars = trace_polynomial(trace, m=m)\n",
      "trace/tracepol.py:101: RankWarning: Polyfit may be poorly conditioned\n",
      "  pars = trace_polynomial(trace, m=m)\n",
      "trace/tracepol.py:101: RankWarning: Polyfit may be poorly conditioned\n",
      "  pars = trace_polynomial(trace, m=m)\n"
     ]
    },
    {
     "data": {
      "image/png": "[encoded data removed]",
      "text/plain": [
       "<Figure size 432x288 with 1 Axes>"
      ]
     },
     "metadata": {
      "needs_background": "light"
     },
     "output_type": "display_data"
    },
    {
     "name": "stderr",
     "output_type": "stream",
     "text": [
      "trace/tracepol.py:101: RankWarning: Polyfit may be poorly conditioned\n",
      "  pars = trace_polynomial(trace, m=m)\n",
      "trace/tracepol.py:101: RankWarning: Polyfit may be poorly conditioned\n",
      "  pars = trace_polynomial(trace, m=m)\n",
      "trace/tracepol.py:101: RankWarning: Polyfit may be poorly conditioned\n",
      "  pars = trace_polynomial(trace, m=m)\n",
      "trace/tracepol.py:101: RankWarning: Polyfit may be poorly conditioned\n",
      "  pars = trace_polynomial(trace, m=m)\n"
     ]
    },
    {
     "name": "stdout",
     "output_type": "stream",
     "text": [
      "m, order max =  2.0 31\n"
     ]
    },
    {
     "name": "stderr",
     "output_type": "stream",
     "text": [
      "trace/tracepol.py:101: RankWarning: Polyfit may be poorly conditioned\n",
      "  pars = trace_polynomial(trace, m=m)\n",
      "trace/tracepol.py:101: RankWarning: Polyfit may be poorly conditioned\n",
      "  pars = trace_polynomial(trace, m=m)\n",
      "trace/tracepol.py:101: RankWarning: Polyfit may be poorly conditioned\n",
      "  pars = trace_polynomial(trace, m=m)\n",
      "trace/tracepol.py:101: RankWarning: Polyfit may be poorly conditioned\n",
      "  pars = trace_polynomial(trace, m=m)\n",
      "trace/tracepol.py:101: RankWarning: Polyfit may be poorly conditioned\n",
      "  pars = trace_polynomial(trace, m=m)\n",
      "trace/tracepol.py:101: RankWarning: Polyfit may be poorly conditioned\n",
      "  pars = trace_polynomial(trace, m=m)\n",
      "trace/tracepol.py:101: RankWarning: Polyfit may be poorly conditioned\n",
      "  pars = trace_polynomial(trace, m=m)\n",
      "trace/tracepol.py:101: RankWarning: Polyfit may be poorly conditioned\n",
      "  pars = trace_polynomial(trace, m=m)\n",
      "trace/tracepol.py:101: RankWarning: Polyfit may be poorly conditioned\n",
      "  pars = trace_polynomial(trace, m=m)\n",
      "trace/tracepol.py:101: RankWarning: Polyfit may be poorly conditioned\n",
      "  pars = trace_polynomial(trace, m=m)\n",
      "trace/tracepol.py:101: RankWarning: Polyfit may be poorly conditioned\n",
      "  pars = trace_polynomial(trace, m=m)\n",
      "trace/tracepol.py:101: RankWarning: Polyfit may be poorly conditioned\n",
      "  pars = trace_polynomial(trace, m=m)\n",
      "trace/tracepol.py:101: RankWarning: Polyfit may be poorly conditioned\n",
      "  pars = trace_polynomial(trace, m=m)\n",
      "trace/tracepol.py:101: RankWarning: Polyfit may be poorly conditioned\n",
      "  pars = trace_polynomial(trace, m=m)\n",
      "trace/tracepol.py:101: RankWarning: Polyfit may be poorly conditioned\n",
      "  pars = trace_polynomial(trace, m=m)\n",
      "trace/tracepol.py:101: RankWarning: Polyfit may be poorly conditioned\n",
      "  pars = trace_polynomial(trace, m=m)\n",
      "trace/tracepol.py:101: RankWarning: Polyfit may be poorly conditioned\n",
      "  pars = trace_polynomial(trace, m=m)\n",
      "trace/tracepol.py:101: RankWarning: Polyfit may be poorly conditioned\n",
      "  pars = trace_polynomial(trace, m=m)\n",
      "trace/tracepol.py:101: RankWarning: Polyfit may be poorly conditioned\n",
      "  pars = trace_polynomial(trace, m=m)\n",
      "trace/tracepol.py:101: RankWarning: Polyfit may be poorly conditioned\n",
      "  pars = trace_polynomial(trace, m=m)\n",
      "trace/tracepol.py:101: RankWarning: Polyfit may be poorly conditioned\n",
      "  pars = trace_polynomial(trace, m=m)\n",
      "trace/tracepol.py:101: RankWarning: Polyfit may be poorly conditioned\n",
      "  pars = trace_polynomial(trace, m=m)\n",
      "trace/tracepol.py:101: RankWarning: Polyfit may be poorly conditioned\n",
      "  pars = trace_polynomial(trace, m=m)\n"
     ]
    },
    {
     "data": {
      "image/png": "[encoded data removed]",
      "text/plain": [
       "<Figure size 432x288 with 1 Axes>"
      ]
     },
     "metadata": {
      "needs_background": "light"
     },
     "output_type": "display_data"
    },
    {
     "name": "stderr",
     "output_type": "stream",
     "text": [
      "trace/tracepol.py:101: RankWarning: Polyfit may be poorly conditioned\n",
      "  pars = trace_polynomial(trace, m=m)\n",
      "trace/tracepol.py:101: RankWarning: Polyfit may be poorly conditioned\n",
      "  pars = trace_polynomial(trace, m=m)\n",
      "trace/tracepol.py:101: RankWarning: Polyfit may be poorly conditioned\n",
      "  pars = trace_polynomial(trace, m=m)\n",
      "trace/tracepol.py:101: RankWarning: Polyfit may be poorly conditioned\n",
      "  pars = trace_polynomial(trace, m=m)\n",
      "trace/tracepol.py:101: RankWarning: Polyfit may be poorly conditioned\n",
      "  pars = trace_polynomial(trace, m=m)\n",
      "trace/tracepol.py:101: RankWarning: Polyfit may be poorly conditioned\n",
      "  pars = trace_polynomial(trace, m=m)\n",
      "trace/tracepol.py:101: RankWarning: Polyfit may be poorly conditioned\n",
      "  pars = trace_polynomial(trace, m=m)\n",
      "trace/tracepol.py:101: RankWarning: Polyfit may be poorly conditioned\n",
      "  pars = trace_polynomial(trace, m=m)\n",
      "trace/tracepol.py:101: RankWarning: Polyfit may be poorly conditioned\n",
      "  pars = trace_polynomial(trace, m=m)\n",
      "trace/tracepol.py:101: RankWarning: Polyfit may be poorly conditioned\n",
      "  pars = trace_polynomial(trace, m=m)\n",
      "trace/tracepol.py:101: RankWarning: Polyfit may be poorly conditioned\n",
      "  pars = trace_polynomial(trace, m=m)\n",
      "trace/tracepol.py:101: RankWarning: Polyfit may be poorly conditioned\n",
      "  pars = trace_polynomial(trace, m=m)\n",
      "trace/tracepol.py:101: RankWarning: Polyfit may be poorly conditioned\n",
      "  pars = trace_polynomial(trace, m=m)\n",
      "trace/tracepol.py:101: RankWarning: Polyfit may be poorly conditioned\n",
      "  pars = trace_polynomial(trace, m=m)\n",
      "trace/tracepol.py:101: RankWarning: Polyfit may be poorly conditioned\n",
      "  pars = trace_polynomial(trace, m=m)\n",
      "trace/tracepol.py:101: RankWarning: Polyfit may be poorly conditioned\n",
      "  pars = trace_polynomial(trace, m=m)\n",
      "trace/tracepol.py:101: RankWarning: Polyfit may be poorly conditioned\n",
      "  pars = trace_polynomial(trace, m=m)\n",
      "trace/tracepol.py:101: RankWarning: Polyfit may be poorly conditioned\n",
      "  pars = trace_polynomial(trace, m=m)\n",
      "trace/tracepol.py:101: RankWarning: Polyfit may be poorly conditioned\n",
      "  pars = trace_polynomial(trace, m=m)\n",
      "trace/tracepol.py:101: RankWarning: Polyfit may be poorly conditioned\n",
      "  pars = trace_polynomial(trace, m=m)\n",
      "trace/tracepol.py:101: RankWarning: Polyfit may be poorly conditioned\n",
      "  pars = trace_polynomial(trace, m=m)\n",
      "trace/tracepol.py:101: RankWarning: Polyfit may be poorly conditioned\n",
      "  pars = trace_polynomial(trace, m=m)\n",
      "trace/tracepol.py:101: RankWarning: Polyfit may be poorly conditioned\n",
      "  pars = trace_polynomial(trace, m=m)\n",
      "trace/tracepol.py:101: RankWarning: Polyfit may be poorly conditioned\n",
      "  pars = trace_polynomial(trace, m=m)\n",
      "trace/tracepol.py:101: RankWarning: Polyfit may be poorly conditioned\n",
      "  pars = trace_polynomial(trace, m=m)\n",
      "trace/tracepol.py:101: RankWarning: Polyfit may be poorly conditioned\n",
      "  pars = trace_polynomial(trace, m=m)\n",
      "trace/tracepol.py:101: RankWarning: Polyfit may be poorly conditioned\n",
      "  pars = trace_polynomial(trace, m=m)\n"
     ]
    },
    {
     "name": "stdout",
     "output_type": "stream",
     "text": [
      "m, order max =  3.0 31\n"
     ]
    },
    {
     "data": {
      "image/png": "[encoded data removed]",
      "text/plain": [
       "<Figure size 432x288 with 1 Axes>"
      ]
     },
     "metadata": {
      "needs_background": "light"
     },
     "output_type": "display_data"
    },
    {
     "name": "stderr",
     "output_type": "stream",
     "text": [
      "trace/tracepol.py:101: RankWarning: Polyfit may be poorly conditioned\n",
      "  pars = trace_polynomial(trace, m=m)\n"
     ]
    },
    {
     "name": "stdout",
     "output_type": "stream",
     "text": [
      "Expected counts returned are:  [ 7463214.70924039 44937736.17620576]\n",
      "\n",
      "Order 0: simulated counts = 24796068.908543523, expected counts = 7463214.709240395\n",
      "The scale factor to apply is 0.3009837864528975\n",
      "\n",
      "Order 1: simulated counts = 230058492.5180416, expected counts = 44937736.17620576\n",
      "The scale factor to apply is 0.1953317857747923\n",
      "\n",
      "Final check on the calibrated, merged down image:\n",
      "Counts on final image = 52400950.88544614, Expected counts = 52400950.88544615\n"
     ]
    },
    {
     "data": {
      "image/png": "[encoded data removed]",
      "text/plain": [
       "<Figure size 1080x576 with 1 Axes>"
      ]
     },
     "metadata": {
      "needs_background": "light"
     },
     "output_type": "display_data"
    }
   ],
   "source": [
    "import synthesizeMagnitude as smag\n",
    "\n",
    "if True:\n",
    "    # At this point, the simulation consists in separate images for each order \n",
    "    # (stored in the 3rd dimension) and has oversampled dimensions.\n",
    "    # It is: convolved_image[m,y,x] where m is the orders dimension.\n",
    "    #\n",
    "\n",
    "    # PART A - Definition of parameter values\n",
    "    filtername = 'J' # See readFilter in synthesizeMagnitude.py to see the many supported filter names\n",
    "    magnitude = 8.5 # In the Vega magnitude system for most filters, occasionaly in AB system\n",
    "    model_um = bin_starmodel_wv/10000 # Need to have the input in micrometers\n",
    "    model_flamba = bin_starmodel_flux # Needs to be Flambda, not Fnu\n",
    "    return_adupersec = True # if False then it returns e- per sec\n",
    "    fitsname = 'clear.fits'\n",
    "    fitsname_f277 = 'f277.fits'\n",
    "    if return_adupersec is True: print('Counts below are in ADU/second.')\n",
    "    else: print('Counts below are in electrons/second.')\n",
    "\n",
    "\n",
    "    # PART B - Calculate the expected number of counts per second (either electrons or adu)\n",
    "    # based on the model spectrum and assumptions on the JWST surface area and electronic gain.\n",
    "    expected_counts = smag.expected_flux_calibration(filtername,magnitude,model_um,\n",
    "                                                     model_flamba, order_list,\n",
    "                                                     convert_to_adupersec=return_adupersec,\n",
    "                                                     verbose=False,\n",
    "                                                     trace_file=trace_file,\n",
    "                                                     response_file=response_file,\n",
    "                                                     pathfilter='./specgen/FilterSVO/',\n",
    "                                                     pathvega='./specgen/FilterSVO/')\n",
    "    print('Expected counts returned are: ', expected_counts)\n",
    "    print()\n",
    "\n",
    "    # PART C - Apply the normlization and bin oversampled image to native pixel size\n",
    "    # Initialize a cube that will be flux calibrated \n",
    "    normalized_cube = np.copy(convolved_image)\n",
    "    # The scale factors needed for each order is stored in here\n",
    "    scalefactors = np.copy(expected_counts) * 0.0\n",
    "    simulated_counts = np.copy(expected_counts) * 0.0\n",
    "    # Apply the normalization one order at a time\n",
    "    for i in range(np.size(order_list)):\n",
    "        simulated_counts[i] = np.sum(convolved_image[i,:,:])\n",
    "        scalefactors[i] = expected_counts[i] / simulated_counts[i]\n",
    "        print('Order {:}: simulated counts = {:}, expected counts = {:}'.format(\n",
    "            order_list[i],simulated_counts[i],expected_counts[i]))\n",
    "        print('The scale factor to apply is {:}'.format(scalefactors[i]))\n",
    "        normalized_cube[i,:,:] = convolved_image[i,:,:] * scalefactors[i]\n",
    "        print()\n",
    "    # To bin down to the native pixel size and merge down the cube into a single image, use this function\n",
    "    image_nativesize = downscale_local_mean(np.sum(normalized_cube,axis=0),(pars.noversample,pars.noversample))*pars.noversample**2\n",
    "    native_counts = np.sum(image_nativesize)\n",
    "    print('Final check on the calibrated, merged down image:')\n",
    "    print('Counts on final image = {:}, Expected counts = {:}'.format(native_counts,np.sum(expected_counts)))\n",
    "\n",
    "\n",
    "    # PART D - Orient the image for the DMS format and save it to disk\n",
    "    # Here, image is still not in the DMS format. We need to make a flip vertically.\n",
    "    image_nativesize_DMS = np.flip(image_nativesize,axis=0)\n",
    "    # Save the fits image on disk\n",
    "    hdu = fits.PrimaryHDU()\n",
    "    hdu.data = image_nativesize_DMS\n",
    "    hdu.writeto(fitsname, overwrite=True)\n",
    "    # Display the image\n",
    "    plt.figure(figsize=(15,8))\n",
    "    plt.imshow(image_nativesize_DMS, origin='lower')\n",
    "\n"
   ]
  },
  {
   "cell_type": "code",
   "execution_count": 14,
   "metadata": {},
   "outputs": [],
   "source": [
    "if False:\n",
    "    # These checks can be left out.\n",
    "\n",
    "    # Check again that counts are ok\n",
    "    native_counts = np.sum(image_nativesize)\n",
    "    print('Counts on final image = {:}, Expected counts = {:}'.format(native_counts,np.sum(expected_counts)))\n",
    "\n",
    "    # Check what is the brightest pixel. Does it make sense?\n",
    "    CDS_integrationtime = 3*5.5 # seconds\n",
    "    maxvalue = np.max(image_nativesize_DMS)*CDS_integrationtime\n",
    "    print('Brightest pixel on a CDS is {:.0F} adu or e-'.format(maxvalue))"
   ]
  },
  {
   "cell_type": "markdown",
   "metadata": {},
   "source": [
    "# Generate an F277W exposure."
   ]
  },
  {
   "cell_type": "markdown",
   "metadata": {},
   "source": [
    "## The usual flux calibration will not work for such an exposure because the model_flux is set to zero in most filters that one would like to calibrate with. Instead, use the calibration made for the CLEAR exposure and apply it to the F277W blindly, after having multiplied the model flux by the F277W absolute transmission."
   ]
  },
  {
   "cell_type": "code",
   "execution_count": 15,
   "metadata": {
    "scrolled": false
   },
   "outputs": [
    {
     "data": {
      "text/plain": [
       "(1e-100, 10000000000.0)"
      ]
     },
     "execution_count": 15,
     "metadata": {},
     "output_type": "execute_result"
    },
    {
     "data": {
      "image/png": "[encoded data removed]",
      "text/plain": [
       "<Figure size 432x288 with 1 Axes>"
      ]
     },
     "metadata": {
      "needs_background": "light"
     },
     "output_type": "display_data"
    }
   ],
   "source": [
    "path_filters = './specgen/FilterSVO/'\n",
    "\n",
    "F277_um, F277_T, F277_system = smag.readFilter('NIRISS.F277W',\n",
    "                                               path_filter_transmission=path_filters,\n",
    "                                               keepPeakAbsolute=True,returnWidth=False,\n",
    "                                               verbose = False)\n",
    "#plt.plot(F277_um,F277_T)\n",
    "# Interpolate the filter curve to match the model wavelength coverage\n",
    "# Convert wavelength to angstroms because those are the units used\n",
    "# in generating simulations.\n",
    "f277_transmission = np.interp(bin_starmodel_wv, F277_um*10000, F277_T)\n",
    "#plt.plot(model_um,f277_transmission)\n",
    "#plt.semilogy()\n",
    "#plt.ylim((1e-100,1))\n",
    "# The new model to create simulations for is the original times the filter transmission\n",
    "bin_starmodel_flux_f277 = bin_starmodel_flux * f277_transmission\n",
    "\n",
    "plt.plot(bin_starmodel_wv, bin_starmodel_flux_f277)\n",
    "plt.semilogy()\n",
    "plt.ylim((1e-100,1e+10))\n"
   ]
  },
  {
   "cell_type": "markdown",
   "metadata": {},
   "source": [
    "## Create Convolved Image"
   ]
  },
  {
   "cell_type": "markdown",
   "metadata": {},
   "source": [
    "## For F277W. Same as for CLEAR but the model is multiplied by the F277W absolute response in the call to spgen.gen_unconv_image() inside the loop."
   ]
  },
  {
   "cell_type": "code",
   "execution_count": 16,
   "metadata": {},
   "outputs": [
    {
     "name": "stdout",
     "output_type": "stream",
     "text": [
      "Generating Order 0\n"
     ]
    },
    {
     "name": "stderr",
     "output_type": "stream",
     "text": [
      "/usr/local/lib64/python3.7/site-packages/numpy/lib/polynomial.py:736: RuntimeWarning: overflow encountered in double_scalars\n",
      "  y = y * x + p[i]\n"
     ]
    },
    {
     "data": {
      "application/vnd.jupyter.widget-view+json": {
       "model_id": "9cc22edb4e7e4df38c4f419d1ae1ec19",
       "version_major": 2,
       "version_minor": 0
      },
      "text/plain": [
       "HBox(children=(FloatProgress(value=0.0, max=95.0), HTML(value='')))"
      ]
     },
     "metadata": {},
     "output_type": "display_data"
    },
    {
     "name": "stdout",
     "output_type": "stream",
     "text": [
      "Actual total counts measured on the simulation = 4023378.700661295 e-/sec\n",
      "\n",
      "Generating Order 1\n"
     ]
    },
    {
     "data": {
      "application/vnd.jupyter.widget-view+json": {
       "model_id": "8ed2bf5c2dda499cba2f480798796140",
       "version_major": 2,
       "version_minor": 0
      },
      "text/plain": [
       "HBox(children=(FloatProgress(value=0.0, max=95.0), HTML(value='')))"
      ]
     },
     "metadata": {},
     "output_type": "display_data"
    },
    {
     "name": "stdout",
     "output_type": "stream",
     "text": [
      "Actual total counts measured on the simulation = 2869069.0498576453 e-/sec\n",
      "\n"
     ]
    }
   ],
   "source": [
    "# The number of images (slices) that will be simulated is equal the number of orders\n",
    "# Don't worry, that 'cube' will be merged down later after flux normalization.\n",
    "nslice = np.size(order_list)\n",
    "\n",
    "# Defines the dimensions of the arrays, depends on the oversanmpling\n",
    "xmax=pars.xout*pars.noversample\n",
    "ymax=pars.yout*pars.noversample\n",
    "# Note that we will generate a cube of those images, nslice is the number of orders\n",
    "convolved_image_f277=np.zeros((nslice,ymax,xmax))\n",
    "\n",
    "for m in range(np.size(order_list)):\n",
    "#for m in range(1,0,-1):\n",
    "\n",
    "    nth_order = order_list[m]\n",
    "    print('Generating Order {:}'.format(nth_order))\n",
    "\n",
    "    # bin_starmodel_flux_f277 is used instead of bin_starmodel_flux\n",
    "    pixels=None\n",
    "    pixels=spgen.gen_unconv_image(pars,response,bin_starmodel_wv,bin_starmodel_flux_f277,\\\n",
    "                bin_ld_coeff,bin_planetmodel_rprs,time,itime,solin,nth_order,tracePars)\n",
    "\n",
    "    pixels_t=np.copy(pixels.T)\n",
    "    if nth_order == 2:\n",
    "        hdu = fits.PrimaryHDU()\n",
    "        hdu.data = pixels_t\n",
    "        hdu.writeto('debug_f277_order2_trace.fits', overwrite=True)        \n",
    "\n",
    "    #Enable threads (not working?!?!)\n",
    "    #pyfftw.config.NUM_THREADS = 1 #do not need multi-cpu for pools\n",
    "    #with scipy.fft.set_backend(pyfftw.interfaces.scipy_fft):\n",
    "    # Turn on the cache for optimum performance\n",
    "    #pyfftw.interfaces.cache.enable()\n",
    "\n",
    "    #do the convolution\n",
    "    x=pixels_t*0+1.0e-10\n",
    "\n",
    "    nwv=len(kernels_wv) #number of wavelengths to process\n",
    "    pbar = tqdm_notebook(total=nwv)  #Will make a progressbar to monitor processing.  \n",
    "    pool = mp.Pool(processes=ncpu)  #Use lots of threads - because we can! \n",
    "\n",
    "    results = [pool.apply_async(spgen.convolve_1wv,\\\n",
    "                            args=(pixels_t,kernel_resize,kernels_wv,wv_idx,pars,nth_order,tracePars,),\\\n",
    "                            callback=barupdate) for wv_idx in range(nwv)]\n",
    "\n",
    "    pixels_c = [p.get() for p in results]\n",
    "\n",
    "    pool.close()\n",
    "    pool.join()\n",
    "\n",
    "    #bring together the results\n",
    "    x=pixels_t*0+1.0e-10\n",
    "    for p in pixels_c:\n",
    "        x+=p\n",
    "\n",
    "    pixels_c=None #release Memory\n",
    "\n",
    "    convolved_image_f277[m,:,:] += x\n",
    "    \n",
    "    # Sum in the flux for that order\n",
    "    actual_counts = np.sum(convolved_image_f277[m,:,:])\n",
    "    print('Actual total counts measured on the simulation = {:} e-/sec'.format(actual_counts))\n",
    "    print()\n"
   ]
  },
  {
   "cell_type": "markdown",
   "metadata": {},
   "source": [
    "# Compute expected counts, bin to native size, convert to DMS coordinates and save on disk."
   ]
  },
  {
   "cell_type": "code",
   "execution_count": 17,
   "metadata": {
    "scrolled": false
   },
   "outputs": [
    {
     "name": "stdout",
     "output_type": "stream",
     "text": [
      "Counts below are in ADU/second.\n",
      "m, order max =  -1.0 31\n"
     ]
    },
    {
     "name": "stderr",
     "output_type": "stream",
     "text": [
      "trace/tracepol.py:101: RankWarning: Polyfit may be poorly conditioned\n",
      "  pars = trace_polynomial(trace, m=m)\n",
      "trace/tracepol.py:101: RankWarning: Polyfit may be poorly conditioned\n",
      "  pars = trace_polynomial(trace, m=m)\n",
      "trace/tracepol.py:101: RankWarning: Polyfit may be poorly conditioned\n",
      "  pars = trace_polynomial(trace, m=m)\n",
      "trace/tracepol.py:101: RankWarning: Polyfit may be poorly conditioned\n",
      "  pars = trace_polynomial(trace, m=m)\n",
      "trace/tracepol.py:101: RankWarning: Polyfit may be poorly conditioned\n",
      "  pars = trace_polynomial(trace, m=m)\n",
      "trace/tracepol.py:101: RankWarning: Polyfit may be poorly conditioned\n",
      "  pars = trace_polynomial(trace, m=m)\n",
      "trace/tracepol.py:101: RankWarning: Polyfit may be poorly conditioned\n",
      "  pars = trace_polynomial(trace, m=m)\n",
      "trace/tracepol.py:101: RankWarning: Polyfit may be poorly conditioned\n",
      "  pars = trace_polynomial(trace, m=m)\n",
      "trace/tracepol.py:101: RankWarning: Polyfit may be poorly conditioned\n",
      "  pars = trace_polynomial(trace, m=m)\n",
      "trace/tracepol.py:101: RankWarning: Polyfit may be poorly conditioned\n",
      "  pars = trace_polynomial(trace, m=m)\n",
      "trace/tracepol.py:101: RankWarning: Polyfit may be poorly conditioned\n",
      "  pars = trace_polynomial(trace, m=m)\n",
      "trace/tracepol.py:101: RankWarning: Polyfit may be poorly conditioned\n",
      "  pars = trace_polynomial(trace, m=m)\n",
      "trace/tracepol.py:101: RankWarning: Polyfit may be poorly conditioned\n",
      "  pars = trace_polynomial(trace, m=m)\n",
      "trace/tracepol.py:101: RankWarning: Polyfit may be poorly conditioned\n",
      "  pars = trace_polynomial(trace, m=m)\n",
      "trace/tracepol.py:101: RankWarning: Polyfit may be poorly conditioned\n",
      "  pars = trace_polynomial(trace, m=m)\n",
      "trace/tracepol.py:101: RankWarning: Polyfit may be poorly conditioned\n",
      "  pars = trace_polynomial(trace, m=m)\n",
      "trace/tracepol.py:101: RankWarning: Polyfit may be poorly conditioned\n",
      "  pars = trace_polynomial(trace, m=m)\n",
      "trace/tracepol.py:101: RankWarning: Polyfit may be poorly conditioned\n",
      "  pars = trace_polynomial(trace, m=m)\n",
      "trace/tracepol.py:101: RankWarning: Polyfit may be poorly conditioned\n",
      "  pars = trace_polynomial(trace, m=m)\n",
      "trace/tracepol.py:101: RankWarning: Polyfit may be poorly conditioned\n",
      "  pars = trace_polynomial(trace, m=m)\n",
      "trace/tracepol.py:101: RankWarning: Polyfit may be poorly conditioned\n",
      "  pars = trace_polynomial(trace, m=m)\n",
      "trace/tracepol.py:101: RankWarning: Polyfit may be poorly conditioned\n",
      "  pars = trace_polynomial(trace, m=m)\n",
      "trace/tracepol.py:101: RankWarning: Polyfit may be poorly conditioned\n",
      "  pars = trace_polynomial(trace, m=m)\n",
      "trace/tracepol.py:101: RankWarning: Polyfit may be poorly conditioned\n",
      "  pars = trace_polynomial(trace, m=m)\n",
      "trace/tracepol.py:101: RankWarning: Polyfit may be poorly conditioned\n",
      "  pars = trace_polynomial(trace, m=m)\n",
      "trace/tracepol.py:101: RankWarning: Polyfit may be poorly conditioned\n",
      "  pars = trace_polynomial(trace, m=m)\n"
     ]
    },
    {
     "data": {
      "image/png": "[encoded data removed]",
      "text/plain": [
       "<Figure size 432x288 with 1 Axes>"
      ]
     },
     "metadata": {
      "needs_background": "light"
     },
     "output_type": "display_data"
    },
    {
     "name": "stdout",
     "output_type": "stream",
     "text": [
      "m, order max =  0.0 11\n"
     ]
    },
    {
     "name": "stderr",
     "output_type": "stream",
     "text": [
      "trace/tracepol.py:101: RankWarning: Polyfit may be poorly conditioned\n",
      "  pars = trace_polynomial(trace, m=m)\n"
     ]
    },
    {
     "data": {
      "image/png": "[encoded data removed]",
      "text/plain": [
       "<Figure size 432x288 with 1 Axes>"
      ]
     },
     "metadata": {
      "needs_background": "light"
     },
     "output_type": "display_data"
    },
    {
     "name": "stderr",
     "output_type": "stream",
     "text": [
      "trace/tracepol.py:101: RankWarning: Polyfit may be poorly conditioned\n",
      "  pars = trace_polynomial(trace, m=m)\n",
      "trace/tracepol.py:101: RankWarning: Polyfit may be poorly conditioned\n",
      "  pars = trace_polynomial(trace, m=m)\n",
      "trace/tracepol.py:101: RankWarning: Polyfit may be poorly conditioned\n",
      "  pars = trace_polynomial(trace, m=m)\n",
      "trace/tracepol.py:101: RankWarning: Polyfit may be poorly conditioned\n",
      "  pars = trace_polynomial(trace, m=m)\n",
      "trace/tracepol.py:101: RankWarning: Polyfit may be poorly conditioned\n",
      "  pars = trace_polynomial(trace, m=m)\n",
      "trace/tracepol.py:101: RankWarning: Polyfit may be poorly conditioned\n",
      "  pars = trace_polynomial(trace, m=m)\n",
      "trace/tracepol.py:101: RankWarning: Polyfit may be poorly conditioned\n",
      "  pars = trace_polynomial(trace, m=m)\n",
      "trace/tracepol.py:101: RankWarning: Polyfit may be poorly conditioned\n",
      "  pars = trace_polynomial(trace, m=m)\n",
      "trace/tracepol.py:101: RankWarning: Polyfit may be poorly conditioned\n",
      "  pars = trace_polynomial(trace, m=m)\n",
      "trace/tracepol.py:101: RankWarning: Polyfit may be poorly conditioned\n",
      "  pars = trace_polynomial(trace, m=m)\n",
      "trace/tracepol.py:101: RankWarning: Polyfit may be poorly conditioned\n",
      "  pars = trace_polynomial(trace, m=m)\n",
      "trace/tracepol.py:101: RankWarning: Polyfit may be poorly conditioned\n",
      "  pars = trace_polynomial(trace, m=m)\n",
      "trace/tracepol.py:101: RankWarning: Polyfit may be poorly conditioned\n",
      "  pars = trace_polynomial(trace, m=m)\n",
      "trace/tracepol.py:101: RankWarning: Polyfit may be poorly conditioned\n",
      "  pars = trace_polynomial(trace, m=m)\n",
      "trace/tracepol.py:101: RankWarning: Polyfit may be poorly conditioned\n",
      "  pars = trace_polynomial(trace, m=m)\n",
      "trace/tracepol.py:101: RankWarning: Polyfit may be poorly conditioned\n",
      "  pars = trace_polynomial(trace, m=m)\n",
      "trace/tracepol.py:101: RankWarning: Polyfit may be poorly conditioned\n",
      "  pars = trace_polynomial(trace, m=m)\n",
      "trace/tracepol.py:101: RankWarning: Polyfit may be poorly conditioned\n",
      "  pars = trace_polynomial(trace, m=m)\n",
      "trace/tracepol.py:101: RankWarning: Polyfit may be poorly conditioned\n",
      "  pars = trace_polynomial(trace, m=m)\n",
      "trace/tracepol.py:101: RankWarning: Polyfit may be poorly conditioned\n",
      "  pars = trace_polynomial(trace, m=m)\n",
      "trace/tracepol.py:101: RankWarning: Polyfit may be poorly conditioned\n",
      "  pars = trace_polynomial(trace, m=m)\n"
     ]
    },
    {
     "name": "stdout",
     "output_type": "stream",
     "text": [
      "m, order max =  1.0 30\n"
     ]
    },
    {
     "name": "stderr",
     "output_type": "stream",
     "text": [
      "trace/tracepol.py:101: RankWarning: Polyfit may be poorly conditioned\n",
      "  pars = trace_polynomial(trace, m=m)\n",
      "trace/tracepol.py:101: RankWarning: Polyfit may be poorly conditioned\n",
      "  pars = trace_polynomial(trace, m=m)\n",
      "trace/tracepol.py:101: RankWarning: Polyfit may be poorly conditioned\n",
      "  pars = trace_polynomial(trace, m=m)\n",
      "trace/tracepol.py:101: RankWarning: Polyfit may be poorly conditioned\n",
      "  pars = trace_polynomial(trace, m=m)\n",
      "trace/tracepol.py:101: RankWarning: Polyfit may be poorly conditioned\n",
      "  pars = trace_polynomial(trace, m=m)\n",
      "trace/tracepol.py:101: RankWarning: Polyfit may be poorly conditioned\n",
      "  pars = trace_polynomial(trace, m=m)\n"
     ]
    },
    {
     "data": {
      "image/png": "[encoded data removed]",
      "text/plain": [
       "<Figure size 432x288 with 1 Axes>"
      ]
     },
     "metadata": {
      "needs_background": "light"
     },
     "output_type": "display_data"
    },
    {
     "name": "stderr",
     "output_type": "stream",
     "text": [
      "trace/tracepol.py:101: RankWarning: Polyfit may be poorly conditioned\n",
      "  pars = trace_polynomial(trace, m=m)\n",
      "trace/tracepol.py:101: RankWarning: Polyfit may be poorly conditioned\n",
      "  pars = trace_polynomial(trace, m=m)\n",
      "trace/tracepol.py:101: RankWarning: Polyfit may be poorly conditioned\n",
      "  pars = trace_polynomial(trace, m=m)\n",
      "trace/tracepol.py:101: RankWarning: Polyfit may be poorly conditioned\n",
      "  pars = trace_polynomial(trace, m=m)\n",
      "trace/tracepol.py:101: RankWarning: Polyfit may be poorly conditioned\n",
      "  pars = trace_polynomial(trace, m=m)\n",
      "trace/tracepol.py:101: RankWarning: Polyfit may be poorly conditioned\n",
      "  pars = trace_polynomial(trace, m=m)\n",
      "trace/tracepol.py:101: RankWarning: Polyfit may be poorly conditioned\n",
      "  pars = trace_polynomial(trace, m=m)\n",
      "trace/tracepol.py:101: RankWarning: Polyfit may be poorly conditioned\n",
      "  pars = trace_polynomial(trace, m=m)\n",
      "trace/tracepol.py:101: RankWarning: Polyfit may be poorly conditioned\n",
      "  pars = trace_polynomial(trace, m=m)\n",
      "trace/tracepol.py:101: RankWarning: Polyfit may be poorly conditioned\n",
      "  pars = trace_polynomial(trace, m=m)\n",
      "trace/tracepol.py:101: RankWarning: Polyfit may be poorly conditioned\n",
      "  pars = trace_polynomial(trace, m=m)\n",
      "trace/tracepol.py:101: RankWarning: Polyfit may be poorly conditioned\n",
      "  pars = trace_polynomial(trace, m=m)\n",
      "trace/tracepol.py:101: RankWarning: Polyfit may be poorly conditioned\n",
      "  pars = trace_polynomial(trace, m=m)\n",
      "trace/tracepol.py:101: RankWarning: Polyfit may be poorly conditioned\n",
      "  pars = trace_polynomial(trace, m=m)\n",
      "trace/tracepol.py:101: RankWarning: Polyfit may be poorly conditioned\n",
      "  pars = trace_polynomial(trace, m=m)\n",
      "trace/tracepol.py:101: RankWarning: Polyfit may be poorly conditioned\n",
      "  pars = trace_polynomial(trace, m=m)\n",
      "trace/tracepol.py:101: RankWarning: Polyfit may be poorly conditioned\n",
      "  pars = trace_polynomial(trace, m=m)\n",
      "trace/tracepol.py:101: RankWarning: Polyfit may be poorly conditioned\n",
      "  pars = trace_polynomial(trace, m=m)\n",
      "trace/tracepol.py:101: RankWarning: Polyfit may be poorly conditioned\n",
      "  pars = trace_polynomial(trace, m=m)\n",
      "trace/tracepol.py:101: RankWarning: Polyfit may be poorly conditioned\n",
      "  pars = trace_polynomial(trace, m=m)\n",
      "trace/tracepol.py:101: RankWarning: Polyfit may be poorly conditioned\n",
      "  pars = trace_polynomial(trace, m=m)\n",
      "trace/tracepol.py:101: RankWarning: Polyfit may be poorly conditioned\n",
      "  pars = trace_polynomial(trace, m=m)\n",
      "trace/tracepol.py:101: RankWarning: Polyfit may be poorly conditioned\n",
      "  pars = trace_polynomial(trace, m=m)\n"
     ]
    },
    {
     "name": "stdout",
     "output_type": "stream",
     "text": [
      "m, order max =  2.0 31\n"
     ]
    },
    {
     "name": "stderr",
     "output_type": "stream",
     "text": [
      "trace/tracepol.py:101: RankWarning: Polyfit may be poorly conditioned\n",
      "  pars = trace_polynomial(trace, m=m)\n",
      "trace/tracepol.py:101: RankWarning: Polyfit may be poorly conditioned\n",
      "  pars = trace_polynomial(trace, m=m)\n",
      "trace/tracepol.py:101: RankWarning: Polyfit may be poorly conditioned\n",
      "  pars = trace_polynomial(trace, m=m)\n",
      "trace/tracepol.py:101: RankWarning: Polyfit may be poorly conditioned\n",
      "  pars = trace_polynomial(trace, m=m)\n"
     ]
    },
    {
     "data": {
      "image/png": "[encoded data removed]",
      "text/plain": [
       "<Figure size 432x288 with 1 Axes>"
      ]
     },
     "metadata": {
      "needs_background": "light"
     },
     "output_type": "display_data"
    },
    {
     "name": "stderr",
     "output_type": "stream",
     "text": [
      "trace/tracepol.py:101: RankWarning: Polyfit may be poorly conditioned\n",
      "  pars = trace_polynomial(trace, m=m)\n",
      "trace/tracepol.py:101: RankWarning: Polyfit may be poorly conditioned\n",
      "  pars = trace_polynomial(trace, m=m)\n",
      "trace/tracepol.py:101: RankWarning: Polyfit may be poorly conditioned\n",
      "  pars = trace_polynomial(trace, m=m)\n",
      "trace/tracepol.py:101: RankWarning: Polyfit may be poorly conditioned\n",
      "  pars = trace_polynomial(trace, m=m)\n",
      "trace/tracepol.py:101: RankWarning: Polyfit may be poorly conditioned\n",
      "  pars = trace_polynomial(trace, m=m)\n",
      "trace/tracepol.py:101: RankWarning: Polyfit may be poorly conditioned\n",
      "  pars = trace_polynomial(trace, m=m)\n",
      "trace/tracepol.py:101: RankWarning: Polyfit may be poorly conditioned\n",
      "  pars = trace_polynomial(trace, m=m)\n",
      "trace/tracepol.py:101: RankWarning: Polyfit may be poorly conditioned\n",
      "  pars = trace_polynomial(trace, m=m)\n",
      "trace/tracepol.py:101: RankWarning: Polyfit may be poorly conditioned\n",
      "  pars = trace_polynomial(trace, m=m)\n",
      "trace/tracepol.py:101: RankWarning: Polyfit may be poorly conditioned\n",
      "  pars = trace_polynomial(trace, m=m)\n",
      "trace/tracepol.py:101: RankWarning: Polyfit may be poorly conditioned\n",
      "  pars = trace_polynomial(trace, m=m)\n",
      "trace/tracepol.py:101: RankWarning: Polyfit may be poorly conditioned\n",
      "  pars = trace_polynomial(trace, m=m)\n",
      "trace/tracepol.py:101: RankWarning: Polyfit may be poorly conditioned\n",
      "  pars = trace_polynomial(trace, m=m)\n",
      "trace/tracepol.py:101: RankWarning: Polyfit may be poorly conditioned\n",
      "  pars = trace_polynomial(trace, m=m)\n",
      "trace/tracepol.py:101: RankWarning: Polyfit may be poorly conditioned\n",
      "  pars = trace_polynomial(trace, m=m)\n",
      "trace/tracepol.py:101: RankWarning: Polyfit may be poorly conditioned\n",
      "  pars = trace_polynomial(trace, m=m)\n",
      "trace/tracepol.py:101: RankWarning: Polyfit may be poorly conditioned\n",
      "  pars = trace_polynomial(trace, m=m)\n",
      "trace/tracepol.py:101: RankWarning: Polyfit may be poorly conditioned\n",
      "  pars = trace_polynomial(trace, m=m)\n",
      "trace/tracepol.py:101: RankWarning: Polyfit may be poorly conditioned\n",
      "  pars = trace_polynomial(trace, m=m)\n",
      "trace/tracepol.py:101: RankWarning: Polyfit may be poorly conditioned\n",
      "  pars = trace_polynomial(trace, m=m)\n",
      "trace/tracepol.py:101: RankWarning: Polyfit may be poorly conditioned\n",
      "  pars = trace_polynomial(trace, m=m)\n",
      "trace/tracepol.py:101: RankWarning: Polyfit may be poorly conditioned\n",
      "  pars = trace_polynomial(trace, m=m)\n",
      "trace/tracepol.py:101: RankWarning: Polyfit may be poorly conditioned\n",
      "  pars = trace_polynomial(trace, m=m)\n",
      "trace/tracepol.py:101: RankWarning: Polyfit may be poorly conditioned\n",
      "  pars = trace_polynomial(trace, m=m)\n",
      "trace/tracepol.py:101: RankWarning: Polyfit may be poorly conditioned\n",
      "  pars = trace_polynomial(trace, m=m)\n",
      "trace/tracepol.py:101: RankWarning: Polyfit may be poorly conditioned\n",
      "  pars = trace_polynomial(trace, m=m)\n",
      "trace/tracepol.py:101: RankWarning: Polyfit may be poorly conditioned\n",
      "  pars = trace_polynomial(trace, m=m)\n"
     ]
    },
    {
     "name": "stdout",
     "output_type": "stream",
     "text": [
      "m, order max =  3.0 31\n"
     ]
    },
    {
     "data": {
      "image/png": "[encoded data removed]",
      "text/plain": [
       "<Figure size 432x288 with 1 Axes>"
      ]
     },
     "metadata": {
      "needs_background": "light"
     },
     "output_type": "display_data"
    },
    {
     "name": "stderr",
     "output_type": "stream",
     "text": [
      "trace/tracepol.py:101: RankWarning: Polyfit may be poorly conditioned\n",
      "  pars = trace_polynomial(trace, m=m)\n"
     ]
    },
    {
     "name": "stdout",
     "output_type": "stream",
     "text": [
      "Expected counts returned are:  [1764411.21266618 1222128.75576922]\n",
      "\n",
      "Order 0: simulated counts = 4023378.700661295, expected counts = 1764411.2126661828\n",
      "The scale factor to apply is 0.43853968118292685\n",
      "\n",
      "Order 1: simulated counts = 2869069.0498576453, expected counts = 1222128.7557692192\n",
      "The scale factor to apply is 0.42596700690415856\n",
      "\n",
      "Final check on the calibrated, merged down image:\n",
      "Counts on final image = 2986539.968435403, Expected counts = 2986539.968435402\n"
     ]
    },
    {
     "data": {
      "text/plain": [
       "<matplotlib.image.AxesImage at 0x7f0328250650>"
      ]
     },
     "execution_count": 17,
     "metadata": {},
     "output_type": "execute_result"
    },
    {
     "data": {
      "image/png": "[encoded data removed]",
      "text/plain": [
       "<Figure size 1080x576 with 1 Axes>"
      ]
     },
     "metadata": {
      "needs_background": "light"
     },
     "output_type": "display_data"
    }
   ],
   "source": [
    "# PART A - Definition of parameter values\n",
    "filtername = 'J' # See readFilter in synthesizeMagnitude.py to see the many supported filter names\n",
    "magnitude = 8.5 # In the Vega magnitude system for most filters, occasionaly in AB system\n",
    "model_um = bin_starmodel_wv/10000 # Need to have the input in micrometers\n",
    "model_flamba = bin_starmodel_flux # Needs to be Flambda, not Fnu\n",
    "return_adupersec = True # if False then it returns e- per sec\n",
    "fitsname_f277 = 'f277.fits'\n",
    "if return_adupersec is True: print('Counts below are in ADU/second.')\n",
    "else: print('Counts below are in electrons/second.')\n",
    "\n",
    "\n",
    "# PART B - Calculate the expected number of counts per second (either electrons or adu)\n",
    "# based on the model spectrum and assumptions on the JWST surface area and electronic gain.\n",
    "expected_counts_f277 = smag.expected_flux_calibration(filtername,magnitude,model_um,\n",
    "                                                 model_flamba, order_list,\n",
    "                                                 convert_to_adupersec=return_adupersec,\n",
    "                                                 verbose=False, \n",
    "                                                 trace_file=trace_file,\n",
    "                                                 response_file=response_file,\n",
    "                                                 pathfilter='./specgen/FilterSVO/',\n",
    "                                                 pathvega='./specgen/FilterSVO/',                                                     \n",
    "                                                 F277=True)\n",
    "print('Expected counts returned are: ', expected_counts_f277)\n",
    "print()\n",
    "\n",
    "# PART C - Apply the normlization and bin oversampled image to native pixel size\n",
    "# Initialize a cube that will be flux calibrated \n",
    "normalized_cube_f277 = np.copy(convolved_image_f277)\n",
    "# The scale factors needed for each order is stored in here\n",
    "scalefactors_f277 = np.copy(expected_counts_f277) * 0.0\n",
    "simulated_counts_f277 = np.copy(expected_counts_f277) * 0.0\n",
    "# Apply the normalization one order at a time\n",
    "for i in range(np.size(order_list)):\n",
    "    simulated_counts_f277[i] = np.sum(convolved_image_f277[i,:,:])\n",
    "    scalefactors_f277[i] = expected_counts_f277[i] / simulated_counts_f277[i]\n",
    "    print('Order {:}: simulated counts = {:}, expected counts = {:}'.format(\n",
    "        order_list[i],simulated_counts_f277[i],expected_counts_f277[i]))\n",
    "    print('The scale factor to apply is {:}'.format(scalefactors_f277[i]))\n",
    "    normalized_cube_f277[i,:,:] = convolved_image_f277[i,:,:] * scalefactors_f277[i]\n",
    "    print()\n",
    "# To bin down to the native pixel size and merge down the cube into a single image, use this function\n",
    "mergedown = np.sum(normalized_cube_f277,axis=0)\n",
    "image_nativesize_f277 = downscale_local_mean(mergedown,(pars.noversample,pars.noversample))*pars.noversample**2\n",
    "native_counts_f277 = np.sum(image_nativesize_f277)\n",
    "print('Final check on the calibrated, merged down image:')\n",
    "print('Counts on final image = {:}, Expected counts = {:}'.format(native_counts_f277,np.sum(expected_counts_f277)))\n",
    "\n",
    "\n",
    "# PART D - Orient the image for the DMS format and save it to disk\n",
    "# Here, image is still not in the DMS format. We need to make a flip vertically.\n",
    "image_nativesize_DMS_f277 = np.flip(image_nativesize_f277,axis=0)\n",
    "# Save the fits image on disk\n",
    "hdu = fits.PrimaryHDU()\n",
    "hdu.data = image_nativesize_DMS_f277\n",
    "hdu.writeto(fitsname_f277, overwrite=True)\n",
    "# Display the image\n",
    "plt.figure(figsize=(15,8))\n",
    "plt.imshow(image_nativesize_DMS_f277, origin='lower')\n"
   ]
  },
  {
   "cell_type": "code",
   "execution_count": null,
   "metadata": {},
   "outputs": [],
   "source": []
  }
 ],
 "metadata": {
  "kernelspec": {
   "display_name": "Python 3",
   "language": "python",
   "name": "python3"
  },
  "language_info": {
   "codemirror_mode": {
    "name": "ipython",
    "version": 3
   },
   "file_extension": ".py",
   "mimetype": "text/x-python",
   "name": "python",
   "nbconvert_exporter": "python",
   "pygments_lexer": "ipython3",
   "version": "3.7.6"
  }
 },
 "nbformat": 4,
 "nbformat_minor": 4
}
