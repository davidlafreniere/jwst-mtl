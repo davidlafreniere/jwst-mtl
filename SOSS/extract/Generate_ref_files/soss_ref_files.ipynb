{
 "cells": [
  {
   "cell_type": "markdown",
   "id": "ab0732eb",
   "metadata": {},
   "source": [
    "# NIRISS SOSS Extraction - Reference File Creation."
   ]
  },
  {
   "cell_type": "code",
   "execution_count": 1,
   "id": "4e886942",
   "metadata": {},
   "outputs": [],
   "source": [
    "import numpy as np\n",
    "\n",
    "from astropy.io import fits, ascii\n",
    "\n",
    "from SOSS.trace import tracepol\n",
    "from SOSS.extract.Generate_ref_files.soss_ref_files import init_spec_trace, calc_2d_wave_map, init_wave_map, init_spec_profile, init_spec_kernel"
   ]
  },
  {
   "cell_type": "markdown",
   "id": "df07266e",
   "metadata": {},
   "source": [
    "## The 1D spectral trace reference files."
   ]
  },
  {
   "cell_type": "markdown",
   "id": "0ae214bb",
   "metadata": {},
   "source": [
    "The 1D spectral trace reference files contain, as a function of wavelength, the x, y coordinates of the trace in pixels, the tilt angle in degrees and the throughput. In this exmaple we prepare data from various sources and use `init_spec_trace()` to create the reference file."
   ]
  },
  {
   "cell_type": "code",
   "execution_count": 2,
   "id": "f02ccb7d",
   "metadata": {},
   "outputs": [],
   "source": [
    "# We will use the following sources for this reference file. These can be modified as needed.\n",
    "throughput_file = 'files/NIRISS_Throughput_STScI.fits'\n",
    "tilt_file = 'files/SOSS_wavelength_dependent_tilt.ecsv'"
   ]
  },
  {
   "cell_type": "code",
   "execution_count": 3,
   "id": "2616fa8c",
   "metadata": {},
   "outputs": [],
   "source": [
    "# All sources will be modified to correspond to this wavelength grid.\n",
    "wavemin = 0.5\n",
    "wavemax = 5.5\n",
    "nwave = 5001\n",
    "wave_grid = np.linspace(wavemin, wavemax, nwave)"
   ]
  },
  {
   "cell_type": "code",
   "execution_count": 4,
   "id": "8ab8ef56",
   "metadata": {},
   "outputs": [],
   "source": [
    "# Read the SOSS total throughput as a function of wavelength.\n",
    "tab, hdr = fits.getdata(throughput_file, ext=1, header=True)\n",
    "\n",
    "# Interpolate to the reference wavelength grid.\n",
    "throughput = np.zeros((nwave, 3))\n",
    "throughput[:, 0] = np.interp(wave_grid, tab[0]['LAMBDA']/1e3, tab[0]['SOSS_ORDER1'])\n",
    "throughput[:, 1] = np.interp(wave_grid, tab[0]['LAMBDA']/1e3, tab[0]['SOSS_ORDER2'])\n",
    "throughput[:, 2] = np.interp(wave_grid, tab[0]['LAMBDA']/1e3, tab[0]['SOSS_ORDER3'])\n",
    "\n",
    "# Fix small negative throughput values.\n",
    "throughput = np.where(throughput < 0, 0, throughput)"
   ]
  },
  {
   "cell_type": "code",
   "execution_count": 5,
   "id": "f5fa3fdc",
   "metadata": {},
   "outputs": [],
   "source": [
    "# Read the tilt as a function of wavelength.\n",
    "tab = ascii.read(tilt_file)\n",
    "\n",
    "# Interpolate the tilt to the same wavelengths as the throughput.\n",
    "# Default bounds handling (constant boundary) is fine.\n",
    "tilt = np.zeros((nwave, 3))\n",
    "tilt[:, 0] = np.interp(wave_grid, tab['Wavelength'], tab['order 1'])\n",
    "tilt[:, 1] = np.interp(wave_grid, tab['Wavelength'], tab['order 2'])\n",
    "tilt[:, 2] = np.interp(wave_grid, tab['Wavelength'], tab['order 3'])"
   ]
  },
  {
   "cell_type": "code",
   "execution_count": 6,
   "id": "be769806",
   "metadata": {},
   "outputs": [],
   "source": [
    "# Read the trace position parameters.\n",
    "tracepars = tracepol.get_tracepars('../../trace/NIRISS_GR700_trace_extended.csv')\n",
    "\n",
    "# Get positions for all orders and subarrays.\n",
    "xtrace_order1, ytrace_order1, mask = tracepol.wavelength_to_pix(wave_grid, tracepars, m=1, frame='dms', subarray='FULL')\n",
    "xtrace_order1 = np.where(mask, xtrace_order1, np.nan)\n",
    "ytrace_order1 = np.where(mask, ytrace_order1, np.nan)\n",
    "\n",
    "xtrace_order2, ytrace_order2, mask = tracepol.wavelength_to_pix(wave_grid, tracepars, m=2, frame='dms', subarray='FULL')\n",
    "xtrace_order2 = np.where(mask, xtrace_order2, np.nan)\n",
    "ytrace_order2 = np.where(mask, ytrace_order2, np.nan)\n",
    "\n",
    "xtrace_order3, ytrace_order3, mask = tracepol.wavelength_to_pix(wave_grid, tracepars, m=3, frame='dms', subarray='FULL')\n",
    "xtrace_order3 = np.where(mask, xtrace_order3, np.nan)\n",
    "ytrace_order3 = np.where(mask, ytrace_order3, np.nan)\n",
    "\n",
    "xtrace = np.zeros((nwave, 3))\n",
    "xtrace[:, 0] = xtrace_order1\n",
    "xtrace[:, 1] = xtrace_order2\n",
    "xtrace[:, 2] = xtrace_order3\n",
    "\n",
    "ytrace = np.zeros((nwave, 3))\n",
    "ytrace[:, 0] = ytrace_order1\n",
    "ytrace[:, 1] = ytrace_order2\n",
    "ytrace[:, 2] = ytrace_order3"
   ]
  },
  {
   "cell_type": "code",
   "execution_count": 7,
   "id": "07c9e86c",
   "metadata": {},
   "outputs": [],
   "source": [
    "# Call init_spec_trace with the cleaned input data. This will perform checks on the input and built the fits file structure.\n",
    "hdul = init_spec_trace(wave_grid, xtrace, ytrace, tilt, throughput, 'FULL')"
   ]
  },
  {
   "cell_type": "code",
   "execution_count": 8,
   "id": "f9b045de",
   "metadata": {},
   "outputs": [],
   "source": [
    "# If necessary manual changes and additions can be made here, before saving the file.\n",
    "filename = hdul[0].header['FILENAME']\n",
    "hdul.writeto(filename, overwrite=True)\n",
    "hdul.writeto(filename + '.gz', overwrite=True)"
   ]
  },
  {
   "cell_type": "markdown",
   "id": "54907ded",
   "metadata": {},
   "source": [
    "## The 2D wavelength map reference files."
   ]
  },
  {
   "cell_type": "markdown",
   "id": "a1b2d7de",
   "metadata": {},
   "source": [
    "The 2D wavelength map reference files contain the oversampled and padded wavelength maps of each order on the detector. In this example we use the 1D spectral trace reference for FULL subarray to compute the 2D wavelength maps for each order and use init_wave_map() to create the reference file."
   ]
  },
  {
   "cell_type": "code",
   "execution_count": 9,
   "id": "40820984",
   "metadata": {},
   "outputs": [],
   "source": [
    "# We will use the following sources for this reference file. These can be modified as needed.\n",
    "trace_file = 'SOSS_ref_trace_table_FULL.fits'"
   ]
  },
  {
   "cell_type": "code",
   "execution_count": 10,
   "id": "b19919de",
   "metadata": {},
   "outputs": [],
   "source": [
    "padding = 10\n",
    "oversample = 2\n",
    "\n",
    "dimx = oversample*(2048 + 2*padding)\n",
    "dimy = oversample*(2048 + 2*padding)\n",
    "\n",
    "wave_map_2d = np.zeros((dimx, dimy, 3))\n",
    "\n",
    "# Read the 1D trace reference file.\n",
    "data = fits.getdata(trace_file, ext=1)\n",
    "\n",
    "# Compute the 2D wavelength map.\n",
    "wave_map_2d[:, :, 0] = calc_2d_wave_map(data['WAVELENGTH'], data['X'], data['Y'], data['TILT'], oversample=oversample, padding=padding)\n",
    "\n",
    "# Read the 1D trace reference file.\n",
    "data = fits.getdata(trace_file, ext=2)\n",
    "\n",
    "# Compute the 2D wavelength map.\n",
    "wave_map_2d[:, :, 1] = calc_2d_wave_map(data['WAVELENGTH'], data['X'], data['Y'], data['TILT'], oversample=oversample, padding=padding)\n",
    "\n",
    "# Read the 1D trace reference file.\n",
    "data = fits.getdata(trace_file, ext=3)\n",
    "\n",
    "# Compute the 2D wavelength map.\n",
    "wave_map_2d[:, :, 2] = calc_2d_wave_map(data['WAVELENGTH'], data['X'], data['Y'], data['TILT'], oversample=oversample, padding=padding)"
   ]
  },
  {
   "cell_type": "code",
   "execution_count": 11,
   "id": "0022745f",
   "metadata": {},
   "outputs": [],
   "source": [
    "hdul = init_wave_map(wave_map_2d, oversample, padding, 'SUBSTRIP256')"
   ]
  },
  {
   "cell_type": "code",
   "execution_count": 12,
   "id": "1e828de4",
   "metadata": {},
   "outputs": [],
   "source": [
    "# If necessary manual changes and additions can be made here, before saving the file.\n",
    "filename = hdul[0].header['FILENAME']\n",
    "hdul.writeto(filename, overwrite=True)\n",
    "hdul.writeto(filename + '.gz', overwrite=True)"
   ]
  },
  {
   "cell_type": "markdown",
   "id": "cc8493ef",
   "metadata": {},
   "source": [
    "## The 2D spectral profile reference files."
   ]
  },
  {
   "cell_type": "markdown",
   "id": "c27cda41",
   "metadata": {},
   "source": [
    "The 2D spectral profile reference files contain the oversampled and padded normalized? PSF? of each order on the detector. In this example we use an input file generated by Loïc from a simulated SOSS observation and use init_spec_profile() to create the reference file."
   ]
  },
  {
   "cell_type": "code",
   "execution_count": 13,
   "id": "5d6c708d",
   "metadata": {},
   "outputs": [],
   "source": [
    "# We will use the following sources for this reference file. These can be modified as needed.\n",
    "profile_file = 'files/2DTrace.fits'"
   ]
  },
  {
   "cell_type": "code",
   "execution_count": 14,
   "id": "e0a1a310",
   "metadata": {},
   "outputs": [],
   "source": [
    "# Read the profile file provided by Loïc.\n",
    "profile_2d = fits.getdata(profile_file, ext=0)\n",
    "profile_2d = np.moveaxis(profile_2d, 0, -1)\n",
    "\n",
    "# The padding and oversamspling used to generate the 2D profile. \n",
    "padding = 10\n",
    "oversample = 2\n",
    "\n",
    "# The provided file is for SUBSTRIP256, we pad this to the FULL subarray.\n",
    "nrows, ncols, _ = profile_2d.shape\n",
    "dimy = oversample*(2048 + 2*padding)\n",
    "dimx = oversample*(2048 + 2*padding)\n",
    "\n",
    "tmp = np.full((dimy, dimx, 3), fill_value=np.nan)\n",
    "tmp[-nrows:] = profile_2d\n",
    "profile_2d = tmp"
   ]
  },
  {
   "cell_type": "code",
   "execution_count": 15,
   "id": "424ea720",
   "metadata": {},
   "outputs": [],
   "source": [
    "# Call init_spec_profile with the prepared input data.\n",
    "hdul = init_spec_profile(profile_2d, oversample, padding, 'SUBSTRIP256')"
   ]
  },
  {
   "cell_type": "code",
   "execution_count": 16,
   "id": "fc671673",
   "metadata": {},
   "outputs": [],
   "source": [
    "# If necessary manual changes and additions can be made here, before saving the file.\n",
    "filename = hdul[0].header['FILENAME']\n",
    "hdul.writeto(filename, overwrite=True)\n",
    "hdul.writeto(filename + '.gz', overwrite=True)"
   ]
  },
  {
   "cell_type": "markdown",
   "id": "350946f8",
   "metadata": {},
   "source": [
    "## The spectral kernel reference file."
   ]
  },
  {
   "cell_type": "markdown",
   "id": "8de833fb",
   "metadata": {},
   "source": [
    "The spectral kernel reference file contains the SOSS convolution kernel as a function of wavelength. In this example we use an input file generated by Loïc using WebbPSF and use init_spec_profile() to create the reference file."
   ]
  },
  {
   "cell_type": "code",
   "execution_count": 17,
   "id": "ad9d3cea",
   "metadata": {},
   "outputs": [],
   "source": [
    "# We will use the following sources for this reference file. These can be modified as needed.\n",
    "kernel_file = 'files/spectral_kernel_matrix_os_10_width_15pixels.fits'"
   ]
  },
  {
   "cell_type": "code",
   "execution_count": 18,
   "id": "b517d4c0",
   "metadata": {},
   "outputs": [],
   "source": [
    "# Read the kernel file provided by Loïc, this is based on WebbPSF.\n",
    "kernels, hdr = fits.getdata(kernel_file, header=True)\n",
    "\n",
    "specos = hdr['SPECOS']\n",
    "halfwidth = hdr['HALFWIDT']\n",
    "nwave = hdr['NWAVE']\n",
    "wavemin = hdr['WAVE0']\n",
    "wavemax = hdr['WAVEN']\n",
    "\n",
    "# Build the wavelength array.\n",
    "wavelengths = np.linspace(wavemin, wavemax, nwave)\n",
    "wavelengths = np.ones_like(kernels) * wavelengths"
   ]
  },
  {
   "cell_type": "code",
   "execution_count": 19,
   "id": "cec69f26",
   "metadata": {},
   "outputs": [],
   "source": [
    "# Call init_spec_kernel with the prepared input data.\n",
    "hdul = init_spec_kernel(wavelengths, kernels, specos, halfwidth, nwave, wavemin, wavemax)"
   ]
  },
  {
   "cell_type": "code",
   "execution_count": 20,
   "id": "8ca451f4",
   "metadata": {},
   "outputs": [],
   "source": [
    "# If necessary manual changes and additions can be made here, before saving the file.\n",
    "filename = hdul[0].header['FILENAME']\n",
    "hdul.writeto(filename, overwrite=True)\n",
    "hdul.writeto(filename + '.gz', overwrite=True)"
   ]
  }
 ],
 "metadata": {
  "kernelspec": {
   "display_name": "Python 3",
   "language": "python",
   "name": "python3"
  },
  "language_info": {
   "codemirror_mode": {
    "name": "ipython",
    "version": 3
   },
   "file_extension": ".py",
   "mimetype": "text/x-python",
   "name": "python",
   "nbconvert_exporter": "python",
   "pygments_lexer": "ipython3",
   "version": "3.9.4"
  }
 },
 "nbformat": 4,
 "nbformat_minor": 5
}
