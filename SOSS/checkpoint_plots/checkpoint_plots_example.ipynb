{
 "cells": [
  {
   "cell_type": "markdown",
   "metadata": {},
   "source": [
    "# Example Notebook for Checkpoint Plots\n",
    "A collection of functions to facilitate the comparison of intermediate data products across different reduction and analysss pipelines."
   ]
  },
  {
   "cell_type": "code",
   "execution_count": 1,
   "metadata": {},
   "outputs": [],
   "source": [
    "from sys import path\n",
    "# Add the highest level of the jwst-mtl repo to path\n",
    "soss_path = '/Users/michaelradica/Documents/GitHub/jwst-mtl/'\n",
    "path.insert(1, soss_path)\n",
    "\n",
    "# Import the checkpoint_plot code\n",
    "import SOSS.checkpoint_plots.checkpoint_plots as checkpoints"
   ]
  },
  {
   "cell_type": "markdown",
   "metadata": {},
   "source": [
    "Make a plot to assess the quality of the order decontamination performed by ATOCA."
   ]
  },
  {
   "cell_type": "code",
   "execution_count": 3,
   "metadata": {},
   "outputs": [
    {
     "ename": "TypeError",
     "evalue": "__init__() missing 2 required positional arguments: 'datafile' and 'modelfile'",
     "output_type": "error",
     "traceback": [
      "\u001b[0;31m---------------------------------------------------------------------------\u001b[0m",
      "\u001b[0;31mTypeError\u001b[0m                                 Traceback (most recent call last)",
      "\u001b[0;32m<ipython-input-3-f4f00fd1542d>\u001b[0m in \u001b[0;36m<module>\u001b[0;34m\u001b[0m\n\u001b[0;32m----> 1\u001b[0;31m \u001b[0mdp\u001b[0m \u001b[0;34m=\u001b[0m \u001b[0mcheckpoints\u001b[0m\u001b[0;34m.\u001b[0m\u001b[0mDecontaminationPlot\u001b[0m\u001b[0;34m(\u001b[0m\u001b[0;34m)\u001b[0m\u001b[0;34m\u001b[0m\u001b[0;34m\u001b[0m\u001b[0m\n\u001b[0m",
      "\u001b[0;31mTypeError\u001b[0m: __init__() missing 2 required positional arguments: 'datafile' and 'modelfile'"
     ]
    }
   ],
   "source": [
    "# Path to the SOSS observation fits file. Ideally, whatever was passed to ATOCA via the\n",
    "# Extract1dStep of the JWST DMS\n",
    "observation_filepath = \n",
    "# Path to the decontaminated SOSS orders constructed by ATOCA. These will generally have\n",
    "# the suffix '_SossExtractModel.fits'.\n",
    "# ** Note **: the soss_modelname argument must be specified when calling Extract1dStep to\n",
    "# produce this files.\n",
    "soss_model_filepath = "
   ]
  },
  {
   "cell_type": "code",
   "execution_count": null,
   "metadata": {},
   "outputs": [],
   "source": [
    "# Initialize the DecontaminationPlot\n",
    "dp = checkpoints.DecontaminationPlot(observation_filepath, soss_model_filepath)"
   ]
  },
  {
   "cell_type": "code",
   "execution_count": null,
   "metadata": {},
   "outputs": [],
   "source": [
    "# Make the plot\n",
    "# By default a plot is made for the first integration of the TSO. This can be changed by\n",
    "# passing a list of integrations to the 'integrations' argument. Alternative, pass 'all' to\n",
    "# plot the deconamination for every integration.\n",
    "# To output the plots to a pdf file, specify a file name using the 'savefile' argument - useful\n",
    "# if comparing many integrations.\n",
    "dp.make_decontamination_plot()"
   ]
  }
 ],
 "metadata": {
  "kernelspec": {
   "display_name": "ers-transit",
   "language": "python",
   "name": "ers-transit"
  },
  "language_info": {
   "codemirror_mode": {
    "name": "ipython",
    "version": 3
   },
   "file_extension": ".py",
   "mimetype": "text/x-python",
   "name": "python",
   "nbconvert_exporter": "python",
   "pygments_lexer": "ipython3",
   "version": "3.9.5"
  }
 },
 "nbformat": 4,
 "nbformat_minor": 4
}
