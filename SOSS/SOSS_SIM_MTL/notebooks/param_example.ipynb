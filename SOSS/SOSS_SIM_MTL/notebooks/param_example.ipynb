{
 "cells": [
  {
   "cell_type": "markdown",
   "metadata": {},
   "source": [
    "# Parameter example"
   ]
  },
  {
   "cell_type": "markdown",
   "metadata": {},
   "source": [
    "## 1. Setup"
   ]
  },
  {
   "cell_type": "markdown",
   "metadata": {},
   "source": [
    " Setup notebook:"
   ]
  },
  {
   "cell_type": "code",
   "execution_count": 15,
   "metadata": {},
   "outputs": [],
   "source": [
    "# just for the notebook setup so we have the ami_sim module\n",
    "import os\n",
    "import sys\n",
    "sys.path.append('../')\n",
    "os.environ['SOSSDIR'] = \"/data/jwst_soss/data/neil_wrap\""
   ]
  },
  {
   "cell_type": "markdown",
   "metadata": {},
   "source": [
    "First we import from soss_sim"
   ]
  },
  {
   "cell_type": "code",
   "execution_count": 16,
   "metadata": {},
   "outputs": [],
   "source": [
    "from soss_mtl.core.instrument import constants\n",
    "from soss_mtl.core.core import param_functions"
   ]
  },
  {
   "cell_type": "markdown",
   "metadata": {},
   "source": [
    "All codes should have the following variables (at the start of the code)"
   ]
  },
  {
   "cell_type": "code",
   "execution_count": 17,
   "metadata": {},
   "outputs": [],
   "source": [
    "# =============================================================================\n",
    "# Define variables\n",
    "# =============================================================================\n",
    "# set name\n",
    "__NAME__ = 'bin/test.py'\n",
    "__DESCRIPTION__ = 'test script for SOSS_SIM_MTL'\n",
    "# get default constants\n",
    "consts = constants.Consts\n",
    "# copy for update\n",
    "lconsts = consts.copy(__NAME__)\n",
    "# set very basic constants\n",
    "__VERSION__ = lconsts.constants['PACKAGE_VERSION'].value\n",
    "__DATE__ = lconsts.constants['PACKAGE_VERSION_DATE'].value"
   ]
  },
  {
   "cell_type": "markdown",
   "metadata": {},
   "source": [
    "Define custom arguments (just for this code)\n",
    "\n",
    "Example here we add a \"scene\" argument with the following properties:\n",
    "1. name = \"SCENE\"          # parameter name = \"SCENE\"\n",
    "2. dtype = str             # data type = python string\n",
    "3. source = `__NAME__`     # where the parameter was defined (here `__NAME__` is the code name)\n",
    "4. user = True             # whether to populate this value in any config file generated\n",
    "5. argument = True         # whether to use this variable from command line (must define \"command\" in this case)\n",
    "6. group = 'code'          # which group this variable belongs to (mostly for config file)\n",
    "7. description = ...       # a description for the help file / config file\n",
    "8. command = `['--scene']` # a list of commands to be able to use at run time e.g. in this case --scene=test.fits"
   ]
  },
  {
   "cell_type": "code",
   "execution_count": 18,
   "metadata": {},
   "outputs": [],
   "source": [
    "# Define the scene fits file\n",
    "lconsts.add_argument('TESTVALUE', value=None, dtype=str,\n",
    "                     source=__NAME__, user=True, argument=True,\n",
    "                     group='code', description='Define a test value',\n",
    "                     command=['--value'])"
   ]
  },
  {
   "cell_type": "markdown",
   "metadata": {},
   "source": [
    "Now we can get parameters:"
   ]
  },
  {
   "cell_type": "code",
   "execution_count": 19,
   "metadata": {},
   "outputs": [
    {
     "name": "stderr",
     "output_type": "stream",
     "text": [
      "\u001B[1;95;1m*******************************************************************************\u001B[0;0m\n",
      "\u001B[92;1m soss_mtl        Version: 0.0.001\u001B[0;0m\n",
      "\u001B[1;95;1m*******************************************************************************\u001B[0;0m\n"
     ]
    }
   ],
   "source": [
    "kwargs = dict()                   # this is used for function calls (ignore for now)\n",
    "sys.argv = 'test.py'.split()      # this is where command lines arguments come from\n",
    "params = param_functions.setup(lconsts, kwargs, desc=__DESCRIPTION__)"
   ]
  },
  {
   "cell_type": "markdown",
   "metadata": {},
   "source": [
    "For example params currently has the following:"
   ]
  },
  {
   "cell_type": "code",
   "execution_count": 20,
   "metadata": {},
   "outputs": [
    {
     "data": {
      "text/plain": "'/data/jwst_soss/data/neil_wrap'"
     },
     "execution_count": 20,
     "metadata": {},
     "output_type": "execute_result"
    }
   ],
   "source": [
    "params['ENV_DIR']\n",
    "os.environ[params['ENV_DIR']]"
   ]
  },
  {
   "cell_type": "code",
   "execution_count": 21,
   "metadata": {},
   "outputs": [
    {
     "data": {
      "text/plain": "ParamDict:\n\n \tDEBUG:                        0                                             # core.instruments.constants.py\n \tUSER_CONFIG_FILE:             None                                          # core.instruments.constants.py\n \tPACKAGE_NAME:                 soss_mtl                                      # core.instruments.constants.py\n \tPACKAGE_VERSION:              0.0.001                                       # core.instruments.constants.py\n \tPACKAGE_VERSION_DATE:         2021-05-27                                    # core.instruments.constants.py\n \tPACKAGE_THEME:                DARK                                          # core.instruments.constants.py\n \tPACKAGE_DIRECTORY:            soss_sim_data                                 # core.instruments.constants.py\n \tGENERATE_CONFIG_FILE:         False                                         # core.instruments.constants.py\n \tENV_DIR:                      SOSSDIR                                       # core.instruments.constants.py\n \tDIRECTORY:                    .                                             # core.instruments.constants.py core.core.constant_functions.py._read_from_config_file() [SET]\n \tTESTVALUE:                    None                                          # bin/test.py\n \tCONFIGDIR:                    config                                        # core.core.constant_functions.py._read_from_config_file()\n \tPID:                          PID-00016221398936037720-9LAL                 # core.core.constant_functions.py.setup()\n \tPIDTIME:                      2021-05-27 18:24:53.604                       # core.core.constant_functions.py.setup()\n \tINPUTDIR:                     inputs                                        # core.core.constant_functions.py._setup_working_directory()\n \tOUTPUTDIR:                    outputs                                       # core.core.constant_functions.py._setup_working_directory()\n \tLOGDIR:                       log                                           # core.core.constant_functions.py._setup_working_directory()\n \tLOGFILE:                      log/PID-00016221398936037720-9LAL.log         # core.core.constant_functions.py._setup_working_directory()"
     },
     "execution_count": 21,
     "metadata": {},
     "output_type": "execute_result"
    }
   ],
   "source": [
    "params"
   ]
  },
  {
   "cell_type": "markdown",
   "metadata": {},
   "source": [
    "Let test this again with some arguments from the command line as follows:"
   ]
  },
  {
   "cell_type": "code",
   "execution_count": 22,
   "metadata": {},
   "outputs": [],
   "source": [
    "sys.argv = 'test.py --value=test.fits'.split()"
   ]
  },
  {
   "cell_type": "code",
   "execution_count": 23,
   "metadata": {},
   "outputs": [
    {
     "name": "stderr",
     "output_type": "stream",
     "text": [
      "\u001B[1;95;1m*******************************************************************************\u001B[0;0m\n",
      "\u001B[92;1m soss_mtl        Version: 0.0.001\u001B[0;0m\n",
      "\u001B[1;95;1m*******************************************************************************\u001B[0;0m\n"
     ]
    }
   ],
   "source": [
    "kwargs = dict()                   # this is used for function calls\n",
    "params = param_functions.setup(lconsts, kwargs, desc=__DESCRIPTION__)"
   ]
  },
  {
   "cell_type": "code",
   "execution_count": 24,
   "metadata": {},
   "outputs": [
    {
     "data": {
      "text/plain": "ParamDict:\n\n \tDEBUG:                        0                                             # core.instruments.constants.py\n \tUSER_CONFIG_FILE:             None                                          # core.instruments.constants.py\n \tPACKAGE_NAME:                 soss_mtl                                      # core.instruments.constants.py\n \tPACKAGE_VERSION:              0.0.001                                       # core.instruments.constants.py\n \tPACKAGE_VERSION_DATE:         2021-05-27                                    # core.instruments.constants.py\n \tPACKAGE_THEME:                DARK                                          # core.instruments.constants.py\n \tPACKAGE_DIRECTORY:            soss_sim_data                                 # core.instruments.constants.py\n \tGENERATE_CONFIG_FILE:         False                                         # core.instruments.constants.py\n \tENV_DIR:                      SOSSDIR                                       # core.instruments.constants.py\n \tDIRECTORY:                    .                                             # core.instruments.constants.py core.core.constant_functions.py._read_from_config_file() [SET]\n \tTESTVALUE:                    test.fits                                     # sys.argv\n \tCONFIGDIR:                    config                                        # core.core.constant_functions.py._read_from_config_file()\n \tPID:                          PID-00016221398936172308-KYQ8                 # core.core.constant_functions.py.setup()\n \tPIDTIME:                      2021-05-27 18:24:53.617                       # core.core.constant_functions.py.setup()\n \tINPUTDIR:                     inputs                                        # core.core.constant_functions.py._setup_working_directory()\n \tOUTPUTDIR:                    outputs                                       # core.core.constant_functions.py._setup_working_directory()\n \tLOGDIR:                       log                                           # core.core.constant_functions.py._setup_working_directory()\n \tLOGFILE:                      log/PID-00016221398936172308-KYQ8.log         # core.core.constant_functions.py._setup_working_directory()"
     },
     "execution_count": 24,
     "metadata": {},
     "output_type": "execute_result"
    }
   ],
   "source": [
    "params"
   ]
  },
  {
   "cell_type": "markdown",
   "metadata": {},
   "source": [
    "Note the difference between the value of `ADD_JITTER` and `SCENE` from the previous example, the source (third column above has also changed -- to `sys.argv`)"
   ]
  },
  {
   "cell_type": "markdown",
   "metadata": {},
   "source": [
    "## 2. Generating a config file"
   ]
  },
  {
   "cell_type": "markdown",
   "metadata": {},
   "source": [
    "There is a special mode for any code using the param_fucntions.setup function.\n",
    "\n",
    "One can generate a config file with the current settings given (from command line / another config file / the constants file)\n",
    "\n",
    "This is done using the argument `--getconfig=True` (the default value is `--getconfig=False`)"
   ]
  },
  {
   "cell_type": "code",
   "execution_count": 25,
   "metadata": {},
   "outputs": [],
   "source": [
    "# set the command line arguments (for notebook only)\n",
    "sys.argv = 'test.py --getconfig True'.split()"
   ]
  },
  {
   "cell_type": "code",
   "execution_count": 26,
   "metadata": {},
   "outputs": [
    {
     "name": "stderr",
     "output_type": "stream",
     "text": [
      "\u001B[1;95;1m*******************************************************************************\u001B[0;0m\n",
      "\u001B[92;1m soss_mtl        Version: 0.0.001\u001B[0;0m\n",
      "\u001B[1;95;1m*******************************************************************************\u001B[0;0m\n",
      "\u001B[92;1m2021-05-27 14:24:53,633 | INFO  | Writing constants file to config/None\u001B[0;0m\n"
     ]
    }
   ],
   "source": [
    "kwargs = dict()                   # this is used for function calls\n",
    "\n",
    "try:\n",
    "    params = param_functions.setup(lconsts, kwargs, desc=__DESCRIPTION__)\n",
    "# just so the notebook continues after this\n",
    "except Exception as e:\n",
    "    print('Error {0}: {1}'.format(e.__name__, e))"
   ]
  },
  {
   "cell_type": "markdown",
   "metadata": {},
   "source": [
    "As you can see above this added a file to `./outputs/` called `user_config.ini`\n",
    "\n",
    "This file can be called from the command line using the `--config` argument."
   ]
  },
  {
   "cell_type": "markdown",
   "metadata": {},
   "source": [
    "## 3. The help file"
   ]
  },
  {
   "cell_type": "markdown",
   "metadata": {},
   "source": [
    "As mentioned above the descriptions we gave of `SCENE` will appear in the help file.\n",
    "\n",
    "The help file is accessed as always through `-h` or `--help`. \n",
    "\n",
    "We can emulate this here with `sys.argv`:"
   ]
  },
  {
   "cell_type": "code",
   "execution_count": 27,
   "metadata": {},
   "outputs": [],
   "source": [
    "# set the command line arguments (for notebook only)\n",
    "sys.argv = 'test.py --help'.split()"
   ]
  },
  {
   "cell_type": "markdown",
   "metadata": {},
   "source": [
    "which will run when we run the `param_functions.setup` function:"
   ]
  },
  {
   "cell_type": "code",
   "execution_count": 28,
   "metadata": {},
   "outputs": [
    {
     "name": "stdout",
     "output_type": "stream",
     "text": [
      "usage: test.py [-h] [--debug DEBUG] [--uconfig USER_CONFIG_FILE]\n",
      "               [--theme PACKAGE_THEME] [--getconfig GENERATE_CONFIG_FILE]\n",
      "               [--dir DIRECTORY] [--value TESTVALUE]\n",
      "\n",
      "test script for SOSS_SIM_MTL\n",
      "\n",
      "optional arguments:\n",
      "  -h, --help            show this help message and exit\n",
      "  --debug DEBUG         Set debug mode (1-9) the higher the number the more\n",
      "                        verbose\n",
      "  --uconfig USER_CONFIG_FILE\n",
      "                        Define the user config file\n",
      "  --theme PACKAGE_THEME\n",
      "                        Define package log theme\n",
      "  --getconfig GENERATE_CONFIG_FILE\n",
      "                        Define whether we want to generate a config file\n",
      "  --dir DIRECTORY       Define the working directory (note this can also be\n",
      "                        set by setting the SOSSDIR environmental variable)\n",
      "  --value TESTVALUE     Define a test value\n"
     ]
    }
   ],
   "source": [
    "kwargs = dict()                   # this is used for function calls\n",
    "# ignore the try/except statement here it is just because the -h/--help argument will force an exit of python\n",
    "try:\n",
    "    params = param_functions.setup(lconsts, kwargs, desc=__DESCRIPTION__)\n",
    "except SystemExit:\n",
    "    pass"
   ]
  },
  {
   "cell_type": "markdown",
   "metadata": {},
   "source": [
    "## 4. Use in a code"
   ]
  },
  {
   "cell_type": "markdown",
   "metadata": {},
   "source": [
    "We put the main code we with to run in a `__main__()` sub function so we can log and manage exception that come from the code. When we call the code we use the `main()` function that will run the parameter setup and handle any errors from our `__main__()` function. (By handle here I mean deal with exceptions and log/shut things done in a good way).\n",
    "\n",
    "A code using a good setup would look as follows:"
   ]
  },
  {
   "cell_type": "code",
   "execution_count": 29,
   "metadata": {},
   "outputs": [],
   "source": [
    "def main(**kwargs):\n",
    "    # get params (run time + config file + constants file)\n",
    "    params = param_functions.setup(lconsts, kwargs, desc=__DESCRIPTION__)\n",
    "    # run the __main__ to return products\n",
    "    if not params['GENERATE_CONFIG_FILE']:\n",
    "        # note eventually this will be a call to a function which manages exceptions\n",
    "        return __main__(params)\n",
    "\n",
    "\n",
    "def __main__(params):\n",
    "    # main code here\n",
    "    print('Hello, World')\n",
    "    print('My code goes here')\n",
    "    return params\n",
    "    \n",
    "    "
   ]
  },
  {
   "cell_type": "markdown",
   "metadata": {},
   "source": [
    "This is then called from the main code (or from an import) as follows:"
   ]
  },
  {
   "cell_type": "code",
   "execution_count": 30,
   "metadata": {},
   "outputs": [
    {
     "name": "stderr",
     "output_type": "stream",
     "text": [
      "\u001B[1;95;1m*******************************************************************************\u001B[0;0m\n",
      "\u001B[92;1m soss_mtl        Version: 0.0.001\u001B[0;0m\n",
      "\u001B[1;95;1m*******************************************************************************\u001B[0;0m\n"
     ]
    },
    {
     "name": "stdout",
     "output_type": "stream",
     "text": [
      "Hello, World\n",
      "My code goes here\n"
     ]
    }
   ],
   "source": [
    "# For the note book we need to set the command line arguments\n",
    "sys.argv = 'test.py'.split()\n",
    "# run main code\n",
    "ll = main()\n"
   ]
  },
  {
   "cell_type": "markdown",
   "metadata": {},
   "source": [
    "Note to import this it would look as follows:\n",
    "\n",
    "\n",
    "```\n",
    "import paramtest\n",
    "\n",
    "test.main()\n",
    "```\n",
    "\n",
    "\n",
    "where any parameters can be defined in the `.main()` call i.e.:"
   ]
  },
  {
   "cell_type": "code",
   "execution_count": 31,
   "metadata": {
    "scrolled": false
   },
   "outputs": [
    {
     "name": "stderr",
     "output_type": "stream",
     "text": [
      "\u001B[1;95;1m*******************************************************************************\u001B[0;0m\n",
      "\u001B[92;1m soss_mtl        Version: 0.0.001\u001B[0;0m\n",
      "\u001B[1;95;1m*******************************************************************************\u001B[0;0m\n",
      "\u001B[94;1m Code: paramtest\u001B[0;0m\n",
      "\u001B[1;95;1m*******************************************************************************\u001B[0;0m\n",
      "\u001B[92;1m2021-05-27 14:24:53,666 | INFO  | This is a test of info\u001B[0;0m\n",
      "\u001B[1;93;1m2021-05-27 14:24:53,666 | WARNI | This is a test of warning\u001B[0;0m\n",
      "\u001B[1;91;1m2021-05-27 14:24:53,668 | ERROR | This is a test of an error\u001B[0;0m\n"
     ]
    },
    {
     "name": "stdout",
     "output_type": "stream",
     "text": [
      "Information for key = 'DEBUG'\n",
      "\tData Type: \t\t int\n",
      "\tValue: \t\t \t0                                            \n",
      "\tSource: \t\t core.instruments.constants.py\n",
      "\tInstance: \t\t Constant[DEBUG]\n",
      "Information for key = 'USER_CONFIG_FILE'\n",
      "\tData Type: \t\t NoneType\n",
      "\tValue: \t\t \tNone                                         \n",
      "\tSource: \t\t core.instruments.constants.py\n",
      "\tInstance: \t\t Constant[USER_CONFIG_FILE]\n",
      "Information for key = 'PACKAGE_NAME'\n",
      "\tData Type: \t\t str\n",
      "\tValue: \t\t \tsoss_mtl                                     \n",
      "\tSource: \t\t core.instruments.constants.py\n",
      "\tInstance: \t\t Constant[PACKAGE_NAME]\n",
      "Information for key = 'PACKAGE_VERSION'\n",
      "\tData Type: \t\t str\n",
      "\tValue: \t\t \t0.0.001                                      \n",
      "\tSource: \t\t core.instruments.constants.py\n",
      "\tInstance: \t\t Constant[PACKAGE_VERSION]\n",
      "Information for key = 'PACKAGE_VERSION_DATE'\n",
      "\tData Type: \t\t str\n",
      "\tValue: \t\t \t2021-05-27                                   \n",
      "\tSource: \t\t core.instruments.constants.py\n",
      "\tInstance: \t\t Constant[PACKAGE_VERSION_DATE]\n",
      "Information for key = 'PACKAGE_THEME'\n",
      "\tData Type: \t\t str\n",
      "\tValue: \t\t \tDARK                                         \n",
      "\tSource: \t\t core.instruments.constants.py\n",
      "\tInstance: \t\t Constant[PACKAGE_THEME]\n",
      "Information for key = 'PACKAGE_DIRECTORY'\n",
      "\tData Type: \t\t str\n",
      "\tValue: \t\t \tsoss_sim_data                                \n",
      "\tSource: \t\t core.instruments.constants.py\n",
      "\tInstance: \t\t Constant[PACKAGE_DIRECTORY]\n",
      "Information for key = 'GENERATE_CONFIG_FILE'\n",
      "\tData Type: \t\t bool\n",
      "\tValue: \t\t \tFalse                                        \n",
      "\tSource: \t\t core.instruments.constants.py\n",
      "\tInstance: \t\t Constant[GENERATE_CONFIG_FILE]\n",
      "Information for key = 'ENV_DIR'\n",
      "\tData Type: \t\t str\n",
      "\tValue: \t\t \tSOSSDIR                                      \n",
      "\tSource: \t\t core.instruments.constants.py\n",
      "\tInstance: \t\t Constant[ENV_DIR]\n",
      "Information for key = 'DIRECTORY'\n",
      "\tData Type: \t\t str\n",
      "\tValue: \t\t \t.                                            \n",
      "\tSource: \t\t core.instruments.constants.py core.core.constant_functions.py._read_from_config_file() [SET]\n",
      "\tInstance: \t\t Constant[DIRECTORY]\n",
      "Information for key = 'SCENE'\n",
      "\tData Type: \t\t str\n",
      "\tValue: \t\t \tloicfile.fits                                \n",
      "\tSource: \t\t kwargs\n",
      "\tInstance: \t\t Constant[SCENE]\n",
      "Information for key = 'CONFIGDIR'\n",
      "\tData Type: \t\t PosixPath\n",
      "\tValue: \t\t \tconfig                                       \n",
      "\tSource: \t\t core.core.constant_functions.py._read_from_config_file()\n",
      "\tInstance: \t\t None\n",
      "Information for key = 'PID'\n",
      "\tData Type: \t\t str\n",
      "\tValue: \t\t \tPID-00016221398936585860-UHYE                \n",
      "\tSource: \t\t core.core.constant_functions.py.setup()\n",
      "\tInstance: \t\t None\n",
      "Information for key = 'PIDTIME'\n",
      "\tData Type: \t\t str\n",
      "\tValue: \t\t \t2021-05-27 18:24:53.659                      \n",
      "\tSource: \t\t core.core.constant_functions.py.setup()\n",
      "\tInstance: \t\t None\n",
      "Information for key = 'INPUTDIR'\n",
      "\tData Type: \t\t PosixPath\n",
      "\tValue: \t\t \tinputs                                       \n",
      "\tSource: \t\t core.core.constant_functions.py._setup_working_directory()\n",
      "\tInstance: \t\t None\n",
      "Information for key = 'OUTPUTDIR'\n",
      "\tData Type: \t\t PosixPath\n",
      "\tValue: \t\t \toutputs                                      \n",
      "\tSource: \t\t core.core.constant_functions.py._setup_working_directory()\n",
      "\tInstance: \t\t None\n",
      "Information for key = 'LOGDIR'\n",
      "\tData Type: \t\t PosixPath\n",
      "\tValue: \t\t \tlog                                          \n",
      "\tSource: \t\t core.core.constant_functions.py._setup_working_directory()\n",
      "\tInstance: \t\t None\n",
      "Information for key = 'LOGFILE'\n",
      "\tData Type: \t\t PosixPath\n",
      "\tValue: \t\t \tlog/LOG-paramtest-PID-000162213989365858     \n",
      "\tSource: \t\t core.core.constant_functions.py._setup_working_directory()\n",
      "\tInstance: \t\t None\n"
     ]
    },
    {
     "data": {
      "text/plain": "ParamDict:\n\n \tDEBUG:                        0                                             # core.instruments.constants.py\n \tUSER_CONFIG_FILE:             None                                          # core.instruments.constants.py\n \tPACKAGE_NAME:                 soss_mtl                                      # core.instruments.constants.py\n \tPACKAGE_VERSION:              0.0.001                                       # core.instruments.constants.py\n \tPACKAGE_VERSION_DATE:         2021-05-27                                    # core.instruments.constants.py\n \tPACKAGE_THEME:                DARK                                          # core.instruments.constants.py\n \tPACKAGE_DIRECTORY:            soss_sim_data                                 # core.instruments.constants.py\n \tGENERATE_CONFIG_FILE:         False                                         # core.instruments.constants.py\n \tENV_DIR:                      SOSSDIR                                       # core.instruments.constants.py\n \tDIRECTORY:                    .                                             # core.instruments.constants.py core.core.constant_functions.py._read_from_config_file() [SET]\n \tSCENE:                        loicfile.fits                                 # kwargs\n \tCONFIGDIR:                    config                                        # core.core.constant_functions.py._read_from_config_file()\n \tPID:                          PID-00016221398936585860-UHYE                 # core.core.constant_functions.py.setup()\n \tPIDTIME:                      2021-05-27 18:24:53.659                       # core.core.constant_functions.py.setup()\n \tINPUTDIR:                     inputs                                        # core.core.constant_functions.py._setup_working_directory()\n \tOUTPUTDIR:                    outputs                                       # core.core.constant_functions.py._setup_working_directory()\n \tLOGDIR:                       log                                           # core.core.constant_functions.py._setup_working_directory()\n \tLOGFILE:                      log/LOG-paramtest-PID-000162213989365858      # core.core.constant_functions.py._setup_working_directory()"
     },
     "execution_count": 31,
     "metadata": {},
     "output_type": "execute_result"
    }
   ],
   "source": [
    "# just for the notebook\n",
    "sys.path.append('../bin/')\n",
    "# import code\n",
    "import paramtest\n",
    "\n",
    "# the parameter test function just prints out information about the parameters\n",
    "paramtest.main(add_jitter=False, scene='loicfile.fits')"
   ]
  },
  {
   "cell_type": "markdown",
   "metadata": {},
   "source": [
    "Note again the values of `add_jitter` and `scene` and the source location (`kwargs`)"
   ]
  },
  {
   "cell_type": "markdown",
   "metadata": {},
   "source": [
    "## 5. The parameter dictionary (ParamDict)"
   ]
  },
  {
   "cell_type": "markdown",
   "metadata": {},
   "source": [
    "The paremeter dictionary has multiple useful features."
   ]
  },
  {
   "cell_type": "markdown",
   "metadata": {},
   "source": [
    "### 5.1 Parameter dictionary is case-insensitive\n",
    "\n",
    "This means unlike a normal dictionary you only have one value describing and characters i.e.:\n",
    "\n",
    "- PACKAGE_VERSION\n",
    "- Package_Version\n",
    "- package_version\n",
    "- PackAge_VerSion\n",
    "\n",
    "all link to the same constant:"
   ]
  },
  {
   "cell_type": "code",
   "execution_count": 32,
   "metadata": {},
   "outputs": [
    {
     "name": "stdout",
     "output_type": "stream",
     "text": [
      "version =  0.0.001\n",
      "version =  0.0.001\n",
      "version =  0.0.001\n",
      "version =  0.0.001\n"
     ]
    }
   ],
   "source": [
    "print('version = ', params['PACKAGE_VERSION'])\n",
    "print('version = ', params['Package_Version'])\n",
    "print('version = ', params['package_version'])\n",
    "print('version = ', params['PackAge_VerSion'])"
   ]
  },
  {
   "cell_type": "markdown",
   "metadata": {},
   "source": [
    "### 5.2 Parameter dictionary is locked\n",
    "\n",
    "In most cases the parameter dictionary `params` should not be added to or modified after the `setup` function. To aid this there is a locking mechanism that will prevent adding to or changing the parameter dictionary:"
   ]
  },
  {
   "cell_type": "code",
   "execution_count": 33,
   "metadata": {},
   "outputs": [
    {
     "name": "stdout",
     "output_type": "stream",
     "text": [
      "TEST =  2\n"
     ]
    }
   ],
   "source": [
    "params['TEST'] = 2\n",
    "print('TEST = ', params['TEST'])"
   ]
  },
  {
   "cell_type": "code",
   "execution_count": 34,
   "metadata": {},
   "outputs": [],
   "source": [
    "params.lock()"
   ]
  },
  {
   "cell_type": "code",
   "execution_count": 35,
   "metadata": {},
   "outputs": [
    {
     "ename": "ParamDictException",
     "evalue": "[set] ParamDict locked. \n\t Cannot add 'TEST'='1'\n\tFunc: core.core.constant_functions.py.ParamDict.__setitem__()",
     "output_type": "error",
     "traceback": [
      "\u001B[0;31m---------------------------------------------------------------------------\u001B[0m",
      "\u001B[0;31mParamDictException\u001B[0m                        Traceback (most recent call last)",
      "\u001B[0;32m<ipython-input-35-013977f0629b>\u001B[0m in \u001B[0;36m<module>\u001B[0;34m\u001B[0m\n\u001B[0;32m----> 1\u001B[0;31m \u001B[0mparams\u001B[0m\u001B[0;34m[\u001B[0m\u001B[0;34m'TEST'\u001B[0m\u001B[0;34m]\u001B[0m \u001B[0;34m=\u001B[0m \u001B[0;36m1\u001B[0m\u001B[0;34m\u001B[0m\u001B[0;34m\u001B[0m\u001B[0m\n\u001B[0m\u001B[1;32m      2\u001B[0m \u001B[0mprint\u001B[0m\u001B[0;34m(\u001B[0m\u001B[0;34m'TEST = '\u001B[0m\u001B[0;34m,\u001B[0m \u001B[0mparams\u001B[0m\u001B[0;34m[\u001B[0m\u001B[0;34m'TEST'\u001B[0m\u001B[0;34m]\u001B[0m\u001B[0;34m)\u001B[0m\u001B[0;34m\u001B[0m\u001B[0;34m\u001B[0m\u001B[0m\n\u001B[1;32m      3\u001B[0m \u001B[0;34m\u001B[0m\u001B[0m\n",
      "\u001B[0;32m/data/jwst_ami/bin/jwst-mtl-ami/SOSS/SOSS_SIM_MTL/soss_mtl/core/core/param_functions.py\u001B[0m in \u001B[0;36m__setitem__\u001B[0;34m(self, key, value, source, instance)\u001B[0m\n\u001B[1;32m    344\u001B[0m             \u001B[0;31m# log that parameter dictionary is locked so we cannot set key\u001B[0m\u001B[0;34m\u001B[0m\u001B[0;34m\u001B[0m\u001B[0;34m\u001B[0m\u001B[0m\n\u001B[1;32m    345\u001B[0m             raise ParamException(emsg.format(*eargs), 'set', self,\n\u001B[0;32m--> 346\u001B[0;31m                                  funcname=func_name)\n\u001B[0m\u001B[1;32m    347\u001B[0m         \u001B[0;31m# if we dont have the key in sources set it regardless\u001B[0m\u001B[0;34m\u001B[0m\u001B[0;34m\u001B[0m\u001B[0;34m\u001B[0m\u001B[0m\n\u001B[1;32m    348\u001B[0m         \u001B[0;32mif\u001B[0m \u001B[0mkey\u001B[0m \u001B[0;32mnot\u001B[0m \u001B[0;32min\u001B[0m \u001B[0mself\u001B[0m\u001B[0;34m.\u001B[0m\u001B[0msources\u001B[0m\u001B[0;34m:\u001B[0m\u001B[0;34m\u001B[0m\u001B[0;34m\u001B[0m\u001B[0m\n",
      "\u001B[0;31mParamDictException\u001B[0m: [set] ParamDict locked. \n\t Cannot add 'TEST'='1'\n\tFunc: core.core.constant_functions.py.ParamDict.__setitem__()"
     ]
    }
   ],
   "source": [
    "params['TEST'] = 1\n",
    "print('TEST = ', params['TEST'])"
   ]
  },
  {
   "cell_type": "markdown",
   "metadata": {},
   "source": [
    "However in exceptional circumstances it is possible:"
   ]
  },
  {
   "cell_type": "code",
   "execution_count": 36,
   "metadata": {},
   "outputs": [
    {
     "name": "stdout",
     "output_type": "stream",
     "text": [
      "TEST =  3\n"
     ]
    }
   ],
   "source": [
    "params.set('TEST', value=3, source=__NAME__)\n",
    "print('TEST = ', params['TEST'])"
   ]
  },
  {
   "cell_type": "markdown",
   "metadata": {},
   "source": [
    "### 5.3 Find out where a parameter was defined:"
   ]
  },
  {
   "cell_type": "code",
   "execution_count": 37,
   "metadata": {},
   "outputs": [
    {
     "ename": "KeyError",
     "evalue": "'SCENE'",
     "output_type": "error",
     "traceback": [
      "\u001B[0;31m---------------------------------------------------------------------------\u001B[0m",
      "\u001B[0;31mKeyError\u001B[0m                                  Traceback (most recent call last)",
      "\u001B[0;32m<ipython-input-37-27f00f6efefb>\u001B[0m in \u001B[0;36m<module>\u001B[0;34m\u001B[0m\n\u001B[0;32m----> 1\u001B[0;31m \u001B[0mparams\u001B[0m\u001B[0;34m.\u001B[0m\u001B[0msources\u001B[0m\u001B[0;34m[\u001B[0m\u001B[0;34m'SCENE'\u001B[0m\u001B[0;34m]\u001B[0m\u001B[0;34m\u001B[0m\u001B[0;34m\u001B[0m\u001B[0m\n\u001B[0m\u001B[1;32m      2\u001B[0m \u001B[0;34m\u001B[0m\u001B[0m\n",
      "\u001B[0;32m/data/jwst_ami/bin/jwst-mtl-ami/SOSS/SOSS_SIM_MTL/soss_mtl/core/core/param_functions.py\u001B[0m in \u001B[0;36m__getitem__\u001B[0;34m(self, key)\u001B[0m\n\u001B[1;32m    108\u001B[0m         \u001B[0mkey\u001B[0m \u001B[0;34m=\u001B[0m \u001B[0m_capitalise_key\u001B[0m\u001B[0;34m(\u001B[0m\u001B[0mkey\u001B[0m\u001B[0;34m)\u001B[0m\u001B[0;34m\u001B[0m\u001B[0;34m\u001B[0m\u001B[0m\n\u001B[1;32m    109\u001B[0m         \u001B[0;31m# return from supers dictionary storage\u001B[0m\u001B[0;34m\u001B[0m\u001B[0;34m\u001B[0m\u001B[0;34m\u001B[0m\u001B[0m\n\u001B[0;32m--> 110\u001B[0;31m         \u001B[0;32mreturn\u001B[0m \u001B[0msuper\u001B[0m\u001B[0;34m(\u001B[0m\u001B[0mCaseInsensitiveDict\u001B[0m\u001B[0;34m,\u001B[0m \u001B[0mself\u001B[0m\u001B[0;34m)\u001B[0m\u001B[0;34m.\u001B[0m\u001B[0m__getitem__\u001B[0m\u001B[0;34m(\u001B[0m\u001B[0mkey\u001B[0m\u001B[0;34m)\u001B[0m\u001B[0;34m\u001B[0m\u001B[0;34m\u001B[0m\u001B[0m\n\u001B[0m\u001B[1;32m    111\u001B[0m \u001B[0;34m\u001B[0m\u001B[0m\n\u001B[1;32m    112\u001B[0m     \u001B[0;32mdef\u001B[0m \u001B[0m__setitem__\u001B[0m\u001B[0;34m(\u001B[0m\u001B[0mself\u001B[0m\u001B[0;34m,\u001B[0m \u001B[0mkey\u001B[0m\u001B[0;34m:\u001B[0m \u001B[0mstr\u001B[0m\u001B[0;34m,\u001B[0m \u001B[0mvalue\u001B[0m\u001B[0;34m:\u001B[0m \u001B[0mobject\u001B[0m\u001B[0;34m,\u001B[0m \u001B[0msource\u001B[0m\u001B[0;34m:\u001B[0m \u001B[0mstr\u001B[0m \u001B[0;34m=\u001B[0m \u001B[0;32mNone\u001B[0m\u001B[0;34m)\u001B[0m\u001B[0;34m:\u001B[0m\u001B[0;34m\u001B[0m\u001B[0;34m\u001B[0m\u001B[0m\n",
      "\u001B[0;31mKeyError\u001B[0m: 'SCENE'"
     ]
    }
   ],
   "source": [
    "params.sources['SCENE']"
   ]
  },
  {
   "cell_type": "code",
   "execution_count": 38,
   "metadata": {},
   "outputs": [
    {
     "data": {
      "text/plain": "'core.instruments.constants.py'"
     },
     "execution_count": 38,
     "metadata": {},
     "output_type": "execute_result"
    }
   ],
   "source": [
    "params.sources['PACKAGE_VERSION']"
   ]
  },
  {
   "cell_type": "markdown",
   "metadata": {},
   "source": [
    "### 5.4 Get information about parameters:"
   ]
  },
  {
   "cell_type": "code",
   "execution_count": 39,
   "metadata": {},
   "outputs": [
    {
     "name": "stdout",
     "output_type": "stream",
     "text": [
      "ParamDict Info: Key = 'SCENE' not found\n"
     ]
    }
   ],
   "source": [
    "params.info('SCENE')"
   ]
  },
  {
   "cell_type": "code",
   "execution_count": 40,
   "metadata": {},
   "outputs": [
    {
     "name": "stdout",
     "output_type": "stream",
     "text": [
      "ParamDict Info: Key = 'JITTER_RMS' not found\n"
     ]
    }
   ],
   "source": [
    "params.info('JITTER_RMS')"
   ]
  },
  {
   "cell_type": "code",
   "execution_count": 41,
   "metadata": {},
   "outputs": [
    {
     "name": "stdout",
     "output_type": "stream",
     "text": [
      "Information for key = 'LOICARRAY'\n",
      "\tData Type: \t\t ndarray\n",
      "\tMin Value: \t\t 0 \n",
      "\tMax Value: \t\t 99 \n",
      "\t Has NaNs: \t\t False \n",
      "\t Values: \t\t ['\\t[0, 1, 2, 3, 4, 5, 6, 7, 8, 9, 10, 11, 1...  ']\n",
      "\tSource: \t\t test\n",
      "\tInstance: \t\t None\n"
     ]
    }
   ],
   "source": [
    "import numpy as np\n",
    "params.set('LOICARRAY', np.arange(100), source='test')\n",
    "\n",
    "params.info('LOICARRAY')\n"
   ]
  },
  {
   "cell_type": "markdown",
   "metadata": {},
   "source": [
    "### 5.5 Lists and dictionaries from strings\n",
    "\n",
    "Because config files and arguments may have trouble with inputs such as list and dictionary the parameter file has special ways to open these, these methods are `listp` and `dictp`."
   ]
  },
  {
   "cell_type": "code",
   "execution_count": 42,
   "metadata": {},
   "outputs": [],
   "source": [
    "# lets unlock the parameter dictionary for now\n",
    "params.unlock()\n",
    "\n",
    "# lets define a parameter (that may come from the constants file, config file or command line)\n",
    "# You'll notice the \"list\" here is not like python but just a python string separated by commas\n",
    "params['WAVES'] = '400, 500, 600'"
   ]
  },
  {
   "cell_type": "markdown",
   "metadata": {},
   "source": [
    "To use this 'string list' as a list we have the `listp` method:"
   ]
  },
  {
   "cell_type": "code",
   "execution_count": 43,
   "metadata": {},
   "outputs": [
    {
     "name": "stdout",
     "output_type": "stream",
     "text": [
      "[400.0, 500.0, 600.0]\n"
     ]
    }
   ],
   "source": [
    "wavelengths = params.listp('WAVES', dtype=float)\n",
    "print(wavelengths)"
   ]
  },
  {
   "cell_type": "markdown",
   "metadata": {},
   "source": [
    "The same is true for dictionaries (note be careful with the use of `'` and `\"`)"
   ]
  },
  {
   "cell_type": "code",
   "execution_count": 44,
   "metadata": {},
   "outputs": [],
   "source": [
    "params['COLOURS'] = \"{'red': 'r', 'blue': 'b', 'green': 'g'}\"\n",
    "params['PEOPLE'] = '{\"bob\":10, \"fred\":20, \"chris\": 30}'"
   ]
  },
  {
   "cell_type": "code",
   "execution_count": 45,
   "metadata": {},
   "outputs": [
    {
     "name": "stdout",
     "output_type": "stream",
     "text": [
      "{'red': 'r', 'blue': 'b', 'green': 'g'}\n"
     ]
    }
   ],
   "source": [
    "colours = params.dictp('COLOURS')\n",
    "print(colours)"
   ]
  },
  {
   "cell_type": "code",
   "execution_count": 46,
   "metadata": {},
   "outputs": [
    {
     "name": "stdout",
     "output_type": "stream",
     "text": [
      "{'bob': 10, 'fred': 20, 'chris': 30}\n"
     ]
    }
   ],
   "source": [
    "people = params.dictp('PEOPLE')\n",
    "print(people)"
   ]
  },
  {
   "cell_type": "markdown",
   "metadata": {},
   "source": [
    "In our constants file these would look as follows:\n",
    "\n",
    "    # define the wavelengths\n",
    "    WAVES = 400, 500, 600\n",
    "\n",
    "    # define the colours for plotting\n",
    "    COLOURS = {'red': 'r', 'blue': 'b', 'green': 'g'}\n",
    "\n",
    "    # define the people\n",
    "    PEOPLE = {\"bob\":10, \"fred\":20, \"chris\": 30}\n"
   ]
  },
  {
   "cell_type": "markdown",
   "metadata": {},
   "source": [
    "### 5.6 Finding a parameter\n",
    "\n",
    "There are some useful string methods that are also usable to search for specific keys (useful when there are many constants defined)"
   ]
  },
  {
   "cell_type": "code",
   "execution_count": 47,
   "metadata": {},
   "outputs": [
    {
     "data": {
      "text/plain": "['PACKAGE_NAME',\n 'PACKAGE_VERSION',\n 'PACKAGE_VERSION_DATE',\n 'PACKAGE_THEME',\n 'PACKAGE_DIRECTORY']"
     },
     "execution_count": 47,
     "metadata": {},
     "output_type": "execute_result"
    }
   ],
   "source": [
    "params.startswith('PACK')"
   ]
  },
  {
   "cell_type": "code",
   "execution_count": 50,
   "metadata": {},
   "outputs": [
    {
     "data": {
      "text/plain": "['PACKAGE_NAME']"
     },
     "execution_count": 50,
     "metadata": {},
     "output_type": "execute_result"
    }
   ],
   "source": [
    "params.contains('NAME')"
   ]
  },
  {
   "cell_type": "code",
   "execution_count": 51,
   "metadata": {},
   "outputs": [
    {
     "data": {
      "text/plain": "['PACKAGE_VERSION_DATE']"
     },
     "execution_count": 51,
     "metadata": {},
     "output_type": "execute_result"
    }
   ],
   "source": [
    "params.endswith('DATE')"
   ]
  },
  {
   "cell_type": "code",
   "execution_count": 52,
   "metadata": {},
   "outputs": [
    {
     "data": {
      "text/plain": "['DEBUG',\n 'USER_CONFIG_FILE',\n 'PACKAGE_NAME',\n 'PACKAGE_VERSION',\n 'PACKAGE_VERSION_DATE',\n 'PACKAGE_THEME',\n 'PACKAGE_DIRECTORY',\n 'GENERATE_CONFIG_FILE',\n 'ENV_DIR',\n 'DIRECTORY',\n 'TESTVALUE',\n 'CONFIGDIR',\n 'PID',\n 'PIDTIME',\n 'INPUTDIR',\n 'OUTPUTDIR',\n 'LOGDIR',\n 'LOGFILE',\n 'TEST',\n 'LOICARRAY',\n 'WAVES',\n 'COLOURS',\n 'PEOPLE']"
     },
     "execution_count": 52,
     "metadata": {},
     "output_type": "execute_result"
    }
   ],
   "source": [
    "list(params.keys())"
   ]
  }
 ],
 "metadata": {
  "kernelspec": {
   "display_name": "Python 3",
   "language": "python",
   "name": "python3"
  },
  "language_info": {
   "codemirror_mode": {
    "name": "ipython",
    "version": 3
   },
   "file_extension": ".py",
   "mimetype": "text/x-python",
   "name": "python",
   "nbconvert_exporter": "python",
   "pygments_lexer": "ipython3",
   "version": "3.7.9"
  }
 },
 "nbformat": 4,
 "nbformat_minor": 4
}