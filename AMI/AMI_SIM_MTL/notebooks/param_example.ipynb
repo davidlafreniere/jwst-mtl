{
 "cells": [
  {
   "cell_type": "markdown",
   "metadata": {},
   "source": [
    "# Parameter example"
   ]
  },
  {
   "cell_type": "markdown",
   "metadata": {},
   "source": [
    "## 1. Setup"
   ]
  },
  {
   "cell_type": "markdown",
   "metadata": {},
   "source": [
    " Setup notebook:"
   ]
  },
  {
   "cell_type": "code",
   "execution_count": 1,
   "metadata": {},
   "outputs": [],
   "source": [
    "# just for the notebook setup so we have the ami_sim module\n",
    "import sys\n",
    "sys.path.append('../')"
   ]
  },
  {
   "cell_type": "markdown",
   "metadata": {},
   "source": [
    "First we import from ami_sim"
   ]
  },
  {
   "cell_type": "code",
   "execution_count": 2,
   "metadata": {},
   "outputs": [],
   "source": [
    "from ami_sim_mtl.core.instrument import constants\n",
    "from ami_sim_mtl.core.core import param_functions"
   ]
  },
  {
   "cell_type": "markdown",
   "metadata": {},
   "source": [
    "All codes should have the following variables (at the start of the code)"
   ]
  },
  {
   "cell_type": "code",
   "execution_count": 3,
   "metadata": {},
   "outputs": [],
   "source": [
    "# =============================================================================\n",
    "# Define variables\n",
    "# =============================================================================\n",
    "# set name\n",
    "__NAME__ = 'bin/test.py'\n",
    "__DESCRIPTION__ = 'test script for AMI_SIM_MTL'\n",
    "# get default constants\n",
    "consts = constants.Consts\n",
    "# copy for update\n",
    "lconsts = consts.copy(__NAME__)\n",
    "# set very basic constants\n",
    "__VERSION__ = lconsts.constants['PACKAGE_VERSION'].value\n",
    "__DATE__ = lconsts.constants['PACKAGE_VERSION_DATE'].value"
   ]
  },
  {
   "cell_type": "markdown",
   "metadata": {},
   "source": [
    "Define custom arguments (just for this code)\n",
    "\n",
    "Example here we add a \"scene\" argument with the following properties:\n",
    "1. name = \"SCENE\"          # parameter name = \"SCENE\"\n",
    "2. dtype = str             # data type = python string\n",
    "3. source = `__NAME__`     # where the parameter was defined (here `__NAME__` is the code name)\n",
    "4. user = True             # whether to populate this value in any config file generated\n",
    "5. argument = True         # whether to use this variable from command line (must define \"command\" in this case)\n",
    "6. group = 'code'          # which group this variable belongs to (mostly for config file)\n",
    "7. description = ...       # a description for the help file / config file\n",
    "8. command = `['--scene']` # a list of commands to be able to use at run time e.g. in this case --scene=test.fits"
   ]
  },
  {
   "cell_type": "code",
   "execution_count": 4,
   "metadata": {},
   "outputs": [],
   "source": [
    "# Define the scene fits file\n",
    "lconsts.add_argument('SCENE', value=None, dtype=str,\n",
    "                     source=__NAME__, user=True, argument=True,\n",
    "                     group='code', description='Define the scene fits file',\n",
    "                     command=['--scene'])"
   ]
  },
  {
   "cell_type": "markdown",
   "metadata": {},
   "source": [
    "Now we can get parameters:"
   ]
  },
  {
   "cell_type": "code",
   "execution_count": 5,
   "metadata": {},
   "outputs": [],
   "source": [
    "kwargs = dict()                   # this is used for function calls (ignore for now)\n",
    "sys.argv = 'test.py'.split()      # this is where command lines arguments come from\n",
    "params = param_functions.setup(lconsts, kwargs, description=__DESCRIPTION__)"
   ]
  },
  {
   "cell_type": "markdown",
   "metadata": {},
   "source": [
    "For example params currently has the following:"
   ]
  },
  {
   "cell_type": "code",
   "execution_count": 6,
   "metadata": {},
   "outputs": [
    {
     "data": {
      "text/plain": [
       "ParamDict:\n",
       "\n",
       " \tUSER_CONFIG_FILE:             None                                          # core.instruments.constants.py\n",
       " \tPACKAGE_NAME:                 ami_sim_mtl                                   # core.instruments.constants.py\n",
       " \tPACKAGE_VERSION:              0.0.001                                       # core.instruments.constants.py\n",
       " \tPACKAGE_VERSION_DATE:         2020-05-21                                    # core.instruments.constants.py\n",
       " \tPACKAGE_DIRECTORY:            ami_sim_data                                  # core.instruments.constants.py\n",
       " \tGENERATE_CONFIG_FILE:         False                                         # core.instruments.constants.py\n",
       " \tDIRECTORY:                    /home/cook/ami_sim_data                       # core.core.constant_functions.py._read_from_config_file()\n",
       " \tENV_DIR:                      AMIDIR                                        # core.instruments.constants.py\n",
       " \tADD_JITTER:                   True                                          # core.instruments.constants.py\n",
       " \tJITTER_RMS:                   7.0                                           # core.instruments.constants.py\n",
       " \tSCENE:                        None                                          # bin/test.py\n",
       " \tCONFIGDIR:                    /home/cook/ami_sim_data/config                # core.core.constant_functions.py._read_from_config_file()\n",
       " \tINPUTDIR:                     /home/cook/ami_sim_data/inputs                # core.core.constant_functions.py._setup_working_directory()\n",
       " \tOUTPUTDIR:                    /home/cook/ami_sim_data/outputs               # core.core.constant_functions.py._setup_working_directory()\n",
       " \tLOGDIR:                       /home/cook/ami_sim_data/log                   # core.core.constant_functions.py._setup_working_directory()"
      ]
     },
     "execution_count": 6,
     "metadata": {},
     "output_type": "execute_result"
    }
   ],
   "source": [
    "params"
   ]
  },
  {
   "cell_type": "markdown",
   "metadata": {},
   "source": [
    "Let test this again with some arguments from the command line as follows:"
   ]
  },
  {
   "cell_type": "code",
   "execution_count": 7,
   "metadata": {},
   "outputs": [],
   "source": [
    "sys.argv = 'test.py --scene=test.fits --add_jitter=False'.split()"
   ]
  },
  {
   "cell_type": "code",
   "execution_count": 8,
   "metadata": {},
   "outputs": [],
   "source": [
    "kwargs = dict()                   # this is used for function calls\n",
    "params = param_functions.setup(lconsts, kwargs, description=__DESCRIPTION__)"
   ]
  },
  {
   "cell_type": "code",
   "execution_count": 9,
   "metadata": {},
   "outputs": [
    {
     "data": {
      "text/plain": [
       "ParamDict:\n",
       "\n",
       " \tUSER_CONFIG_FILE:             None                                          # core.instruments.constants.py\n",
       " \tPACKAGE_NAME:                 ami_sim_mtl                                   # core.instruments.constants.py\n",
       " \tPACKAGE_VERSION:              0.0.001                                       # core.instruments.constants.py\n",
       " \tPACKAGE_VERSION_DATE:         2020-05-21                                    # core.instruments.constants.py\n",
       " \tPACKAGE_DIRECTORY:            ami_sim_data                                  # core.instruments.constants.py\n",
       " \tGENERATE_CONFIG_FILE:         False                                         # core.instruments.constants.py\n",
       " \tDIRECTORY:                    /home/cook/ami_sim_data                       # core.core.constant_functions.py._read_from_config_file()\n",
       " \tENV_DIR:                      AMIDIR                                        # core.instruments.constants.py\n",
       " \tADD_JITTER:                   False                                         # sys.argv\n",
       " \tJITTER_RMS:                   7.0                                           # core.instruments.constants.py\n",
       " \tSCENE:                        test.fits                                     # sys.argv\n",
       " \tCONFIGDIR:                    /home/cook/ami_sim_data/config                # core.core.constant_functions.py._read_from_config_file()\n",
       " \tINPUTDIR:                     /home/cook/ami_sim_data/inputs                # core.core.constant_functions.py._setup_working_directory()\n",
       " \tOUTPUTDIR:                    /home/cook/ami_sim_data/outputs               # core.core.constant_functions.py._setup_working_directory()\n",
       " \tLOGDIR:                       /home/cook/ami_sim_data/log                   # core.core.constant_functions.py._setup_working_directory()"
      ]
     },
     "execution_count": 9,
     "metadata": {},
     "output_type": "execute_result"
    }
   ],
   "source": [
    "params"
   ]
  },
  {
   "cell_type": "markdown",
   "metadata": {},
   "source": [
    "Note the difference between the value of `ADD_JITTER` and `SCENE` from the previous example, the source (third column above has also changed -- to `sys.argv`)"
   ]
  },
  {
   "cell_type": "markdown",
   "metadata": {},
   "source": [
    "## 2. Generating a config file"
   ]
  },
  {
   "cell_type": "markdown",
   "metadata": {},
   "source": [
    "There is a special mode for any code using the param_fucntions.setup function.\n",
    "\n",
    "One can generate a config file with the current settings given (from command line / another config file / the constants file)\n",
    "\n",
    "This is done using the argument `--getconfig=True` (the default value is `--getconfig=False`)"
   ]
  },
  {
   "cell_type": "code",
   "execution_count": 10,
   "metadata": {},
   "outputs": [],
   "source": [
    "# set the command line arguments (for notebook only)\n",
    "sys.argv = 'test.py --getconfig True'.split()"
   ]
  },
  {
   "cell_type": "code",
   "execution_count": 16,
   "metadata": {},
   "outputs": [
    {
     "name": "stdout",
     "output_type": "stream",
     "text": [
      "Writing constants file to /home/cook/ami_sim_data/config/None/None\n"
     ]
    },
    {
     "ename": "AttributeError",
     "evalue": "'FileNotFoundError' object has no attribute '__name__'",
     "output_type": "error",
     "traceback": [
      "\u001b[0;31m---------------------------------------------------------------------------\u001b[0m",
      "\u001b[0;31mFileNotFoundError\u001b[0m                         Traceback (most recent call last)",
      "\u001b[0;32m<ipython-input-16-76e266cd2597>\u001b[0m in \u001b[0;36m<module>\u001b[0;34m\u001b[0m\n\u001b[1;32m      3\u001b[0m \u001b[0;32mtry\u001b[0m\u001b[0;34m:\u001b[0m\u001b[0;34m\u001b[0m\u001b[0;34m\u001b[0m\u001b[0m\n\u001b[0;32m----> 4\u001b[0;31m     \u001b[0mparams\u001b[0m \u001b[0;34m=\u001b[0m \u001b[0mparam_functions\u001b[0m\u001b[0;34m.\u001b[0m\u001b[0msetup\u001b[0m\u001b[0;34m(\u001b[0m\u001b[0mlconsts\u001b[0m\u001b[0;34m,\u001b[0m \u001b[0mkwargs\u001b[0m\u001b[0;34m,\u001b[0m \u001b[0mdescription\u001b[0m\u001b[0;34m=\u001b[0m\u001b[0m__DESCRIPTION__\u001b[0m\u001b[0;34m)\u001b[0m\u001b[0;34m\u001b[0m\u001b[0;34m\u001b[0m\u001b[0m\n\u001b[0m\u001b[1;32m      5\u001b[0m \u001b[0;31m# just so the notebook continues after this\u001b[0m\u001b[0;34m\u001b[0m\u001b[0;34m\u001b[0m\u001b[0;34m\u001b[0m\u001b[0m\n",
      "\u001b[0;32m~/bin/jwst-mtl/AMI/AMI_SIM_MTL/ami_sim_mtl/core/core/param_functions.py\u001b[0m in \u001b[0;36msetup\u001b[0;34m(lconsts, kwargs, description)\u001b[0m\n\u001b[1;32m   1236\u001b[0m     \u001b[0;32mif\u001b[0m \u001b[0mparams\u001b[0m\u001b[0;34m[\u001b[0m\u001b[0;34m'GENERATE_CONFIG_FILE'\u001b[0m\u001b[0;34m]\u001b[0m\u001b[0;34m:\u001b[0m\u001b[0;34m\u001b[0m\u001b[0;34m\u001b[0m\u001b[0m\n\u001b[0;32m-> 1237\u001b[0;31m         \u001b[0m_generate_config_file\u001b[0m\u001b[0;34m(\u001b[0m\u001b[0mparams\u001b[0m\u001b[0;34m)\u001b[0m\u001b[0;34m\u001b[0m\u001b[0;34m\u001b[0m\u001b[0m\n\u001b[0m\u001b[1;32m   1238\u001b[0m \u001b[0;34m\u001b[0m\u001b[0m\n",
      "\u001b[0;32m~/bin/jwst-mtl/AMI/AMI_SIM_MTL/ami_sim_mtl/core/core/param_functions.py\u001b[0m in \u001b[0;36m_generate_config_file\u001b[0;34m(params)\u001b[0m\n\u001b[1;32m   1773\u001b[0m     \u001b[0;31m# write constants file to directory\u001b[0m\u001b[0;34m\u001b[0m\u001b[0;34m\u001b[0m\u001b[0;34m\u001b[0m\u001b[0m\n\u001b[0;32m-> 1774\u001b[0;31m     \u001b[0;32mwith\u001b[0m \u001b[0mopen\u001b[0m\u001b[0;34m(\u001b[0m\u001b[0moutpath\u001b[0m\u001b[0;34m,\u001b[0m \u001b[0;34m'w'\u001b[0m\u001b[0;34m)\u001b[0m \u001b[0;32mas\u001b[0m \u001b[0mf\u001b[0m\u001b[0;34m:\u001b[0m\u001b[0;34m\u001b[0m\u001b[0;34m\u001b[0m\u001b[0m\n\u001b[0m\u001b[1;32m   1775\u001b[0m         \u001b[0;32mfor\u001b[0m \u001b[0mline\u001b[0m \u001b[0;32min\u001b[0m \u001b[0mlines\u001b[0m\u001b[0;34m:\u001b[0m\u001b[0;34m\u001b[0m\u001b[0;34m\u001b[0m\u001b[0m\n",
      "\u001b[0;31mFileNotFoundError\u001b[0m: [Errno 2] No such file or directory: '/home/cook/ami_sim_data/config/None/None'",
      "\nDuring handling of the above exception, another exception occurred:\n",
      "\u001b[0;31mAttributeError\u001b[0m                            Traceback (most recent call last)",
      "\u001b[0;32m<ipython-input-16-76e266cd2597>\u001b[0m in \u001b[0;36m<module>\u001b[0;34m\u001b[0m\n\u001b[1;32m      5\u001b[0m \u001b[0;31m# just so the notebook continues after this\u001b[0m\u001b[0;34m\u001b[0m\u001b[0;34m\u001b[0m\u001b[0;34m\u001b[0m\u001b[0m\n\u001b[1;32m      6\u001b[0m \u001b[0;32mexcept\u001b[0m \u001b[0mException\u001b[0m \u001b[0;32mas\u001b[0m \u001b[0me\u001b[0m\u001b[0;34m:\u001b[0m\u001b[0;34m\u001b[0m\u001b[0;34m\u001b[0m\u001b[0m\n\u001b[0;32m----> 7\u001b[0;31m     \u001b[0mprint\u001b[0m\u001b[0;34m(\u001b[0m\u001b[0;34m'Error {0}: {1}'\u001b[0m\u001b[0;34m.\u001b[0m\u001b[0mformat\u001b[0m\u001b[0;34m(\u001b[0m\u001b[0me\u001b[0m\u001b[0;34m.\u001b[0m\u001b[0m__name__\u001b[0m\u001b[0;34m,\u001b[0m \u001b[0me\u001b[0m\u001b[0;34m)\u001b[0m\u001b[0;34m)\u001b[0m\u001b[0;34m\u001b[0m\u001b[0;34m\u001b[0m\u001b[0m\n\u001b[0m",
      "\u001b[0;31mAttributeError\u001b[0m: 'FileNotFoundError' object has no attribute '__name__'"
     ]
    }
   ],
   "source": [
    "kwargs = dict()                   # this is used for function calls\n",
    "\n",
    "try:\n",
    "    params = param_functions.setup(lconsts, kwargs, description=__DESCRIPTION__)\n",
    "# just so the notebook continues after this\n",
    "except Exception as e:\n",
    "    print('Error {0}: {1}'.format(e.__name__, e))"
   ]
  },
  {
   "cell_type": "markdown",
   "metadata": {},
   "source": [
    "As you can see above this added a file to `./outputs/` called `user_config.ini`\n",
    "\n",
    "This file can be called from the command line using the `--config` argument."
   ]
  },
  {
   "cell_type": "markdown",
   "metadata": {},
   "source": [
    "## 3. The help file"
   ]
  },
  {
   "cell_type": "markdown",
   "metadata": {},
   "source": [
    "As mentioned above the descriptions we gave of `SCENE` will appear in the help file.\n",
    "\n",
    "The help file is accessed as always through `-h` or `--help`. \n",
    "\n",
    "We can emulate this here with `sys.argv`:"
   ]
  },
  {
   "cell_type": "code",
   "execution_count": null,
   "metadata": {},
   "outputs": [],
   "source": [
    "# set the command line arguments (for notebook only)\n",
    "sys.argv = 'test.py --help'.split()"
   ]
  },
  {
   "cell_type": "markdown",
   "metadata": {},
   "source": [
    "which will run when we run the `param_functions.setup` function:"
   ]
  },
  {
   "cell_type": "code",
   "execution_count": null,
   "metadata": {},
   "outputs": [],
   "source": [
    "kwargs = dict()                   # this is used for function calls\n",
    "# ignore the try/except statement here it is just because the -h/--help argument will force an exit of python\n",
    "try:\n",
    "    params = param_functions.setup(lconsts, kwargs, description=__DESCRIPTION__)\n",
    "except SystemExit:\n",
    "    pass"
   ]
  },
  {
   "cell_type": "markdown",
   "metadata": {},
   "source": [
    "## 4. Use in a code"
   ]
  },
  {
   "cell_type": "markdown",
   "metadata": {},
   "source": [
    "We put the main code we with to run in a `__main__()` sub function so we can log and manage exception that come from the code. When we call the code we use the `main()` function that will run the parameter setup and handle any errors from our `__main__()` function. (By handle here I mean deal with exceptions and log/shut things done in a good way).\n",
    "\n",
    "A code using a good setup would look as follows:"
   ]
  },
  {
   "cell_type": "code",
   "execution_count": null,
   "metadata": {},
   "outputs": [],
   "source": [
    "def main(**kwargs):\n",
    "    # get params (run time + config file + constants file)\n",
    "    params = param_functions.setup(lconsts, kwargs,\n",
    "                                   description=__DESCRIPTION__)\n",
    "    # run the __main__ to return products\n",
    "    if not params['GENERATE_CONFIG_FILE']:\n",
    "        # note eventually this will be a call to a function which manages exceptions\n",
    "        return __main__(params)\n",
    "\n",
    "\n",
    "def __main__(params):\n",
    "    # main code here\n",
    "    print('Hello, World')\n",
    "    print('My code goes here')\n",
    "    return params\n",
    "    \n",
    "    "
   ]
  },
  {
   "cell_type": "markdown",
   "metadata": {},
   "source": [
    "This is then called from the main code (or from an import) as follows:"
   ]
  },
  {
   "cell_type": "code",
   "execution_count": null,
   "metadata": {},
   "outputs": [],
   "source": [
    "# For the note book we need to set the command line arguments\n",
    "sys.argv = 'test.py'.split()\n",
    "# run main code\n",
    "ll = main()\n"
   ]
  },
  {
   "cell_type": "markdown",
   "metadata": {},
   "source": [
    "Note to import this it would look as follows:\n",
    "\n",
    "\n",
    "```\n",
    "import paramtest\n",
    "\n",
    "test.main()\n",
    "```\n",
    "\n",
    "\n",
    "where any parameters can be defined in the `.main()` call i.e.:"
   ]
  },
  {
   "cell_type": "code",
   "execution_count": null,
   "metadata": {
    "scrolled": false
   },
   "outputs": [],
   "source": [
    "# just for the notebook\n",
    "sys.path.append('../bin/')\n",
    "# import code\n",
    "import paramtest\n",
    "\n",
    "# the parameter test function just prints out information about the parameters\n",
    "paramtest.main(add_jitter=False, scene='loicfile.fits')"
   ]
  },
  {
   "cell_type": "markdown",
   "metadata": {},
   "source": [
    "Note again the values of `add_jitter` and `scene` and the source location (`kwargs`)"
   ]
  },
  {
   "cell_type": "markdown",
   "metadata": {},
   "source": [
    "## 5. The parameter dictionary (ParamDict)"
   ]
  },
  {
   "cell_type": "markdown",
   "metadata": {},
   "source": [
    "The paremeter dictionary has multiple useful features."
   ]
  },
  {
   "cell_type": "markdown",
   "metadata": {},
   "source": [
    "### 5.1 Parameter dictionary is case-insensitive\n",
    "\n",
    "This means unlike a normal dictionary you only have one value describing and characters i.e.:\n",
    "\n",
    "- PACKAGE_VERSION\n",
    "- Package_Version\n",
    "- package_version\n",
    "- PackAge_VerSion\n",
    "\n",
    "all link to the same constant:"
   ]
  },
  {
   "cell_type": "code",
   "execution_count": null,
   "metadata": {},
   "outputs": [],
   "source": [
    "print('version = ', params['PACKAGE_VERSION'])\n",
    "print('version = ', params['Package_Version'])\n",
    "print('version = ', params['package_version'])\n",
    "print('version = ', params['PackAge_VerSion'])"
   ]
  },
  {
   "cell_type": "markdown",
   "metadata": {},
   "source": [
    "### 5.2 Parameter dictionary is locked\n",
    "\n",
    "In most cases the parameter dictionary `params` should not be added to or modified after the `setup` function. To aid this there is a locking mechanism that will prevent adding to or changing the parameter dictionary:"
   ]
  },
  {
   "cell_type": "code",
   "execution_count": null,
   "metadata": {},
   "outputs": [],
   "source": [
    "params['TEST'] = 2\n",
    "print('TEST = ', params['TEST'])"
   ]
  },
  {
   "cell_type": "code",
   "execution_count": null,
   "metadata": {},
   "outputs": [],
   "source": [
    "params.lock()"
   ]
  },
  {
   "cell_type": "code",
   "execution_count": null,
   "metadata": {},
   "outputs": [],
   "source": [
    "params['TEST'] = 1\n",
    "print('TEST = ', params['TEST'])"
   ]
  },
  {
   "cell_type": "markdown",
   "metadata": {},
   "source": [
    "However in exceptional circumstances it is possible:"
   ]
  },
  {
   "cell_type": "code",
   "execution_count": null,
   "metadata": {},
   "outputs": [],
   "source": [
    "params.set('TEST', value=3, source=__NAME__)\n",
    "print('TEST = ', params['TEST'])"
   ]
  },
  {
   "cell_type": "markdown",
   "metadata": {},
   "source": [
    "### 5.3 Find out where a parameter was defined:"
   ]
  },
  {
   "cell_type": "code",
   "execution_count": null,
   "metadata": {},
   "outputs": [],
   "source": [
    "params.sources['SCENE']"
   ]
  },
  {
   "cell_type": "code",
   "execution_count": null,
   "metadata": {},
   "outputs": [],
   "source": [
    "params.sources['PACKAGE_VERSION']"
   ]
  },
  {
   "cell_type": "markdown",
   "metadata": {},
   "source": [
    "### 5.4 Get information about parameters:"
   ]
  },
  {
   "cell_type": "code",
   "execution_count": null,
   "metadata": {},
   "outputs": [],
   "source": [
    "params.info('SCENE')"
   ]
  },
  {
   "cell_type": "code",
   "execution_count": null,
   "metadata": {},
   "outputs": [],
   "source": [
    "params.info('JITTER_RMS')"
   ]
  },
  {
   "cell_type": "code",
   "execution_count": null,
   "metadata": {},
   "outputs": [],
   "source": [
    "import numpy as np\n",
    "params.set('LOICARRAY', np.arange(100), source='test')\n",
    "\n",
    "params.info('LOICARRAY')\n"
   ]
  },
  {
   "cell_type": "markdown",
   "metadata": {},
   "source": [
    "### 5.5 Lists and dictionaries from strings\n",
    "\n",
    "Because config files and arguments may have trouble with inputs such as list and dictionary the parameter file has special ways to open these, these methods are `listp` and `dictp`."
   ]
  },
  {
   "cell_type": "code",
   "execution_count": null,
   "metadata": {},
   "outputs": [],
   "source": [
    "# lets unlock the parameter dictionary for now\n",
    "params.unlock()\n",
    "\n",
    "# lets define a parameter (that may come from the constants file, config file or command line)\n",
    "# You'll notice the \"list\" here is not like python but just a python string separated by commas\n",
    "params['WAVES'] = '400, 500, 600'"
   ]
  },
  {
   "cell_type": "markdown",
   "metadata": {},
   "source": [
    "To use this 'string list' as a list we have the `listp` method:"
   ]
  },
  {
   "cell_type": "code",
   "execution_count": null,
   "metadata": {},
   "outputs": [],
   "source": [
    "wavelengths = params.listp('WAVES', dtype=float)\n",
    "print(wavelengths)"
   ]
  },
  {
   "cell_type": "markdown",
   "metadata": {},
   "source": [
    "The same is true for dictionaries (note be careful with the use of `'` and `\"`)"
   ]
  },
  {
   "cell_type": "code",
   "execution_count": null,
   "metadata": {},
   "outputs": [],
   "source": [
    "params['COLOURS'] = \"{'red': 'r', 'blue': 'b', 'green': 'g'}\"\n",
    "params['PEOPLE'] = '{\"bob\":10, \"fred\":20, \"chris\": 30}'"
   ]
  },
  {
   "cell_type": "code",
   "execution_count": null,
   "metadata": {},
   "outputs": [],
   "source": [
    "colours = params.dictp('COLOURS')\n",
    "print(colours)"
   ]
  },
  {
   "cell_type": "code",
   "execution_count": null,
   "metadata": {},
   "outputs": [],
   "source": [
    "people = params.dictp('PEOPLE')\n",
    "print(people)"
   ]
  },
  {
   "cell_type": "markdown",
   "metadata": {},
   "source": [
    "In our constants file these would look as follows:\n",
    "\n",
    "    # define the wavelengths\n",
    "    WAVES = 400, 500, 600\n",
    "\n",
    "    # define the colours for plotting\n",
    "    COLOURS = {'red': 'r', 'blue': 'b', 'green': 'g'}\n",
    "\n",
    "    # define the people\n",
    "    PEOPLE = {\"bob\":10, \"fred\":20, \"chris\": 30}\n"
   ]
  },
  {
   "cell_type": "markdown",
   "metadata": {},
   "source": [
    "### 5.6 Finding a parameter\n",
    "\n",
    "There are some useful string methods that are also usable to search for specific keys (useful when there are many constants defined)"
   ]
  },
  {
   "cell_type": "code",
   "execution_count": null,
   "metadata": {},
   "outputs": [],
   "source": [
    "params.startswith('PACK')"
   ]
  },
  {
   "cell_type": "code",
   "execution_count": null,
   "metadata": {},
   "outputs": [],
   "source": [
    "params.contains('JITTER')"
   ]
  },
  {
   "cell_type": "code",
   "execution_count": null,
   "metadata": {},
   "outputs": [],
   "source": [
    "params.endswith('FILE')"
   ]
  },
  {
   "cell_type": "code",
   "execution_count": null,
   "metadata": {},
   "outputs": [],
   "source": [
    "list(params.keys())"
   ]
  },
  {
   "cell_type": "code",
   "execution_count": null,
   "metadata": {},
   "outputs": [],
   "source": []
  }
 ],
 "metadata": {
  "kernelspec": {
   "display_name": "Python 3",
   "language": "python",
   "name": "python3"
  },
  "language_info": {
   "codemirror_mode": {
    "name": "ipython",
    "version": 3
   },
   "file_extension": ".py",
   "mimetype": "text/x-python",
   "name": "python",
   "nbconvert_exporter": "python",
   "pygments_lexer": "ipython3",
   "version": "3.7.6"
  }
 },
 "nbformat": 4,
 "nbformat_minor": 4
}
