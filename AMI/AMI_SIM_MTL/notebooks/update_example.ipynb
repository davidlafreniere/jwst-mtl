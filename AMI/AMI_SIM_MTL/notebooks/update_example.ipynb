{
 "cells": [
  {
   "cell_type": "markdown",
   "source": [
    "# Example showing updates to `ami_mtl`\n",
    "## As of 2021-02-26\n",
    "\n",
    "Below here I just quickly go through some code snippets"
   ],
   "metadata": {
    "collapsed": false,
    "pycharm": {
     "name": "#%% md\n"
    }
   }
  },
  {
   "cell_type": "markdown",
   "metadata": {
    "collapsed": true,
    "pycharm": {
     "name": "#%% md\n"
    }
   },
   "source": [
    "## 1. Preamble\n",
    "\n",
    "Just for testing we set the arguments with `sys`"
   ]
  },
  {
   "cell_type": "code",
   "execution_count": 1,
   "outputs": [],
   "source": [
    "import sys\n",
    "sys.argv = 'test.py --config=/data/jwst_ami/data/neil_wrap/inputs/example.yaml'.split()"
   ],
   "metadata": {
    "collapsed": false,
    "pycharm": {
     "name": "#%%\n"
    }
   }
  },
  {
   "cell_type": "markdown",
   "source": [
    "This stuff will be in our script"
   ],
   "metadata": {
    "collapsed": false,
    "pycharm": {
     "name": "#%% md\n"
    }
   }
  },
  {
   "cell_type": "code",
   "execution_count": 2,
   "outputs": [],
   "source": [
    "from ami_mtl.core.core import param_functions\n",
    "from ami_mtl.core.core import log_functions\n",
    "from ami_mtl.core.instrument import constants\n",
    "from ami_mtl.science import wrap\n",
    "\n",
    "# =============================================================================\n",
    "# Define variables\n",
    "# =============================================================================\n",
    "# set name\n",
    "__NAME__ = 'ami_mtl_wrapper.py'\n",
    "__DESCRIPTION__ = ('wrapper around simulation + extraction + analysis codes '\n",
    "                   'for JWST AMI mode')\n",
    "# get default constants\n",
    "consts = constants.Consts\n",
    "# copy for update\n",
    "lconsts = consts.copy(__NAME__)\n",
    "# set very basic constants\n",
    "__VERSION__ = lconsts.constants['PACKAGE_VERSION'].value\n",
    "__DATE__ = lconsts.constants['PACKAGE_VERSION_DATE'].value\n",
    "# set up the logger (for notebook printing we use log override)\n",
    "log = log_functions.Log(log_override=True)\n",
    "# define group name\n",
    "group = 'recipe'\n",
    "\n",
    "# =============================================================================\n",
    "# Define arguments\n",
    "# =============================================================================\n",
    "# Define the config file\n",
    "lconsts.add_argument('WCONFIG', value=None, dtype=str,\n",
    "                     source=__NAME__, user=True, argument=True,\n",
    "                     group=group,\n",
    "                     description='Define the target as it appears in the '\n",
    "                                 'APT file',\n",
    "                     command=['--config'])"
   ],
   "metadata": {
    "collapsed": false,
    "pycharm": {
     "name": "#%%\n"
    }
   }
  },
  {
   "cell_type": "markdown",
   "source": [
    "## 2. Main code snippets\n",
    "\n",
    "1. Load parameters (from constants files)\n",
    "2. Load simulations"
   ],
   "metadata": {
    "collapsed": false,
    "pycharm": {
     "name": "#%% md\n"
    }
   }
  },
  {
   "cell_type": "code",
   "execution_count": 3,
   "outputs": [],
   "source": [
    "# Load parameters (quiet mode for notebook only)\n",
    "params = param_functions.setup(lconsts, dict(), log=log,\n",
    "                               desc=__DESCRIPTION__, name=__NAME__,\n",
    "                               quiet=True)\n",
    "\n",
    "# note this is for me (print not working in pycharm juptyer notebook)\n",
    "_print = params.log.info"
   ],
   "metadata": {
    "collapsed": false,
    "pycharm": {
     "name": "#%%\n"
    }
   }
  },
  {
   "cell_type": "markdown",
   "source": [
    "Now we can look at what we have (with a nice printout of params)\n",
    "note these are **NOT** from the yaml file"
   ],
   "metadata": {
    "collapsed": false,
    "pycharm": {
     "name": "#%% md\n"
    }
   }
  },
  {
   "cell_type": "code",
   "execution_count": 4,
   "outputs": [
    {
     "data": {
      "text/plain": "ParamDict:\n\n \tDEBUG:                        0                                             # core.instruments.constants.py\n \tUSER_CONFIG_FILE:             None                                          # core.instruments.constants.py\n \tPACKAGE_NAME:                 ami_mtl                                       # core.instruments.constants.py\n \tPACKAGE_VERSION:              0.0.006                                       # core.instruments.constants.py\n \tPACKAGE_VERSION_DATE:         2021-02-17                                    # core.instruments.constants.py\n \tPACKAGE_THEME:                DARK                                          # core.instruments.constants.py\n \tPACKAGE_DIRECTORY:            ami_sim_data                                  # core.instruments.constants.py\n \tGENERATE_CONFIG_FILE:         False                                         # core.instruments.constants.py\n \tDIRECTORY:                    .                                             # core.instruments.constants.py core.core.constant_functions.py._read_from_config_file() [SET]\n \tENV_DIR:                      AMIDIR                                        # core.instruments.constants.py\n \tAPT-TARGETS:                  None                                          # core.instruments.constants.py\n \tAPT-TARGET-NAME:              None                                          # core.instruments.constants.py\n \tAPT-TARGET-RA:                None                                          # core.instruments.constants.py\n \tAPT-TARGET-DEC:               None                                          # core.instruments.constants.py\n \tAPT-TARGET-NGROUP:            None                                          # core.instruments.constants.py\n \tAPT-TARGET-NINT:              None                                          # core.instruments.constants.py\n \tPIX_SCALE:                    0.065                                         # core.instruments.constants.py\n \tALL_FILTERS                   ['F277W', 'F380M', 'F430M', 'F480M']          # core.instruments.constants.py\n \tPUPIL_MASK:                   MASK_NRM                                      # core.instruments.constants.py\n \tPSF_F277W_PATH:               None                                          # core.instruments.constants.py\n \tPSF_F277W_RECOMPUTE:          False                                         # core.instruments.constants.py\n \tPSF_F380M_PATH:               None                                          # core.instruments.constants.py\n \tPSF_F380M_RECOMPUTE:          False                                         # core.instruments.constants.py\n \tPSF_F430M_PATH:               None                                          # core.instruments.constants.py\n \tPSF_F430M_RECOMPUTE:          False                                         # core.instruments.constants.py\n \tPSF_F480M_PATH:               None                                          # core.instruments.constants.py\n \tPSF_F480M_RECOMPUTE:          False                                         # core.instruments.constants.py\n \tFOV_PIXELS:                   79                                            # core.instruments.constants.py\n \tOVERSAMPLE_FACTOR:            11                                            # core.instruments.constants.py\n \tAMISIM-USE:                   True                                          # core.instruments.constants.py\n \tAMISIM-PATH:                  None                                          # core.instruments.constants.py\n \tAMI-SIM-SCENE-F277W:          None                                          # core.instruments.constants.py\n \tAMI-SIM-OUT_F277W:            None                                          # core.instruments.constants.py\n \tAMI-SIM-SCENE-F380M:          None                                          # core.instruments.constants.py\n \tAMI-SIM-OUT_F380M:            None                                          # core.instruments.constants.py\n \tAMI-SIM-SCENE-F430M:          None                                          # core.instruments.constants.py\n \tAMI-SIM-OUT_F430M:            None                                          # core.instruments.constants.py\n \tAMI-SIM-SCENE-F480M:          None                                          # core.instruments.constants.py\n \tAMI-SIM-OUT_F480M:            None                                          # core.instruments.constants.py\n \tAMISMI-UPTHERAMP:             False                                         # core.instruments.constants.py\n \tAMISMI-CREATE_CALIBRATOR:     0                                             # core.instruments.constants.py\n \tAMISIM-OVERWRITE:             1                                             # core.instruments.constants.py\n \tAMISIM-UNIFORM_FLATFIELD:     0                                             # core.instruments.constants.py\n \tAMISIM-OVERWRITE_FLATFIELD:   0                                             # core.instruments.constants.py\n \tAMISIM-RANDOM_SEED:           1                                             # core.instruments.constants.py\n \tAMISIM-VERBOSE:               1                                             # core.instruments.constants.py\n \tAMISIM-APPLY_JITTER:          0                                             # core.instruments.constants.py\n \tAMISIM-APPLY_DITHER:          0                                             # core.instruments.constants.py\n \tAMISIM-INCLUDE_DET_NOISE:     1                                             # core.instruments.constants.py\n \tAMISIM-INSTALL:               None                                          # core.instruments.constants.py\n \tAMISIM-PACKAGE:               ami_sim.driver_scene                          # core.instruments.constants.py\n \tAMISIM-MODULES:               ami_sim.pyami                                 # core.instruments.constants.py\n \tMIRAGE-USE:                   True                                          # core.instruments.constants.py\n \tWCONFIG:                      /data/jwst_ami/data/neil_wrap/inputs/exa      # sys.argv\n \tCONFIGDIR:                    config                                        # core.core.constant_functions.py._read_from_config_file()\n \tPID:                          PID-00016143607856538020-FT7X                 # core.core.constant_functions.py.setup()\n \tPIDTIME:                      2021-02-26 17:33:05.654                       # core.core.constant_functions.py.setup()\n \tINPUTDIR:                     inputs                                        # core.core.constant_functions.py._setup_working_directory()\n \tOUTPUTDIR:                    outputs                                       # core.core.constant_functions.py._setup_working_directory()\n \tLOGDIR:                       log                                           # core.core.constant_functions.py._setup_working_directory()\n \tLOGFILE:                      log/LOG-ami_mtl_wrapper-PID-000161436078      # core.core.constant_functions.py._setup_working_directory()"
     },
     "execution_count": 4,
     "metadata": {},
     "output_type": "execute_result"
    }
   ],
   "source": [
    "params\n"
   ],
   "metadata": {
    "collapsed": false,
    "pycharm": {
     "name": "#%%\n"
    }
   }
  },
  {
   "cell_type": "markdown",
   "source": [
    "## 2.1 The Yaml file\n",
    "\n",
    "Let's look at the yaml file (loaded in `params['WCONFIG']`)\n",
    "\n",
    "You'll see its just a dictionary of dictionarys (like any other standard yaml file)\n"
   ],
   "metadata": {
    "collapsed": false,
    "pycharm": {
     "name": "#%% md\n"
    }
   }
  },
  {
   "cell_type": "code",
   "execution_count": 5,
   "outputs": [
    {
     "data": {
      "text/plain": "{'Simulation1': {'name': 'Simulation 1',\n  'xmlpath': '/data/jwst_ami/data/neil_wrap/inputs/jwst_ami_p23_example.xml',\n  'filters': ['F380M', 'F480M'],\n  'target': {'name': 'HD-218396',\n   'ra': 'None',\n   'dec': 'None',\n   'pmra': 'None',\n   'pmdec': 'None',\n   'magnitude': {'F277W': 12.123,\n    'F380M': 12.123,\n    'F430M': 12.123,\n    'F480M': 12.123},\n   'companion1': {'kind': 'planet',\n    'name': 'planet1',\n    'separation': 0.5,\n    'pa': 90,\n    'dmag': {'F277W': 20.123,\n     'F380M': 20.123,\n     'F430M': 20.123,\n     'F480M': 20.123}},\n   'companion2': {'kind': 'planet',\n    'name': 'planet2',\n    'separation': 1.0,\n    'pa': 180,\n    'dmag': {'F277W': 20.123,\n     'F380M': 20.123,\n     'F430M': 20.123,\n     'F480M': 20.123}}},\n  'calibrator1': {'name': 'HD-218172',\n   'tot_exp': 'None',\n   'ext_flux': 'None',\n   'magnitude': {'F277W': 10.123,\n    'F380M': 10.123,\n    'F430M': 10.123,\n    'F480M': 10.123}}},\n 'parameters': {'general': {'in_dir': '/data/jwst_ami/data/neil_wrap',\n   'out_dir': '/data/jwst_ami/data/neil_wrap'},\n  'instrument': {'pix_scale': 0.065},\n  'simulation': {'psf': {'F380M': {'path': '/data/jwst_ami/data/neil_wrap/psfs/psf_F380M.fits',\n     'recompute_psf': False},\n    'F480M': {'path': '/data/jwst_ami/data/neil_wrap/psfs/psf_F480M.fits',\n     'recompute_psf': False}},\n   'fov_pixels': 79,\n   'oversample': 11},\n  'ami-sim': {'use': True,\n   'path': '/data/jwst_ami/data/neil_wrap/amisim/',\n   'uptheramp': 0,\n   'create_calibrator': 0,\n   'overwrite': 1,\n   'uniform_flatfield': 0,\n   'overwrite_flatfield': 0,\n   'random-seed': 1,\n   'include-det-noise': 1,\n   'install-dir': '/data/jwst_ami/bin/ami_sim',\n   'package': 'ami_sim.driver_scene',\n   'modules': 'ami_sim.pyami',\n   'scene': {'F380M': '/data/jwst_ami/data/neil_wrap/amisim/file.fits',\n    'F480M': '/data/jwst_ami/data/neil_wrap/amisim/file.fits'},\n   'out': {'F380M': '/data/jwst_ami/data/neil_wrap/amisim/file.fits',\n    'F480M': '/data/jwst_ami/data/neil_wrap/amisim/file.fits'}},\n  'mirage': {'use': False, 'test1': True, 'test2': False},\n  'dms': {'use': False, 'test1': True, 'test2': False},\n  'ami-cal': {'use': False, 'test1': True, 'test2': False},\n  'implaneia': {'use': False}}}"
     },
     "execution_count": 5,
     "metadata": {},
     "output_type": "execute_result"
    }
   ],
   "source": [
    "import yaml\n",
    "\n",
    "with open(str(params['WCONFIG'])) as yfile:\n",
    "    properties = yaml.load(yfile, Loader=yaml.FullLoader)\n",
    "\n",
    "\n",
    "properties"
   ],
   "metadata": {
    "collapsed": false,
    "pycharm": {
     "name": "#%%\n"
    }
   }
  },
  {
   "cell_type": "markdown",
   "source": [
    "\n",
    "## 2.2 The Simulation class\n",
    "Now we load the simulations"
   ],
   "metadata": {
    "collapsed": false,
    "pycharm": {
     "name": "#%% md\n"
    }
   }
  },
  {
   "cell_type": "code",
   "source": [
    "simulations = wrap.load_simulations(params, str(params['WCONFIG']))"
   ],
   "metadata": {
    "collapsed": false,
    "pycharm": {
     "name": "#%%\n"
    }
   },
   "execution_count": 6,
   "outputs": [
    {
     "name": "stderr",
     "output_type": "stream",
     "text": [
      "Reading XML: /data/jwst_ami/data/neil_wrap/inputs/jwst_ami_p23_example.xml\n"
     ]
    }
   ]
  },
  {
   "cell_type": "markdown",
   "source": [
    "We have a list of `Simulation` classes, lets look at the first simulation"
   ],
   "metadata": {
    "collapsed": false,
    "pycharm": {
     "name": "#%% md\n"
    }
   }
  },
  {
   "cell_type": "code",
   "execution_count": 7,
   "outputs": [
    {
     "name": "stderr",
     "output_type": "stream",
     "text": [
      "Length of simulations: 1\n"
     ]
    }
   ],
   "source": [
    "# print the length\n",
    "_print('Length of simulations: {0}'.format(len(simulations)))"
   ],
   "metadata": {
    "collapsed": false,
    "pycharm": {
     "name": "#%%\n"
    }
   }
  },
  {
   "cell_type": "code",
   "execution_count": 18,
   "outputs": [
    {
     "name": "stderr",
     "output_type": "stream",
     "text": [
      "Simulation name: SIMULATION_1\n",
      "        key = name\n",
      "        key = params\n",
      "        key = xmlpath\n",
      "        key = use_filters\n",
      "        key = target\n",
      "        key = calibrators\n"
     ]
    }
   ],
   "source": [
    "# get the first simulation\n",
    "simulation1 = simulations[0]\n",
    "\n",
    "# look at the attributes a Simulation has\n",
    "_print('Simulation name: {0}'.format(simulation1.name))\n",
    "for key in simulation1.__dict__:\n",
    "    _print('\\tkey = {0}'.format(key))"
   ],
   "metadata": {
    "collapsed": false,
    "pycharm": {
     "name": "#%%\n"
    }
   }
  },
  {
   "cell_type": "markdown",
   "source": [
    "Now we can look at some of these in more detail:"
   ],
   "metadata": {
    "collapsed": false,
    "pycharm": {
     "name": "#%% md\n"
    }
   }
  },
  {
   "cell_type": "markdown",
   "source": [
    "- this is the xml file path that was loaded"
   ],
   "metadata": {
    "collapsed": false
   }
  },
  {
   "cell_type": "code",
   "execution_count": 10,
   "outputs": [
    {
     "name": "stderr",
     "output_type": "stream",
     "text": [
      "Simulation xmlpath:\n",
      "\t/data/jwst_ami/data/neil_wrap/inputs/jwst_ami_p23_example.xml\n"
     ]
    }
   ],
   "source": [
    "_print('Simulation xmlpath: {0}'.format(simulation1.xmlpath))"
   ],
   "metadata": {
    "collapsed": false,
    "pycharm": {
     "name": "#%%\n"
    }
   }
  },
  {
   "cell_type": "markdown",
   "source": [
    "- this is the simulation filters that are to be used"
   ],
   "metadata": {
    "collapsed": false
   }
  },
  {
   "cell_type": "code",
   "execution_count": 11,
   "outputs": [
    {
     "name": "stderr",
     "output_type": "stream",
     "text": [
      "Simulation filters: ['F380M', 'F480M']\n"
     ]
    }
   ],
   "source": [
    "_print('Simulation filters: {0}'.format(simulation1.use_filters))"
   ],
   "metadata": {
    "collapsed": false,
    "pycharm": {
     "name": "#%%\n"
    }
   }
  },
  {
   "cell_type": "markdown",
   "source": [
    "- these are the two classes that hold the target and calibrators:"
   ],
   "metadata": {
    "collapsed": false
   }
  },
  {
   "cell_type": "code",
   "execution_count": 12,
   "outputs": [
    {
     "name": "stderr",
     "output_type": "stream",
     "text": [
      "Target: Target[HD_218396]\n",
      "Calibrators: [Calibrator[HD_218172]]\n"
     ]
    }
   ],
   "source": [
    "_print('Target: {0}'.format(simulation1.target))\n",
    "\n",
    "_print('Calibrators: {0}'.format(simulation1.calibrators))"
   ],
   "metadata": {
    "collapsed": false,
    "pycharm": {
     "name": "#%%\n"
    }
   }
  },
  {
   "cell_type": "markdown",
   "source": [
    "## 2.3 The Target class"
   ],
   "metadata": {
    "collapsed": false,
    "pycharm": {
     "name": "#%% md\n"
    }
   }
  },
  {
   "cell_type": "code",
   "execution_count": 13,
   "outputs": [],
   "source": [
    "target = simulation1.target"
   ],
   "metadata": {
    "collapsed": false,
    "pycharm": {
     "name": "#%%\n"
    }
   }
  },
  {
   "cell_type": "markdown",
   "source": [
    "look at the attributes the target has"
   ],
   "metadata": {
    "collapsed": false
   }
  },
  {
   "cell_type": "code",
   "execution_count": 17,
   "outputs": [
    {
     "name": "stderr",
     "output_type": "stream",
     "text": [
      "Target name: HD_218396\n",
      "        key = params\n",
      "        key = properties\n",
      "        key = name\n",
      "        key = raw_magnitudes\n",
      "        key = magnitudes\n",
      "        key = companions\n"
     ]
    }
   ],
   "source": [
    "_print('Target name: {0}'.format(target.name))\n",
    "for key in target.__dict__:\n",
    "    _print('\\tkey = {0}'.format(key))"
   ],
   "metadata": {
    "collapsed": false,
    "pycharm": {
     "name": "#%%\n"
    }
   }
  },
  {
   "cell_type": "markdown",
   "source": [
    "where the companions list contains information about the companions:"
   ],
   "metadata": {
    "collapsed": false
   }
  },
  {
   "cell_type": "code",
   "source": [
    "for companion in target.companions:\n",
    "    _print('Companion name: {0}'.format(companion.name))\n",
    "    for key in companion.__dict__:\n",
    "        _print('\\tkey = {0}'.format(key))"
   ],
   "metadata": {
    "collapsed": false,
    "pycharm": {
     "name": "#%%\n"
    }
   },
   "execution_count": 15,
   "outputs": [
    {
     "name": "stderr",
     "output_type": "stream",
     "text": [
      "Companion name: PLANET1\n",
      "        key = params\n",
      "        key = properties\n",
      "        key = name\n",
      "        key = raw_magnitudes\n",
      "        key = magnitudes\n",
      "        key = kind\n",
      "        key = separation\n",
      "        key = position_angle\n",
      "Companion name: PLANET2\n",
      "        key = params\n",
      "        key = properties\n",
      "        key = name\n",
      "        key = raw_magnitudes\n",
      "        key = magnitudes\n",
      "        key = kind\n",
      "        key = separation\n",
      "        key = position_angle\n"
     ]
    }
   ]
  },
  {
   "cell_type": "markdown",
   "source": [
    "## 2.3 The Calibrator class"
   ],
   "metadata": {
    "collapsed": false,
    "pycharm": {
     "name": "#%% md\n"
    }
   }
  },
  {
   "cell_type": "code",
   "execution_count": null,
   "outputs": [],
   "source": [
    "target = simulation1.target"
   ],
   "metadata": {
    "collapsed": false,
    "pycharm": {
     "name": "#%%\n"
    }
   }
  },
  {
   "cell_type": "markdown",
   "source": [
    "look at the attributes each calibrator has:"
   ],
   "metadata": {
    "collapsed": false
   }
  },
  {
   "cell_type": "code",
   "execution_count": 19,
   "outputs": [
    {
     "name": "stderr",
     "output_type": "stream",
     "text": [
      "Calibrator name: HD_218396\n",
      "        key = params\n",
      "        key = properties\n",
      "        key = name\n",
      "        key = raw_magnitudes\n",
      "        key = magnitudes\n",
      "        key = companions\n"
     ]
    }
   ],
   "source": [
    "for calibrator in simulation1.calibrators:\n",
    "\n",
    "    _print('Calibrator name: {0}'.format(target.name))\n",
    "    for key in target.__dict__:\n",
    "        _print('\\tkey = {0}'.format(key))\n"
   ],
   "metadata": {
    "collapsed": false,
    "pycharm": {
     "name": "#%%\n"
    }
   }
  },
  {
   "cell_type": "markdown",
   "source": [
    "# 3. How we use the simulation class\n",
    "\n",
    "## 3.1 Simulation\n",
    "\n",
    "Using the simluation class"
   ],
   "metadata": {
    "collapsed": false,
    "pycharm": {
     "name": "#%% md\n"
    }
   }
  },
  {
   "cell_type": "code",
   "execution_count": null,
   "outputs": [],
   "source": [
    "# >> simulations = wrap.sim_module(simulations)"
   ],
   "metadata": {
    "collapsed": false,
    "pycharm": {
     "name": "#%%\n"
    }
   }
  },
  {
   "cell_type": "markdown",
   "source": [
    "Runs simulations for AMI-SIM for target and for calibrators\n",
    "using `simulation.params['AMISIM-USE']` (missing some functionality)\n",
    "\n",
    "Runs (unfinished) Mirage for target and for calibrators\n",
    "using `simulation.params['MIRAGE-USE']`"
   ],
   "metadata": {
    "collapsed": false
   }
  },
  {
   "cell_type": "markdown",
   "source": [
    "## 3.2 DMS"
   ],
   "metadata": {
    "collapsed": false
   }
  },
  {
   "cell_type": "code",
   "execution_count": null,
   "outputs": [],
   "source": [
    "# >> simulations = wrap.dms_module(simulations)"
   ],
   "metadata": {
    "collapsed": false,
    "pycharm": {
     "name": "#%%\n"
    }
   }
  },
  {
   "cell_type": "markdown",
   "source": [
    "## 3.3 Extraction"
   ],
   "metadata": {
    "collapsed": false
   }
  },
  {
   "cell_type": "code",
   "execution_count": null,
   "outputs": [],
   "source": [
    "# >> simulations = wrap.extract_module(simulations)"
   ],
   "metadata": {
    "collapsed": false,
    "pycharm": {
     "name": "#%%\n"
    }
   }
  },
  {
   "cell_type": "markdown",
   "source": [
    "## 3.4 Analysis"
   ],
   "metadata": {
    "collapsed": false
   }
  },
  {
   "cell_type": "code",
   "execution_count": null,
   "outputs": [],
   "source": [
    "# >> simulations = wrap.analysis_modeul(simulations)"
   ],
   "metadata": {
    "collapsed": false,
    "pycharm": {
     "name": "#%%\n"
    }
   }
  },
  {
   "cell_type": "markdown",
   "source": [
    "# 4. Currently missing\n",
    "\n",
    "1. Need function to go from `mag[fitler]` to `flux [e-/s]`\n",
    "2. Need function to go from `dmag[filter]` to `contrast`\n",
    "\n",
    "Then the simulation (AMI-SIM) could work\n",
    "\n",
    "3. Add in dms routines (take simulations through jwst pipeline)\n",
    "4. Add in extraction (AMI-CAL and or ImPlaneIA)\n",
    "5. Add in analysis (AMI-CAL and or ImPlaneIA)"
   ],
   "metadata": {
    "collapsed": false
   }
  }
 ],
 "metadata": {
  "kernelspec": {
   "display_name": "Python 3",
   "language": "python",
   "name": "python3"
  },
  "language_info": {
   "codemirror_mode": {
    "name": "ipython",
    "version": 2
   },
   "file_extension": ".py",
   "mimetype": "text/x-python",
   "name": "python",
   "nbconvert_exporter": "python",
   "pygments_lexer": "ipython2",
   "version": "2.7.6"
  }
 },
 "nbformat": 4,
 "nbformat_minor": 0
}